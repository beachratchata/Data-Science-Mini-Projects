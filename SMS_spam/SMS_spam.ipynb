{
 "cells": [
  {
   "cell_type": "code",
   "execution_count": 1,
   "id": "65742fd8-8746-4310-8d1d-ee582f7e0655",
   "metadata": {},
   "outputs": [],
   "source": [
    "import pandas as pd\n",
    "import matplotlib.pyplot as plt \n",
    "import seaborn as sns \n",
    "import numpy as np\n",
    "from nltk.corpus import stopwords\n",
    "from collections import Counter\n",
    "import string\n",
    "import warnings\n",
    "warnings.filterwarnings('ignore')"
   ]
  },
  {
   "cell_type": "code",
   "execution_count": 2,
   "id": "c3e27cb1-602d-48e1-adf1-78b96a1d6c8d",
   "metadata": {},
   "outputs": [],
   "source": [
    "from sklearn.linear_model import LogisticRegression\n",
    "from sklearn.naive_bayes import MultinomialNB\n",
    "from sklearn.model_selection import train_test_split , GridSearchCV\n",
    "from sklearn.feature_extraction.text import TfidfVectorizer\n",
    "from sklearn.preprocessing import LabelEncoder\n",
    "from sklearn.metrics import *"
   ]
  },
  {
   "cell_type": "code",
   "execution_count": 3,
   "id": "2fe1d092-7c2b-49ce-8cd4-c9c672dcb6ce",
   "metadata": {},
   "outputs": [
    {
     "data": {
      "text/html": [
       "<div>\n",
       "<style scoped>\n",
       "    .dataframe tbody tr th:only-of-type {\n",
       "        vertical-align: middle;\n",
       "    }\n",
       "\n",
       "    .dataframe tbody tr th {\n",
       "        vertical-align: top;\n",
       "    }\n",
       "\n",
       "    .dataframe thead th {\n",
       "        text-align: right;\n",
       "    }\n",
       "</style>\n",
       "<table border=\"1\" class=\"dataframe\">\n",
       "  <thead>\n",
       "    <tr style=\"text-align: right;\">\n",
       "      <th></th>\n",
       "      <th>v1</th>\n",
       "      <th>v2</th>\n",
       "      <th>Unnamed: 2</th>\n",
       "      <th>Unnamed: 3</th>\n",
       "      <th>Unnamed: 4</th>\n",
       "    </tr>\n",
       "  </thead>\n",
       "  <tbody>\n",
       "    <tr>\n",
       "      <th>0</th>\n",
       "      <td>ham</td>\n",
       "      <td>Go until jurong point, crazy.. Available only ...</td>\n",
       "      <td>NaN</td>\n",
       "      <td>NaN</td>\n",
       "      <td>NaN</td>\n",
       "    </tr>\n",
       "    <tr>\n",
       "      <th>1</th>\n",
       "      <td>ham</td>\n",
       "      <td>Ok lar... Joking wif u oni...</td>\n",
       "      <td>NaN</td>\n",
       "      <td>NaN</td>\n",
       "      <td>NaN</td>\n",
       "    </tr>\n",
       "    <tr>\n",
       "      <th>2</th>\n",
       "      <td>spam</td>\n",
       "      <td>Free entry in 2 a wkly comp to win FA Cup fina...</td>\n",
       "      <td>NaN</td>\n",
       "      <td>NaN</td>\n",
       "      <td>NaN</td>\n",
       "    </tr>\n",
       "    <tr>\n",
       "      <th>3</th>\n",
       "      <td>ham</td>\n",
       "      <td>U dun say so early hor... U c already then say...</td>\n",
       "      <td>NaN</td>\n",
       "      <td>NaN</td>\n",
       "      <td>NaN</td>\n",
       "    </tr>\n",
       "    <tr>\n",
       "      <th>4</th>\n",
       "      <td>ham</td>\n",
       "      <td>Nah I don't think he goes to usf, he lives aro...</td>\n",
       "      <td>NaN</td>\n",
       "      <td>NaN</td>\n",
       "      <td>NaN</td>\n",
       "    </tr>\n",
       "  </tbody>\n",
       "</table>\n",
       "</div>"
      ],
      "text/plain": [
       "     v1                                                 v2 Unnamed: 2  \\\n",
       "0   ham  Go until jurong point, crazy.. Available only ...        NaN   \n",
       "1   ham                      Ok lar... Joking wif u oni...        NaN   \n",
       "2  spam  Free entry in 2 a wkly comp to win FA Cup fina...        NaN   \n",
       "3   ham  U dun say so early hor... U c already then say...        NaN   \n",
       "4   ham  Nah I don't think he goes to usf, he lives aro...        NaN   \n",
       "\n",
       "  Unnamed: 3 Unnamed: 4  \n",
       "0        NaN        NaN  \n",
       "1        NaN        NaN  \n",
       "2        NaN        NaN  \n",
       "3        NaN        NaN  \n",
       "4        NaN        NaN  "
      ]
     },
     "execution_count": 3,
     "metadata": {},
     "output_type": "execute_result"
    }
   ],
   "source": [
    "sms = pd.read_csv('spam.csv')\n",
    "sms.head()"
   ]
  },
  {
   "cell_type": "code",
   "execution_count": 4,
   "id": "fa8ab96a-0019-410b-b0c5-352b5e953401",
   "metadata": {},
   "outputs": [],
   "source": [
    "sms = sms[['v1','v2']]\n",
    "sms.columns = ['class' , 'message']"
   ]
  },
  {
   "cell_type": "code",
   "execution_count": 5,
   "id": "6a50874d-761d-4bc6-8c47-b2097bd59fc5",
   "metadata": {},
   "outputs": [],
   "source": [
    "plt.style.use('ggplot')"
   ]
  },
  {
   "cell_type": "code",
   "execution_count": 6,
   "id": "3c658b9a-3b71-43e7-b2c0-48c078faf1d4",
   "metadata": {},
   "outputs": [
    {
     "data": {
      "image/png": "[encoded data removed]",
      "text/plain": [
       "<Figure size 432x288 with 1 Axes>"
      ]
     },
     "metadata": {},
     "output_type": "display_data"
    }
   ],
   "source": [
    "sns.countplot(data=sms , y='class' , palette='magma');"
   ]
  },
  {
   "cell_type": "code",
   "execution_count": 7,
   "id": "10c9f71e-b839-4bd6-a77b-80e98790767e",
   "metadata": {},
   "outputs": [],
   "source": [
    "sms['message_len'] = sms['message'].map(len)"
   ]
  },
  {
   "cell_type": "code",
   "execution_count": 8,
   "id": "921182bd-f765-460c-bca5-98e11139175d",
   "metadata": {},
   "outputs": [
    {
     "data": {
      "image/png": "[encoded data removed]",
      "text/plain": [
       "<Figure size 864x504 with 1 Axes>"
      ]
     },
     "metadata": {},
     "output_type": "display_data"
    }
   ],
   "source": [
    "plt.figure(figsize=(12,7))\n",
    "sns.histplot(data=sms[sms['class'] == 'ham'] ,x='message_len', bins=80 , label='ham' , color='green')\n",
    "sns.histplot(data=sms[sms['class'] == 'spam'] ,x='message_len', bins=20, label='spam' , color='red' , alpha=0.5)\n",
    "plt.legend();"
   ]
  },
  {
   "cell_type": "code",
   "execution_count": 9,
   "id": "12d8a9cf-639e-43c2-994b-25a3f033a6b2",
   "metadata": {},
   "outputs": [],
   "source": [
    "stop = set(stopwords.words('english'))"
   ]
  },
  {
   "cell_type": "code",
   "execution_count": 10,
   "id": "a2540067-2f51-4376-be5d-6d65f05c7f97",
   "metadata": {},
   "outputs": [],
   "source": [
    "def text_clean(message):\n",
    "    clean = [c for c in message if c not in string.punctuation]\n",
    "    clean = ''.join(clean)\n",
    "    clean = [word for word in clean.split() if word.lower() not in stop]\n",
    "    clean = ' '.join(clean)\n",
    "    \n",
    "    return clean"
   ]
  },
  {
   "cell_type": "code",
   "execution_count": 11,
   "id": "30b66b97-cb17-4332-9869-7b794be30e50",
   "metadata": {},
   "outputs": [
    {
     "data": {
      "text/plain": [
       "\"I'm gonna be home soon and i don't want to talk about this stuff anymore tonight, k? I've cried enough today.\""
      ]
     },
     "execution_count": 11,
     "metadata": {},
     "output_type": "execute_result"
    }
   ],
   "source": [
    "sms['message'][10]"
   ]
  },
  {
   "cell_type": "code",
   "execution_count": 12,
   "id": "04fb3d8e-d5a7-4a50-8176-0ee7078adfe1",
   "metadata": {},
   "outputs": [
    {
     "data": {
      "text/plain": [
       "'Im gonna home soon dont want talk stuff anymore tonight k Ive cried enough today'"
      ]
     },
     "execution_count": 12,
     "metadata": {},
     "output_type": "execute_result"
    }
   ],
   "source": [
    "text_clean(sms['message'][10])"
   ]
  },
  {
   "cell_type": "code",
   "execution_count": 13,
   "id": "ba5db0dc-1132-4f23-9bb1-09f1a98e7d84",
   "metadata": {},
   "outputs": [],
   "source": [
    "sms['message_clean'] = sms['message'].map(text_clean)"
   ]
  },
  {
   "cell_type": "code",
   "execution_count": 14,
   "id": "40928145-d09d-4a00-a27b-3b4a7db1c9c9",
   "metadata": {},
   "outputs": [
    {
     "data": {
      "text/html": [
       "<div>\n",
       "<style scoped>\n",
       "    .dataframe tbody tr th:only-of-type {\n",
       "        vertical-align: middle;\n",
       "    }\n",
       "\n",
       "    .dataframe tbody tr th {\n",
       "        vertical-align: top;\n",
       "    }\n",
       "\n",
       "    .dataframe thead th {\n",
       "        text-align: right;\n",
       "    }\n",
       "</style>\n",
       "<table border=\"1\" class=\"dataframe\">\n",
       "  <thead>\n",
       "    <tr style=\"text-align: right;\">\n",
       "      <th></th>\n",
       "      <th>class</th>\n",
       "      <th>message</th>\n",
       "      <th>message_len</th>\n",
       "      <th>message_clean</th>\n",
       "    </tr>\n",
       "  </thead>\n",
       "  <tbody>\n",
       "    <tr>\n",
       "      <th>0</th>\n",
       "      <td>ham</td>\n",
       "      <td>Go until jurong point, crazy.. Available only ...</td>\n",
       "      <td>111</td>\n",
       "      <td>Go jurong point crazy Available bugis n great ...</td>\n",
       "    </tr>\n",
       "    <tr>\n",
       "      <th>1</th>\n",
       "      <td>ham</td>\n",
       "      <td>Ok lar... Joking wif u oni...</td>\n",
       "      <td>29</td>\n",
       "      <td>Ok lar Joking wif u oni</td>\n",
       "    </tr>\n",
       "    <tr>\n",
       "      <th>2</th>\n",
       "      <td>spam</td>\n",
       "      <td>Free entry in 2 a wkly comp to win FA Cup fina...</td>\n",
       "      <td>155</td>\n",
       "      <td>Free entry 2 wkly comp win FA Cup final tkts 2...</td>\n",
       "    </tr>\n",
       "    <tr>\n",
       "      <th>3</th>\n",
       "      <td>ham</td>\n",
       "      <td>U dun say so early hor... U c already then say...</td>\n",
       "      <td>49</td>\n",
       "      <td>U dun say early hor U c already say</td>\n",
       "    </tr>\n",
       "    <tr>\n",
       "      <th>4</th>\n",
       "      <td>ham</td>\n",
       "      <td>Nah I don't think he goes to usf, he lives aro...</td>\n",
       "      <td>61</td>\n",
       "      <td>Nah dont think goes usf lives around though</td>\n",
       "    </tr>\n",
       "  </tbody>\n",
       "</table>\n",
       "</div>"
      ],
      "text/plain": [
       "  class                                            message  message_len  \\\n",
       "0   ham  Go until jurong point, crazy.. Available only ...          111   \n",
       "1   ham                      Ok lar... Joking wif u oni...           29   \n",
       "2  spam  Free entry in 2 a wkly comp to win FA Cup fina...          155   \n",
       "3   ham  U dun say so early hor... U c already then say...           49   \n",
       "4   ham  Nah I don't think he goes to usf, he lives aro...           61   \n",
       "\n",
       "                                       message_clean  \n",
       "0  Go jurong point crazy Available bugis n great ...  \n",
       "1                            Ok lar Joking wif u oni  \n",
       "2  Free entry 2 wkly comp win FA Cup final tkts 2...  \n",
       "3                U dun say early hor U c already say  \n",
       "4        Nah dont think goes usf lives around though  "
      ]
     },
     "execution_count": 14,
     "metadata": {},
     "output_type": "execute_result"
    }
   ],
   "source": [
    "sms.head()"
   ]
  },
  {
   "cell_type": "code",
   "execution_count": 15,
   "id": "bb7afe31-d69f-49c7-9374-df73cd7e32c0",
   "metadata": {},
   "outputs": [],
   "source": [
    "ham = sms[sms['class'] == 'ham']['message_clean']\n",
    "spam = sms[sms['class'] == 'spam']['message_clean']"
   ]
  },
  {
   "cell_type": "code",
   "execution_count": 16,
   "id": "71256d84-b762-4e8f-bf44-8ef56906458d",
   "metadata": {},
   "outputs": [
    {
     "data": {
      "text/plain": [
       "'Go jurong point crazy Available bugis n great world la e buffet Cine got amore wat'"
      ]
     },
     "execution_count": 16,
     "metadata": {},
     "output_type": "execute_result"
    }
   ],
   "source": [
    "ham[0]"
   ]
  },
  {
   "cell_type": "code",
   "execution_count": 17,
   "id": "b1748564-831e-4760-9b06-ebb6a40ef500",
   "metadata": {},
   "outputs": [
    {
     "data": {
      "text/plain": [
       "['go',\n",
       " 'jurong',\n",
       " 'point',\n",
       " 'crazy',\n",
       " 'available',\n",
       " 'bugis',\n",
       " 'n',\n",
       " 'great',\n",
       " 'world',\n",
       " 'la',\n",
       " 'e',\n",
       " 'buffet',\n",
       " 'cine',\n",
       " 'got',\n",
       " 'amore',\n",
       " 'wat']"
      ]
     },
     "execution_count": 17,
     "metadata": {},
     "output_type": "execute_result"
    }
   ],
   "source": [
    "ham[0].lower().split()"
   ]
  },
  {
   "cell_type": "code",
   "execution_count": 18,
   "id": "4d1644fb-bc76-4918-91ac-c1493164c23f",
   "metadata": {},
   "outputs": [],
   "source": [
    "ham_count = ham.map(lambda x : [word.lower() for word in x.split()])\n",
    "spam_count = spam.map(lambda x : [word.lower() for word in x.split()])"
   ]
  },
  {
   "cell_type": "code",
   "execution_count": 19,
   "id": "17e0bc3c-d3ce-4c92-85a9-560dfb397dcd",
   "metadata": {},
   "outputs": [],
   "source": [
    "count = Counter()\n",
    "for i in ham_count:\n",
    "    count.update(i)\n",
    "ham_most20 = count.most_common(20)"
   ]
  },
  {
   "cell_type": "code",
   "execution_count": 20,
   "id": "74dac2fa-12d2-4f18-9db9-6db64f8276ab",
   "metadata": {},
   "outputs": [],
   "source": [
    "count = Counter()\n",
    "for i in spam_count:\n",
    "    count.update(i)\n",
    "spam_most20 = count.most_common(20)"
   ]
  },
  {
   "cell_type": "code",
   "execution_count": 21,
   "id": "e439a465-685a-4a93-aa45-f2520bcfdf9b",
   "metadata": {},
   "outputs": [],
   "source": [
    "ham_most20 = pd.DataFrame(ham_most20 , columns=['text' , 'count'])\n",
    "spam_most20 = pd.DataFrame(spam_most20 , columns=['text' , 'count'])"
   ]
  },
  {
   "cell_type": "code",
   "execution_count": 22,
   "id": "76aed550-9c01-4ad5-b33a-71242d8a459a",
   "metadata": {},
   "outputs": [
    {
     "data": {
      "image/png": "[encoded data removed]",
      "text/plain": [
       "<Figure size 720x360 with 1 Axes>"
      ]
     },
     "metadata": {},
     "output_type": "display_data"
    }
   ],
   "source": [
    "plt.figure(figsize=(10,5))\n",
    "sns.barplot(data=ham_most20 , y='text' , x='count' , palette='magma')\n",
    "plt.title('ham')\n",
    "plt.tight_layout()"
   ]
  },
  {
   "cell_type": "code",
   "execution_count": 23,
   "id": "5facb8a0-96cc-4061-95da-04183147d7e7",
   "metadata": {},
   "outputs": [
    {
     "data": {
      "image/png": "[encoded data removed]",
      "text/plain": [
       "<Figure size 720x360 with 1 Axes>"
      ]
     },
     "metadata": {},
     "output_type": "display_data"
    }
   ],
   "source": [
    "plt.figure(figsize=(10,5))\n",
    "sns.barplot(data=spam_most20 , y='text' , x='count', palette='magma')\n",
    "plt.title('spam')\n",
    "plt.tight_layout()"
   ]
  },
  {
   "cell_type": "markdown",
   "id": "a93776cd-b057-44f2-be93-2396a467c954",
   "metadata": {},
   "source": [
    "# Prediction"
   ]
  },
  {
   "cell_type": "code",
   "execution_count": 24,
   "id": "66a663a4-a2ae-46cd-8631-663e43bdded8",
   "metadata": {},
   "outputs": [],
   "source": [
    "features = sms['message_clean']\n",
    "target = sms['class']"
   ]
  },
  {
   "cell_type": "code",
   "execution_count": 25,
   "id": "2696bde1-661b-46e2-826a-80f253e94b2b",
   "metadata": {},
   "outputs": [],
   "source": [
    "le = LabelEncoder()"
   ]
  },
  {
   "cell_type": "code",
   "execution_count": 26,
   "id": "c89a98a3-3231-43d5-b5c0-c2f65e05d1fe",
   "metadata": {},
   "outputs": [
    {
     "data": {
      "text/plain": [
       "array(['ham', 'ham', 'spam', 'ham', 'ham', 'spam', 'ham', 'ham', 'spam',\n",
       "       'spam'], dtype=object)"
      ]
     },
     "execution_count": 26,
     "metadata": {},
     "output_type": "execute_result"
    }
   ],
   "source": [
    "target.values[:10]"
   ]
  },
  {
   "cell_type": "code",
   "execution_count": 27,
   "id": "be484e70-2db7-4031-a2d2-f693e0f748eb",
   "metadata": {},
   "outputs": [],
   "source": [
    "target = le.fit_transform(target)"
   ]
  },
  {
   "cell_type": "code",
   "execution_count": 28,
   "id": "2cd0d447-84af-49c5-9356-8fecd24520da",
   "metadata": {},
   "outputs": [
    {
     "data": {
      "text/plain": [
       "array([0, 0, 1, 0, 0, 1, 0, 0, 1, 1])"
      ]
     },
     "execution_count": 28,
     "metadata": {},
     "output_type": "execute_result"
    }
   ],
   "source": [
    "target[:10]"
   ]
  },
  {
   "cell_type": "markdown",
   "id": "b3469632-e2f9-4ad5-ae4c-2ef4de336615",
   "metadata": {},
   "source": [
    "### ham = 0 , spam = 1"
   ]
  },
  {
   "cell_type": "code",
   "execution_count": 29,
   "id": "76a31e6e-eab8-4110-b4b2-fe952faa5009",
   "metadata": {},
   "outputs": [],
   "source": [
    "x_train , x_test , y_train , y_test  = train_test_split(features , target , test_size=0.2 , \n",
    "                                                        shuffle=True , stratify=target , random_state=55)"
   ]
  },
  {
   "cell_type": "code",
   "execution_count": 30,
   "id": "e0520b7c-0da8-4be8-97be-edeb425aa3d6",
   "metadata": {},
   "outputs": [
    {
     "name": "stdout",
     "output_type": "stream",
     "text": [
      "Training Set = 4457\n",
      "Testing Set = 1115\n"
     ]
    }
   ],
   "source": [
    "print(f'Training Set = {x_train.shape[0]}')\n",
    "print(f'Testing Set = {x_test.shape[0]}')"
   ]
  },
  {
   "cell_type": "code",
   "execution_count": 31,
   "id": "f98a50f1-e7ab-4ac1-98eb-9515721d99c8",
   "metadata": {},
   "outputs": [],
   "source": [
    "tfid = TfidfVectorizer()"
   ]
  },
  {
   "cell_type": "code",
   "execution_count": 32,
   "id": "31ff48f5-63ee-47a9-8eba-6b6ef06650d5",
   "metadata": {},
   "outputs": [],
   "source": [
    "x_train = tfid.fit_transform(x_train)\n",
    "x_test = tfid.transform(x_test)"
   ]
  },
  {
   "cell_type": "code",
   "execution_count": 33,
   "id": "4c170fd0-c160-467f-82d6-e0dbc66623f3",
   "metadata": {},
   "outputs": [
    {
     "data": {
      "text/plain": [
       "<4457x8243 sparse matrix of type '<class 'numpy.float64'>'\n",
       "\twith 37849 stored elements in Compressed Sparse Row format>"
      ]
     },
     "execution_count": 33,
     "metadata": {},
     "output_type": "execute_result"
    }
   ],
   "source": [
    "x_train"
   ]
  },
  {
   "cell_type": "code",
   "execution_count": 34,
   "id": "3d888a36-cddb-423d-b3d4-06830d25772b",
   "metadata": {},
   "outputs": [
    {
     "data": {
      "text/plain": [
       "<1115x8243 sparse matrix of type '<class 'numpy.float64'>'\n",
       "\twith 8187 stored elements in Compressed Sparse Row format>"
      ]
     },
     "execution_count": 34,
     "metadata": {},
     "output_type": "execute_result"
    }
   ],
   "source": [
    "x_test"
   ]
  },
  {
   "cell_type": "markdown",
   "id": "2d3e1442-b961-40ca-a389-8ccda1bd743f",
   "metadata": {},
   "source": [
    "### Logistic Regression"
   ]
  },
  {
   "cell_type": "code",
   "execution_count": 35,
   "id": "06ed2a70-a2c5-4892-bd81-be6538014ca0",
   "metadata": {},
   "outputs": [],
   "source": [
    "model = LogisticRegression()"
   ]
  },
  {
   "cell_type": "code",
   "execution_count": 36,
   "id": "74af1fa9-c6f4-4e54-98e6-6bf019f717b7",
   "metadata": {},
   "outputs": [
    {
     "data": {
      "text/plain": [
       "LogisticRegression()"
      ]
     },
     "execution_count": 36,
     "metadata": {},
     "output_type": "execute_result"
    }
   ],
   "source": [
    "model.fit(x_train , y_train)"
   ]
  },
  {
   "cell_type": "code",
   "execution_count": 37,
   "id": "27b18795-615d-4fb9-aa61-e366cb66b97d",
   "metadata": {},
   "outputs": [
    {
     "data": {
      "text/plain": [
       "0.9647745120035899"
      ]
     },
     "execution_count": 37,
     "metadata": {},
     "output_type": "execute_result"
    }
   ],
   "source": [
    "model.score(x_train , y_train)"
   ]
  },
  {
   "cell_type": "code",
   "execution_count": 38,
   "id": "adb2dce1-aa4d-4ce2-bf39-b8a154ba5832",
   "metadata": {},
   "outputs": [
    {
     "data": {
      "text/plain": [
       "0.9650224215246637"
      ]
     },
     "execution_count": 38,
     "metadata": {},
     "output_type": "execute_result"
    }
   ],
   "source": [
    "model.score(x_test , y_test)"
   ]
  },
  {
   "cell_type": "code",
   "execution_count": 39,
   "id": "00c6dd67-c21e-47cf-a4b7-96c355c41af4",
   "metadata": {},
   "outputs": [],
   "source": [
    "y_pred  = model.predict(x_test)"
   ]
  },
  {
   "cell_type": "code",
   "execution_count": 40,
   "id": "a06e018f-539d-4bbe-84f7-417dda114d3f",
   "metadata": {},
   "outputs": [
    {
     "name": "stdout",
     "output_type": "stream",
     "text": [
      "              precision    recall  f1-score   support\n",
      "\n",
      "         ham       0.96      1.00      0.98       966\n",
      "        spam       0.98      0.75      0.85       149\n",
      "\n",
      "    accuracy                           0.97      1115\n",
      "   macro avg       0.97      0.87      0.92      1115\n",
      "weighted avg       0.97      0.97      0.96      1115\n",
      "\n"
     ]
    }
   ],
   "source": [
    "print(classification_report(y_test , y_pred , target_names=['ham' , 'spam']))"
   ]
  },
  {
   "cell_type": "code",
   "execution_count": 41,
   "id": "1204921b-f6e1-42ac-a2cc-c03e2a96f205",
   "metadata": {},
   "outputs": [
    {
     "data": {
      "text/plain": [
       "array([[964,   2],\n",
       "       [ 37, 112]], dtype=int64)"
      ]
     },
     "execution_count": 41,
     "metadata": {},
     "output_type": "execute_result"
    }
   ],
   "source": [
    "confusion_matrix(y_test , y_pred)"
   ]
  },
  {
   "cell_type": "code",
   "execution_count": 42,
   "id": "c1e4055a-b3f2-4540-a6c4-cb705fafa09c",
   "metadata": {},
   "outputs": [],
   "source": [
    "param = dict(C=np.logspace(-3,3,7) , max_iter=[1000])"
   ]
  },
  {
   "cell_type": "code",
   "execution_count": 43,
   "id": "01d3011f-0b38-4590-b2f3-433ab14270ce",
   "metadata": {},
   "outputs": [
    {
     "data": {
      "text/plain": [
       "GridSearchCV(cv=5, estimator=LogisticRegression(),\n",
       "             param_grid={'C': array([1.e-03, 1.e-02, 1.e-01, 1.e+00, 1.e+01, 1.e+02, 1.e+03]),\n",
       "                         'max_iter': [1000]})"
      ]
     },
     "execution_count": 43,
     "metadata": {},
     "output_type": "execute_result"
    }
   ],
   "source": [
    "model_cv = GridSearchCV(model , param_grid=param , cv = 5)\n",
    "model_cv.fit(x_train , y_train)"
   ]
  },
  {
   "cell_type": "code",
   "execution_count": 44,
   "id": "baf08d73-e0b8-4647-8575-da5e3e7d9abb",
   "metadata": {},
   "outputs": [
    {
     "name": "stdout",
     "output_type": "stream",
     "text": [
      "Best Parameter=  {'C': 1000.0, 'max_iter': 1000}\n"
     ]
    }
   ],
   "source": [
    "print(f'Best Parameter=  {model_cv.best_params_}')"
   ]
  },
  {
   "cell_type": "code",
   "execution_count": 45,
   "id": "973c8e9d-6b63-47eb-bc15-ae11efaf46f2",
   "metadata": {},
   "outputs": [
    {
     "name": "stdout",
     "output_type": "stream",
     "text": [
      "Best Score = 0.9741981348109899\n"
     ]
    }
   ],
   "source": [
    "print(f'Best Score = {model_cv.best_score_}')"
   ]
  },
  {
   "cell_type": "code",
   "execution_count": 46,
   "id": "7d468d39-488f-45b9-bda4-597aa7a903e3",
   "metadata": {},
   "outputs": [],
   "source": [
    "y_pred = model_cv.best_estimator_.predict(x_test)\n",
    "y_pred_proba = model_cv.best_estimator_.predict_proba(x_test)[:,1]"
   ]
  },
  {
   "cell_type": "code",
   "execution_count": 47,
   "id": "bc646d41-17ce-4c9e-86ac-2cde7cae1aa6",
   "metadata": {},
   "outputs": [
    {
     "name": "stdout",
     "output_type": "stream",
     "text": [
      "              precision    recall  f1-score   support\n",
      "\n",
      "           0       0.99      1.00      0.99       966\n",
      "           1       0.99      0.92      0.95       149\n",
      "\n",
      "    accuracy                           0.99      1115\n",
      "   macro avg       0.99      0.96      0.97      1115\n",
      "weighted avg       0.99      0.99      0.99      1115\n",
      "\n"
     ]
    }
   ],
   "source": [
    "print(classification_report(y_test , y_pred))"
   ]
  },
  {
   "cell_type": "code",
   "execution_count": 48,
   "id": "58fe1c6b-be3c-4b3e-8b78-bb96eb90ea49",
   "metadata": {},
   "outputs": [
    {
     "data": {
      "image/png": "[encoded data removed]",
      "text/plain": [
       "<Figure size 432x288 with 2 Axes>"
      ]
     },
     "metadata": {},
     "output_type": "display_data"
    }
   ],
   "source": [
    "conf_mat = pd.DataFrame(confusion_matrix(y_test , y_pred) , index=['ham' , 'spam'] , columns=['ham' , 'spam'])\n",
    "sns.heatmap(conf_mat , annot=True ,fmt='.0f' , cmap='Blues' , center=300 , linewidths=1)\n",
    "plt.xlabel('Prediction')\n",
    "plt.ylabel('Actually');"
   ]
  },
  {
   "cell_type": "code",
   "execution_count": 49,
   "id": "a982d118-ec63-4ae1-aa8e-7c7e33a9f0a0",
   "metadata": {},
   "outputs": [],
   "source": [
    "tpr , fpr , th = roc_curve(y_test , y_pred_proba)"
   ]
  },
  {
   "cell_type": "code",
   "execution_count": 50,
   "id": "f438bb35-defd-44b8-94ad-6e20cd54a2de",
   "metadata": {},
   "outputs": [
    {
     "data": {
      "image/png": "[encoded data removed]",
      "text/plain": [
       "<Figure size 432x288 with 1 Axes>"
      ]
     },
     "metadata": {},
     "output_type": "display_data"
    }
   ],
   "source": [
    "plt.plot(tpr , fpr ,color='blue', label=f'AUC={roc_auc_score(y_test , y_pred_proba).round(4)}')\n",
    "plt.plot([0,1] , [0,1] , '--' , color='.5')\n",
    "plt.legend(loc='lower right');"
   ]
  },
  {
   "cell_type": "markdown",
   "id": "f9f08b04-b01b-43f0-bdbe-431347a78817",
   "metadata": {},
   "source": [
    "### MultinomialNB"
   ]
  },
  {
   "cell_type": "code",
   "execution_count": 51,
   "id": "ffe10d97-e2d4-4e8f-ab82-0cb3a33cc2b7",
   "metadata": {},
   "outputs": [],
   "source": [
    "model = MultinomialNB()"
   ]
  },
  {
   "cell_type": "code",
   "execution_count": 52,
   "id": "967772f2-50ce-423b-b0da-a9001cb71012",
   "metadata": {},
   "outputs": [
    {
     "data": {
      "text/plain": [
       "MultinomialNB()"
      ]
     },
     "execution_count": 52,
     "metadata": {},
     "output_type": "execute_result"
    }
   ],
   "source": [
    "model.fit(x_train , y_train)"
   ]
  },
  {
   "cell_type": "code",
   "execution_count": 53,
   "id": "6ccddd5b-e9a1-4ddb-af6e-e056a8137841",
   "metadata": {},
   "outputs": [
    {
     "data": {
      "text/plain": [
       "0.9793583127664348"
      ]
     },
     "execution_count": 53,
     "metadata": {},
     "output_type": "execute_result"
    }
   ],
   "source": [
    "model.score(x_train , y_train)"
   ]
  },
  {
   "cell_type": "code",
   "execution_count": 54,
   "id": "e8e9dd3d-4da3-41aa-8212-a082dba47425",
   "metadata": {},
   "outputs": [
    {
     "data": {
      "text/plain": [
       "0.9659192825112107"
      ]
     },
     "execution_count": 54,
     "metadata": {},
     "output_type": "execute_result"
    }
   ],
   "source": [
    "model.score(x_test , y_test)"
   ]
  },
  {
   "cell_type": "code",
   "execution_count": 55,
   "id": "021f2cef-3707-479f-b768-ebb0d9b6d196",
   "metadata": {},
   "outputs": [],
   "source": [
    "y_pred = model.predict(x_test)"
   ]
  },
  {
   "cell_type": "code",
   "execution_count": 56,
   "id": "5725fcc5-48a7-40fa-87e6-7132b7107c38",
   "metadata": {},
   "outputs": [
    {
     "name": "stdout",
     "output_type": "stream",
     "text": [
      "              precision    recall  f1-score   support\n",
      "\n",
      "           0       0.96      1.00      0.98       966\n",
      "           1       1.00      0.74      0.85       149\n",
      "\n",
      "    accuracy                           0.97      1115\n",
      "   macro avg       0.98      0.87      0.92      1115\n",
      "weighted avg       0.97      0.97      0.96      1115\n",
      "\n"
     ]
    }
   ],
   "source": [
    "print(classification_report(y_test , y_pred))"
   ]
  },
  {
   "cell_type": "code",
   "execution_count": 57,
   "id": "254a9013-0eb7-49ed-b4ee-00ff9d205084",
   "metadata": {},
   "outputs": [
    {
     "data": {
      "text/plain": [
       "array([[966,   0],\n",
       "       [ 38, 111]], dtype=int64)"
      ]
     },
     "execution_count": 57,
     "metadata": {},
     "output_type": "execute_result"
    }
   ],
   "source": [
    "confusion_matrix(y_test , y_pred)"
   ]
  },
  {
   "cell_type": "code",
   "execution_count": 58,
   "id": "93cd942d-99bc-451a-bd43-a44afe1995a0",
   "metadata": {},
   "outputs": [],
   "source": [
    "param = dict(alpha=np.arange(0,5,0.1) , fit_prior=[True , False])"
   ]
  },
  {
   "cell_type": "code",
   "execution_count": 59,
   "id": "b19e9d5e-6c76-423f-a333-db4679fab0e6",
   "metadata": {},
   "outputs": [
    {
     "data": {
      "text/plain": [
       "GridSearchCV(cv=5, estimator=MultinomialNB(),\n",
       "             param_grid={'alpha': array([0. , 0.1, 0.2, 0.3, 0.4, 0.5, 0.6, 0.7, 0.8, 0.9, 1. , 1.1, 1.2,\n",
       "       1.3, 1.4, 1.5, 1.6, 1.7, 1.8, 1.9, 2. , 2.1, 2.2, 2.3, 2.4, 2.5,\n",
       "       2.6, 2.7, 2.8, 2.9, 3. , 3.1, 3.2, 3.3, 3.4, 3.5, 3.6, 3.7, 3.8,\n",
       "       3.9, 4. , 4.1, 4.2, 4.3, 4.4, 4.5, 4.6, 4.7, 4.8, 4.9]),\n",
       "                         'fit_prior': [True, False]})"
      ]
     },
     "execution_count": 59,
     "metadata": {},
     "output_type": "execute_result"
    }
   ],
   "source": [
    "model_cv = GridSearchCV(model , param_grid=param , cv = 5)\n",
    "model_cv.fit(x_train , y_train)"
   ]
  },
  {
   "cell_type": "code",
   "execution_count": 60,
   "id": "2da1b12e-a12a-4abe-97b8-daf177614a5b",
   "metadata": {},
   "outputs": [
    {
     "name": "stdout",
     "output_type": "stream",
     "text": [
      "Best Parameter=  {'alpha': 0.30000000000000004, 'fit_prior': True}\n"
     ]
    }
   ],
   "source": [
    "print(f'Best Parameter=  {model_cv.best_params_}')"
   ]
  },
  {
   "cell_type": "code",
   "execution_count": 61,
   "id": "1c8b93cd-36e1-409f-97d7-7118508ed5ba",
   "metadata": {},
   "outputs": [
    {
     "name": "stdout",
     "output_type": "stream",
     "text": [
      "Best Score = 0.9809278635885512\n"
     ]
    }
   ],
   "source": [
    "print(f'Best Score = {model_cv.best_score_}')"
   ]
  },
  {
   "cell_type": "code",
   "execution_count": 62,
   "id": "fbe8d78c-251b-4f20-b554-4a973b3970a0",
   "metadata": {},
   "outputs": [],
   "source": [
    "y_pred = model_cv.best_estimator_.predict(x_test)\n",
    "y_pred_proba = model_cv.best_estimator_.predict_proba(x_test)[:,1]"
   ]
  },
  {
   "cell_type": "code",
   "execution_count": 63,
   "id": "a8846ba2-6773-459f-8ac2-207e61c7957d",
   "metadata": {},
   "outputs": [
    {
     "name": "stdout",
     "output_type": "stream",
     "text": [
      "              precision    recall  f1-score   support\n",
      "\n",
      "           0       0.98      1.00      0.99       966\n",
      "           1       0.99      0.86      0.92       149\n",
      "\n",
      "    accuracy                           0.98      1115\n",
      "   macro avg       0.99      0.93      0.95      1115\n",
      "weighted avg       0.98      0.98      0.98      1115\n",
      "\n"
     ]
    }
   ],
   "source": [
    "print(classification_report(y_test , y_pred))"
   ]
  },
  {
   "cell_type": "code",
   "execution_count": 64,
   "id": "88492187-e01f-4f8b-8495-9569c4d951ac",
   "metadata": {},
   "outputs": [
    {
     "data": {
      "image/png": "[encoded data removed]",
      "text/plain": [
       "<Figure size 432x288 with 2 Axes>"
      ]
     },
     "metadata": {},
     "output_type": "display_data"
    }
   ],
   "source": [
    "conf_mat = pd.DataFrame(confusion_matrix(y_test , y_pred) , index=['ham' , 'spam'] , columns=['ham' , 'spam'])\n",
    "sns.heatmap(conf_mat , annot=True ,fmt='.0f' , cmap='Greens' , center=300 , linewidths=1)\n",
    "plt.xlabel('Prediction')\n",
    "plt.ylabel('Actually');"
   ]
  },
  {
   "cell_type": "code",
   "execution_count": 65,
   "id": "3ee98339-5ffc-492c-86b3-ffdaa8913cee",
   "metadata": {},
   "outputs": [],
   "source": [
    "tpr , fpr , th = roc_curve(y_test , y_pred_proba)"
   ]
  },
  {
   "cell_type": "code",
   "execution_count": 66,
   "id": "86c5cd85-d8d3-4124-8936-40073dc4d156",
   "metadata": {},
   "outputs": [
    {
     "data": {
      "image/png": "[encoded data removed]",
      "text/plain": [
       "<Figure size 432x288 with 1 Axes>"
      ]
     },
     "metadata": {},
     "output_type": "display_data"
    }
   ],
   "source": [
    "plt.plot(tpr , fpr ,color='green', label=f'AUC={roc_auc_score(y_test , y_pred_proba).round(4)}')\n",
    "plt.plot([0,1] , [0,1] , '--' , color='.5')\n",
    "plt.legend(loc='lower right');"
   ]
  },
  {
   "cell_type": "code",
   "execution_count": null,
   "id": "fcab5c37-4067-4ed2-abf8-44644346fe0d",
   "metadata": {},
   "outputs": [],
   "source": []
  }
 ],
 "metadata": {
  "kernelspec": {
   "display_name": "Python 3",
   "language": "python",
   "name": "python3"
  },
  "language_info": {
   "codemirror_mode": {
    "name": "ipython",
    "version": 3
   },
   "file_extension": ".py",
   "mimetype": "text/x-python",
   "name": "python",
   "nbconvert_exporter": "python",
   "pygments_lexer": "ipython3",
   "version": "3.9.1"
  }
 },
 "nbformat": 4,
 "nbformat_minor": 5
}
