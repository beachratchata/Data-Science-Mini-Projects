{
 "cells": [
  {
   "cell_type": "code",
   "execution_count": 1,
   "id": "5fd9f3bb-e486-4b67-8b8f-ac6c01c04d42",
   "metadata": {},
   "outputs": [],
   "source": [
    "import pandas as pd\n",
    "import matplotlib.pyplot as plt \n",
    "import seaborn as sns \n",
    "import numpy as np\n",
    "from nltk.corpus import stopwords\n",
    "from collections import Counter\n",
    "import string\n",
    "import warnings\n",
    "warnings.filterwarnings('ignore')"
   ]
  },
  {
   "cell_type": "code",
   "execution_count": 2,
   "id": "662d4d2f-f9af-4a64-8f3b-c40c5692c804",
   "metadata": {},
   "outputs": [],
   "source": [
    "from sklearn.naive_bayes import MultinomialNB\n",
    "from sklearn.model_selection import train_test_split , GridSearchCV\n",
    "from sklearn.feature_extraction.text import TfidfVectorizer , CountVectorizer\n",
    "from sklearn.metrics import *"
   ]
  },
  {
   "cell_type": "code",
   "execution_count": 3,
   "id": "57e68c10-759f-4a3b-81e4-42b70ea55888",
   "metadata": {},
   "outputs": [
    {
     "data": {
      "text/html": [
       "<div>\n",
       "<style scoped>\n",
       "    .dataframe tbody tr th:only-of-type {\n",
       "        vertical-align: middle;\n",
       "    }\n",
       "\n",
       "    .dataframe tbody tr th {\n",
       "        vertical-align: top;\n",
       "    }\n",
       "\n",
       "    .dataframe thead th {\n",
       "        text-align: right;\n",
       "    }\n",
       "</style>\n",
       "<table border=\"1\" class=\"dataframe\">\n",
       "  <thead>\n",
       "    <tr style=\"text-align: right;\">\n",
       "      <th></th>\n",
       "      <th>title</th>\n",
       "      <th>text</th>\n",
       "      <th>subject</th>\n",
       "      <th>date</th>\n",
       "    </tr>\n",
       "  </thead>\n",
       "  <tbody>\n",
       "    <tr>\n",
       "      <th>0</th>\n",
       "      <td>As U.S. budget fight looms, Republicans flip t...</td>\n",
       "      <td>WASHINGTON (Reuters) - The head of a conservat...</td>\n",
       "      <td>politicsNews</td>\n",
       "      <td>December 31, 2017</td>\n",
       "    </tr>\n",
       "    <tr>\n",
       "      <th>1</th>\n",
       "      <td>U.S. military to accept transgender recruits o...</td>\n",
       "      <td>WASHINGTON (Reuters) - Transgender people will...</td>\n",
       "      <td>politicsNews</td>\n",
       "      <td>December 29, 2017</td>\n",
       "    </tr>\n",
       "    <tr>\n",
       "      <th>2</th>\n",
       "      <td>Senior U.S. Republican senator: 'Let Mr. Muell...</td>\n",
       "      <td>WASHINGTON (Reuters) - The special counsel inv...</td>\n",
       "      <td>politicsNews</td>\n",
       "      <td>December 31, 2017</td>\n",
       "    </tr>\n",
       "    <tr>\n",
       "      <th>3</th>\n",
       "      <td>FBI Russia probe helped by Australian diplomat...</td>\n",
       "      <td>WASHINGTON (Reuters) - Trump campaign adviser ...</td>\n",
       "      <td>politicsNews</td>\n",
       "      <td>December 30, 2017</td>\n",
       "    </tr>\n",
       "    <tr>\n",
       "      <th>4</th>\n",
       "      <td>Trump wants Postal Service to charge 'much mor...</td>\n",
       "      <td>SEATTLE/WASHINGTON (Reuters) - President Donal...</td>\n",
       "      <td>politicsNews</td>\n",
       "      <td>December 29, 2017</td>\n",
       "    </tr>\n",
       "  </tbody>\n",
       "</table>\n",
       "</div>"
      ],
      "text/plain": [
       "                                               title  \\\n",
       "0  As U.S. budget fight looms, Republicans flip t...   \n",
       "1  U.S. military to accept transgender recruits o...   \n",
       "2  Senior U.S. Republican senator: 'Let Mr. Muell...   \n",
       "3  FBI Russia probe helped by Australian diplomat...   \n",
       "4  Trump wants Postal Service to charge 'much mor...   \n",
       "\n",
       "                                                text       subject  \\\n",
       "0  WASHINGTON (Reuters) - The head of a conservat...  politicsNews   \n",
       "1  WASHINGTON (Reuters) - Transgender people will...  politicsNews   \n",
       "2  WASHINGTON (Reuters) - The special counsel inv...  politicsNews   \n",
       "3  WASHINGTON (Reuters) - Trump campaign adviser ...  politicsNews   \n",
       "4  SEATTLE/WASHINGTON (Reuters) - President Donal...  politicsNews   \n",
       "\n",
       "                 date  \n",
       "0  December 31, 2017   \n",
       "1  December 29, 2017   \n",
       "2  December 31, 2017   \n",
       "3  December 30, 2017   \n",
       "4  December 29, 2017   "
      ]
     },
     "execution_count": 3,
     "metadata": {},
     "output_type": "execute_result"
    }
   ],
   "source": [
    "true = pd.read_csv('True.csv.zip')\n",
    "true.head()"
   ]
  },
  {
   "cell_type": "code",
   "execution_count": 4,
   "id": "ee88316c-8812-4b7b-b85f-46743b5f8e49",
   "metadata": {},
   "outputs": [
    {
     "data": {
      "text/html": [
       "<div>\n",
       "<style scoped>\n",
       "    .dataframe tbody tr th:only-of-type {\n",
       "        vertical-align: middle;\n",
       "    }\n",
       "\n",
       "    .dataframe tbody tr th {\n",
       "        vertical-align: top;\n",
       "    }\n",
       "\n",
       "    .dataframe thead th {\n",
       "        text-align: right;\n",
       "    }\n",
       "</style>\n",
       "<table border=\"1\" class=\"dataframe\">\n",
       "  <thead>\n",
       "    <tr style=\"text-align: right;\">\n",
       "      <th></th>\n",
       "      <th>title</th>\n",
       "      <th>text</th>\n",
       "      <th>subject</th>\n",
       "      <th>date</th>\n",
       "    </tr>\n",
       "  </thead>\n",
       "  <tbody>\n",
       "    <tr>\n",
       "      <th>0</th>\n",
       "      <td>Donald Trump Sends Out Embarrassing New Year’...</td>\n",
       "      <td>Donald Trump just couldn t wish all Americans ...</td>\n",
       "      <td>News</td>\n",
       "      <td>December 31, 2017</td>\n",
       "    </tr>\n",
       "    <tr>\n",
       "      <th>1</th>\n",
       "      <td>Drunk Bragging Trump Staffer Started Russian ...</td>\n",
       "      <td>House Intelligence Committee Chairman Devin Nu...</td>\n",
       "      <td>News</td>\n",
       "      <td>December 31, 2017</td>\n",
       "    </tr>\n",
       "    <tr>\n",
       "      <th>2</th>\n",
       "      <td>Sheriff David Clarke Becomes An Internet Joke...</td>\n",
       "      <td>On Friday, it was revealed that former Milwauk...</td>\n",
       "      <td>News</td>\n",
       "      <td>December 30, 2017</td>\n",
       "    </tr>\n",
       "    <tr>\n",
       "      <th>3</th>\n",
       "      <td>Trump Is So Obsessed He Even Has Obama’s Name...</td>\n",
       "      <td>On Christmas day, Donald Trump announced that ...</td>\n",
       "      <td>News</td>\n",
       "      <td>December 29, 2017</td>\n",
       "    </tr>\n",
       "    <tr>\n",
       "      <th>4</th>\n",
       "      <td>Pope Francis Just Called Out Donald Trump Dur...</td>\n",
       "      <td>Pope Francis used his annual Christmas Day mes...</td>\n",
       "      <td>News</td>\n",
       "      <td>December 25, 2017</td>\n",
       "    </tr>\n",
       "  </tbody>\n",
       "</table>\n",
       "</div>"
      ],
      "text/plain": [
       "                                               title  \\\n",
       "0   Donald Trump Sends Out Embarrassing New Year’...   \n",
       "1   Drunk Bragging Trump Staffer Started Russian ...   \n",
       "2   Sheriff David Clarke Becomes An Internet Joke...   \n",
       "3   Trump Is So Obsessed He Even Has Obama’s Name...   \n",
       "4   Pope Francis Just Called Out Donald Trump Dur...   \n",
       "\n",
       "                                                text subject  \\\n",
       "0  Donald Trump just couldn t wish all Americans ...    News   \n",
       "1  House Intelligence Committee Chairman Devin Nu...    News   \n",
       "2  On Friday, it was revealed that former Milwauk...    News   \n",
       "3  On Christmas day, Donald Trump announced that ...    News   \n",
       "4  Pope Francis used his annual Christmas Day mes...    News   \n",
       "\n",
       "                date  \n",
       "0  December 31, 2017  \n",
       "1  December 31, 2017  \n",
       "2  December 30, 2017  \n",
       "3  December 29, 2017  \n",
       "4  December 25, 2017  "
      ]
     },
     "execution_count": 4,
     "metadata": {},
     "output_type": "execute_result"
    }
   ],
   "source": [
    "fake = pd.read_csv('Fake.csv.zip')\n",
    "fake.head()"
   ]
  },
  {
   "cell_type": "code",
   "execution_count": 5,
   "id": "cd05f6ec-60d6-4f8a-a3c7-62a111246655",
   "metadata": {},
   "outputs": [],
   "source": [
    "true['class'] = 1\n",
    "fake['class'] = 0"
   ]
  },
  {
   "cell_type": "code",
   "execution_count": 6,
   "id": "282b36c8-235a-49db-a5b0-f035e85efb54",
   "metadata": {},
   "outputs": [],
   "source": [
    "news = pd.concat([true , fake]).reset_index()"
   ]
  },
  {
   "cell_type": "code",
   "execution_count": 7,
   "id": "bf822c60-86b0-40e1-8d7e-5eb5e4759724",
   "metadata": {},
   "outputs": [],
   "source": [
    "del news['index']"
   ]
  },
  {
   "cell_type": "code",
   "execution_count": 8,
   "id": "3258155a-7e9c-426c-a4cd-482b5ca38f54",
   "metadata": {},
   "outputs": [
    {
     "data": {
      "text/html": [
       "<div>\n",
       "<style scoped>\n",
       "    .dataframe tbody tr th:only-of-type {\n",
       "        vertical-align: middle;\n",
       "    }\n",
       "\n",
       "    .dataframe tbody tr th {\n",
       "        vertical-align: top;\n",
       "    }\n",
       "\n",
       "    .dataframe thead th {\n",
       "        text-align: right;\n",
       "    }\n",
       "</style>\n",
       "<table border=\"1\" class=\"dataframe\">\n",
       "  <thead>\n",
       "    <tr style=\"text-align: right;\">\n",
       "      <th></th>\n",
       "      <th>title</th>\n",
       "      <th>text</th>\n",
       "      <th>subject</th>\n",
       "      <th>date</th>\n",
       "      <th>class</th>\n",
       "    </tr>\n",
       "  </thead>\n",
       "  <tbody>\n",
       "    <tr>\n",
       "      <th>0</th>\n",
       "      <td>As U.S. budget fight looms, Republicans flip t...</td>\n",
       "      <td>WASHINGTON (Reuters) - The head of a conservat...</td>\n",
       "      <td>politicsNews</td>\n",
       "      <td>December 31, 2017</td>\n",
       "      <td>1</td>\n",
       "    </tr>\n",
       "    <tr>\n",
       "      <th>1</th>\n",
       "      <td>U.S. military to accept transgender recruits o...</td>\n",
       "      <td>WASHINGTON (Reuters) - Transgender people will...</td>\n",
       "      <td>politicsNews</td>\n",
       "      <td>December 29, 2017</td>\n",
       "      <td>1</td>\n",
       "    </tr>\n",
       "    <tr>\n",
       "      <th>2</th>\n",
       "      <td>Senior U.S. Republican senator: 'Let Mr. Muell...</td>\n",
       "      <td>WASHINGTON (Reuters) - The special counsel inv...</td>\n",
       "      <td>politicsNews</td>\n",
       "      <td>December 31, 2017</td>\n",
       "      <td>1</td>\n",
       "    </tr>\n",
       "    <tr>\n",
       "      <th>3</th>\n",
       "      <td>FBI Russia probe helped by Australian diplomat...</td>\n",
       "      <td>WASHINGTON (Reuters) - Trump campaign adviser ...</td>\n",
       "      <td>politicsNews</td>\n",
       "      <td>December 30, 2017</td>\n",
       "      <td>1</td>\n",
       "    </tr>\n",
       "    <tr>\n",
       "      <th>4</th>\n",
       "      <td>Trump wants Postal Service to charge 'much mor...</td>\n",
       "      <td>SEATTLE/WASHINGTON (Reuters) - President Donal...</td>\n",
       "      <td>politicsNews</td>\n",
       "      <td>December 29, 2017</td>\n",
       "      <td>1</td>\n",
       "    </tr>\n",
       "    <tr>\n",
       "      <th>...</th>\n",
       "      <td>...</td>\n",
       "      <td>...</td>\n",
       "      <td>...</td>\n",
       "      <td>...</td>\n",
       "      <td>...</td>\n",
       "    </tr>\n",
       "    <tr>\n",
       "      <th>44893</th>\n",
       "      <td>McPain: John McCain Furious That Iran Treated ...</td>\n",
       "      <td>21st Century Wire says As 21WIRE reported earl...</td>\n",
       "      <td>Middle-east</td>\n",
       "      <td>January 16, 2016</td>\n",
       "      <td>0</td>\n",
       "    </tr>\n",
       "    <tr>\n",
       "      <th>44894</th>\n",
       "      <td>JUSTICE? Yahoo Settles E-mail Privacy Class-ac...</td>\n",
       "      <td>21st Century Wire says It s a familiar theme. ...</td>\n",
       "      <td>Middle-east</td>\n",
       "      <td>January 16, 2016</td>\n",
       "      <td>0</td>\n",
       "    </tr>\n",
       "    <tr>\n",
       "      <th>44895</th>\n",
       "      <td>Sunnistan: US and Allied ‘Safe Zone’ Plan to T...</td>\n",
       "      <td>Patrick Henningsen  21st Century WireRemember ...</td>\n",
       "      <td>Middle-east</td>\n",
       "      <td>January 15, 2016</td>\n",
       "      <td>0</td>\n",
       "    </tr>\n",
       "    <tr>\n",
       "      <th>44896</th>\n",
       "      <td>How to Blow $700 Million: Al Jazeera America F...</td>\n",
       "      <td>21st Century Wire says Al Jazeera America will...</td>\n",
       "      <td>Middle-east</td>\n",
       "      <td>January 14, 2016</td>\n",
       "      <td>0</td>\n",
       "    </tr>\n",
       "    <tr>\n",
       "      <th>44897</th>\n",
       "      <td>10 U.S. Navy Sailors Held by Iranian Military ...</td>\n",
       "      <td>21st Century Wire says As 21WIRE predicted in ...</td>\n",
       "      <td>Middle-east</td>\n",
       "      <td>January 12, 2016</td>\n",
       "      <td>0</td>\n",
       "    </tr>\n",
       "  </tbody>\n",
       "</table>\n",
       "<p>44898 rows × 5 columns</p>\n",
       "</div>"
      ],
      "text/plain": [
       "                                                   title  \\\n",
       "0      As U.S. budget fight looms, Republicans flip t...   \n",
       "1      U.S. military to accept transgender recruits o...   \n",
       "2      Senior U.S. Republican senator: 'Let Mr. Muell...   \n",
       "3      FBI Russia probe helped by Australian diplomat...   \n",
       "4      Trump wants Postal Service to charge 'much mor...   \n",
       "...                                                  ...   \n",
       "44893  McPain: John McCain Furious That Iran Treated ...   \n",
       "44894  JUSTICE? Yahoo Settles E-mail Privacy Class-ac...   \n",
       "44895  Sunnistan: US and Allied ‘Safe Zone’ Plan to T...   \n",
       "44896  How to Blow $700 Million: Al Jazeera America F...   \n",
       "44897  10 U.S. Navy Sailors Held by Iranian Military ...   \n",
       "\n",
       "                                                    text       subject  \\\n",
       "0      WASHINGTON (Reuters) - The head of a conservat...  politicsNews   \n",
       "1      WASHINGTON (Reuters) - Transgender people will...  politicsNews   \n",
       "2      WASHINGTON (Reuters) - The special counsel inv...  politicsNews   \n",
       "3      WASHINGTON (Reuters) - Trump campaign adviser ...  politicsNews   \n",
       "4      SEATTLE/WASHINGTON (Reuters) - President Donal...  politicsNews   \n",
       "...                                                  ...           ...   \n",
       "44893  21st Century Wire says As 21WIRE reported earl...   Middle-east   \n",
       "44894  21st Century Wire says It s a familiar theme. ...   Middle-east   \n",
       "44895  Patrick Henningsen  21st Century WireRemember ...   Middle-east   \n",
       "44896  21st Century Wire says Al Jazeera America will...   Middle-east   \n",
       "44897  21st Century Wire says As 21WIRE predicted in ...   Middle-east   \n",
       "\n",
       "                     date  class  \n",
       "0      December 31, 2017       1  \n",
       "1      December 29, 2017       1  \n",
       "2      December 31, 2017       1  \n",
       "3      December 30, 2017       1  \n",
       "4      December 29, 2017       1  \n",
       "...                   ...    ...  \n",
       "44893    January 16, 2016      0  \n",
       "44894    January 16, 2016      0  \n",
       "44895    January 15, 2016      0  \n",
       "44896    January 14, 2016      0  \n",
       "44897    January 12, 2016      0  \n",
       "\n",
       "[44898 rows x 5 columns]"
      ]
     },
     "execution_count": 8,
     "metadata": {},
     "output_type": "execute_result"
    }
   ],
   "source": [
    "news"
   ]
  },
  {
   "cell_type": "code",
   "execution_count": 9,
   "id": "fec26399-a988-4fbb-90d4-8ea93e4d172a",
   "metadata": {},
   "outputs": [],
   "source": [
    "news['text'] = news['title'] + ' ' + news['text']"
   ]
  },
  {
   "cell_type": "code",
   "execution_count": 10,
   "id": "015608d8-f5d0-40dd-a752-1fc883a69eab",
   "metadata": {},
   "outputs": [],
   "source": [
    "del news['title']"
   ]
  },
  {
   "cell_type": "code",
   "execution_count": 11,
   "id": "b81124be-33d6-47d4-9961-fe327810b223",
   "metadata": {},
   "outputs": [
    {
     "data": {
      "text/plain": [
       "'As U.S. budget fight looms, Republicans flip their fiscal script WASHINGTON (Reuters) - The head of a conservative Republican faction in the U.S. Congress, who voted this month for a huge expansion of the national debt to pay for tax cuts, called himself a “fiscal conservative” on Sunday and urged budget restraint in 2018. In keeping with a sharp pivot under way among Republicans, U.S. Representative Mark Meadows, speaking on CBS’ “Face the Nation,” drew a hard line on federal spending, which lawmakers are bracing to do battle over in January. When they return from the holidays on Wednesday, lawmakers will begin trying to pass a federal budget in a fight likely to be linked to other issues, such as immigration policy, even as the November congressional election campaigns approach in which Republicans will seek to keep control of Congress. President Donald Trump and his Republicans want a big budget increase in military spending, while Democrats also want proportional increases for non-defense “discretionary” spending on programs that support education, scientific research, infrastructure, public health and environmental protection. “The (Trump) administration has already been willing to say: ‘We’re going to increase non-defense discretionary spending ... by about 7 percent,’” Meadows, chairman of the small but influential House Freedom Caucus, said on the program. “Now, Democrats are saying that’s not enough, we need to give the government a pay raise of 10 to 11 percent. For a fiscal conservative, I don’t see where the rationale is. ... Eventually you run out of other people’s money,” he said. Meadows was among Republicans who voted in late December for their party’s debt-financed tax overhaul, which is expected to balloon the federal budget deficit and add about $1.5 trillion over 10 years to the $20 trillion national debt. “It’s interesting to hear Mark talk about fiscal responsibility,” Democratic U.S. Representative Joseph Crowley said on CBS. Crowley said the Republican tax bill would require the  United States to borrow $1.5 trillion, to be paid off by future generations, to finance tax cuts for corporations and the rich. “This is one of the least ... fiscally responsible bills we’ve ever seen passed in the history of the House of Representatives. I think we’re going to be paying for this for many, many years to come,” Crowley said. Republicans insist the tax package, the biggest U.S. tax overhaul in more than 30 years,  will boost the economy and job growth. House Speaker Paul Ryan, who also supported the tax bill, recently went further than Meadows, making clear in a radio interview that welfare or “entitlement reform,” as the party often calls it, would be a top Republican priority in 2018. In Republican parlance, “entitlement” programs mean food stamps, housing assistance, Medicare and Medicaid health insurance for the elderly, poor and disabled, as well as other programs created by Washington to assist the needy. Democrats seized on Ryan’s early December remarks, saying they showed Republicans would try to pay for their tax overhaul by seeking spending cuts for social programs. But the goals of House Republicans may have to take a back seat to the Senate, where the votes of some Democrats will be needed to approve a budget and prevent a government shutdown. Democrats will use their leverage in the Senate, which Republicans narrowly control, to defend both discretionary non-defense programs and social spending, while tackling the issue of the “Dreamers,” people brought illegally to the country as children. Trump in September put a March 2018 expiration date on the Deferred Action for Childhood Arrivals, or DACA, program, which protects the young immigrants from deportation and provides them with work permits. The president has said in recent Twitter messages he wants funding for his proposed Mexican border wall and other immigration law changes in exchange for agreeing to help the Dreamers. Representative Debbie Dingell told CBS she did not favor linking that issue to other policy objectives, such as wall funding. “We need to do DACA clean,” she said.  On Wednesday, Trump aides will meet with congressional leaders to discuss those issues. That will be followed by a weekend of strategy sessions for Trump and Republican leaders on Jan. 6 and 7, the White House said. Trump was also scheduled to meet on Sunday with Florida Republican Governor Rick Scott, who wants more emergency aid. The House has passed an $81 billion aid package after hurricanes in Florida, Texas and Puerto Rico, and wildfires in California. The package far exceeded the $44 billion requested by the Trump administration. The Senate has not yet voted on the aid. '"
      ]
     },
     "execution_count": 11,
     "metadata": {},
     "output_type": "execute_result"
    }
   ],
   "source": [
    "news['text'][0]"
   ]
  },
  {
   "cell_type": "code",
   "execution_count": 12,
   "id": "71348647-3019-4cb7-b3a4-d2b7259b55fa",
   "metadata": {},
   "outputs": [
    {
     "data": {
      "text/plain": [
       "'!\"#$%&\\'()*+,-./:;<=>?@[\\\\]^_`{|}~'"
      ]
     },
     "execution_count": 12,
     "metadata": {},
     "output_type": "execute_result"
    }
   ],
   "source": [
    "string.punctuation"
   ]
  },
  {
   "cell_type": "code",
   "execution_count": 13,
   "id": "38c4f447-a1f7-4fca-bb99-b621e29a3b94",
   "metadata": {},
   "outputs": [],
   "source": [
    "stop = set(stopwords.words('english'))"
   ]
  },
  {
   "cell_type": "code",
   "execution_count": 14,
   "id": "4d49eb50-fa31-44c8-b221-53733f5f3f98",
   "metadata": {},
   "outputs": [],
   "source": [
    "def text_processing(text):\n",
    "    text_clean = [c for c in text if c not in string.punctuation]\n",
    "    text_clean = ''.join(text_clean)\n",
    "    text_clean = [word for word in text_clean.split() if word.lower() not in stop]\n",
    "    text_clean = ' '.join(text_clean)\n",
    "    return text_clean"
   ]
  },
  {
   "cell_type": "code",
   "execution_count": 15,
   "id": "917ace6a-f7fe-420d-9d48-edfd45541cdf",
   "metadata": {},
   "outputs": [
    {
     "data": {
      "text/plain": [
       "'US budget fight looms Republicans flip fiscal script WASHINGTON Reuters head conservative Republican faction US Congress voted month huge expansion national debt pay tax cuts called “fiscal conservative” Sunday urged budget restraint 2018 keeping sharp pivot way among Republicans US Representative Mark Meadows speaking CBS’ “Face Nation” drew hard line federal spending lawmakers bracing battle January return holidays Wednesday lawmakers begin trying pass federal budget fight likely linked issues immigration policy even November congressional election campaigns approach Republicans seek keep control Congress President Donald Trump Republicans want big budget increase military spending Democrats also want proportional increases nondefense “discretionary” spending programs support education scientific research infrastructure public health environmental protection “The Trump administration already willing say ‘We’re going increase nondefense discretionary spending 7 percent’” Meadows chairman small influential House Freedom Caucus said program “Now Democrats saying that’s enough need give government pay raise 10 11 percent fiscal conservative don’t see rationale Eventually run people’s money” said Meadows among Republicans voted late December party’s debtfinanced tax overhaul expected balloon federal budget deficit add 15 trillion 10 years 20 trillion national debt “It’s interesting hear Mark talk fiscal responsibility” Democratic US Representative Joseph Crowley said CBS Crowley said Republican tax bill would require United States borrow 15 trillion paid future generations finance tax cuts corporations rich “This one least fiscally responsible bills we’ve ever seen passed history House Representatives think we’re going paying many many years come” Crowley said Republicans insist tax package biggest US tax overhaul 30 years boost economy job growth House Speaker Paul Ryan also supported tax bill recently went Meadows making clear radio interview welfare “entitlement reform” party often calls would top Republican priority 2018 Republican parlance “entitlement” programs mean food stamps housing assistance Medicare Medicaid health insurance elderly poor disabled well programs created Washington assist needy Democrats seized Ryan’s early December remarks saying showed Republicans would try pay tax overhaul seeking spending cuts social programs goals House Republicans may take back seat Senate votes Democrats needed approve budget prevent government shutdown Democrats use leverage Senate Republicans narrowly control defend discretionary nondefense programs social spending tackling issue “Dreamers” people brought illegally country children Trump September put March 2018 expiration date Deferred Action Childhood Arrivals DACA program protects young immigrants deportation provides work permits president said recent Twitter messages wants funding proposed Mexican border wall immigration law changes exchange agreeing help Dreamers Representative Debbie Dingell told CBS favor linking issue policy objectives wall funding “We need DACA clean” said Wednesday Trump aides meet congressional leaders discuss issues followed weekend strategy sessions Trump Republican leaders Jan 6 7 White House said Trump also scheduled meet Sunday Florida Republican Governor Rick Scott wants emergency aid House passed 81 billion aid package hurricanes Florida Texas Puerto Rico wildfires California package far exceeded 44 billion requested Trump administration Senate yet voted aid'"
      ]
     },
     "execution_count": 15,
     "metadata": {},
     "output_type": "execute_result"
    }
   ],
   "source": [
    "text_processing(news['text'][0])"
   ]
  },
  {
   "cell_type": "code",
   "execution_count": 16,
   "id": "378b548a-7a21-4f43-9b7b-d25ba71a3db6",
   "metadata": {},
   "outputs": [
    {
     "data": {
      "text/plain": [
       "4724"
      ]
     },
     "execution_count": 16,
     "metadata": {},
     "output_type": "execute_result"
    }
   ],
   "source": [
    "len(news['text'][0])"
   ]
  },
  {
   "cell_type": "code",
   "execution_count": 17,
   "id": "6bee2612-e3c0-4bfe-8376-12e5de9eb453",
   "metadata": {},
   "outputs": [
    {
     "data": {
      "text/plain": [
       "3505"
      ]
     },
     "execution_count": 17,
     "metadata": {},
     "output_type": "execute_result"
    }
   ],
   "source": [
    "len(text_processing(news['text'][0]))"
   ]
  },
  {
   "cell_type": "code",
   "execution_count": 18,
   "id": "41f82575-18c7-47bb-b35d-9d3c8441cc39",
   "metadata": {},
   "outputs": [],
   "source": [
    "news['text_clean'] = news['text'].apply(text_processing)"
   ]
  },
  {
   "cell_type": "code",
   "execution_count": 19,
   "id": "c5e24f75-4746-4d9c-be18-ff3971fffe0e",
   "metadata": {},
   "outputs": [
    {
     "data": {
      "text/html": [
       "<div>\n",
       "<style scoped>\n",
       "    .dataframe tbody tr th:only-of-type {\n",
       "        vertical-align: middle;\n",
       "    }\n",
       "\n",
       "    .dataframe tbody tr th {\n",
       "        vertical-align: top;\n",
       "    }\n",
       "\n",
       "    .dataframe thead th {\n",
       "        text-align: right;\n",
       "    }\n",
       "</style>\n",
       "<table border=\"1\" class=\"dataframe\">\n",
       "  <thead>\n",
       "    <tr style=\"text-align: right;\">\n",
       "      <th></th>\n",
       "      <th>text</th>\n",
       "      <th>subject</th>\n",
       "      <th>date</th>\n",
       "      <th>class</th>\n",
       "      <th>text_clean</th>\n",
       "    </tr>\n",
       "  </thead>\n",
       "  <tbody>\n",
       "    <tr>\n",
       "      <th>21304</th>\n",
       "      <td>U.S. navy recovers remains of all sailors miss...</td>\n",
       "      <td>worldnews</td>\n",
       "      <td>August 28, 2017</td>\n",
       "      <td>1</td>\n",
       "      <td>US navy recovers remains sailors missing USS M...</td>\n",
       "    </tr>\n",
       "    <tr>\n",
       "      <th>7539</th>\n",
       "      <td>Social media helps U.S. millennial voters regi...</td>\n",
       "      <td>politicsNews</td>\n",
       "      <td>November 6, 2016</td>\n",
       "      <td>1</td>\n",
       "      <td>Social media helps US millennial voters regist...</td>\n",
       "    </tr>\n",
       "    <tr>\n",
       "      <th>28037</th>\n",
       "      <td>WATCH: Film About Barack And Michelle Set To ...</td>\n",
       "      <td>News</td>\n",
       "      <td>April 30, 2016</td>\n",
       "      <td>0</td>\n",
       "      <td>WATCH Film Barack Michelle Set Debut Plot Amaz...</td>\n",
       "    </tr>\n",
       "    <tr>\n",
       "      <th>39188</th>\n",
       "      <td>WATCH: SANCTIMONIOUS ANTI-TRUMP Hollywood IMPL...</td>\n",
       "      <td>left-news</td>\n",
       "      <td>Oct 23, 2017</td>\n",
       "      <td>0</td>\n",
       "      <td>WATCH SANCTIMONIOUS ANTITRUMP Hollywood IMPLOD...</td>\n",
       "    </tr>\n",
       "    <tr>\n",
       "      <th>36572</th>\n",
       "      <td>US Spends Over $500 Million To Train Syrian Re...</td>\n",
       "      <td>politics</td>\n",
       "      <td>Sep 27, 2015</td>\n",
       "      <td>0</td>\n",
       "      <td>US Spends 500 Million Train Syrian Rebels Give...</td>\n",
       "    </tr>\n",
       "  </tbody>\n",
       "</table>\n",
       "</div>"
      ],
      "text/plain": [
       "                                                    text       subject  \\\n",
       "21304  U.S. navy recovers remains of all sailors miss...     worldnews   \n",
       "7539   Social media helps U.S. millennial voters regi...  politicsNews   \n",
       "28037   WATCH: Film About Barack And Michelle Set To ...          News   \n",
       "39188  WATCH: SANCTIMONIOUS ANTI-TRUMP Hollywood IMPL...     left-news   \n",
       "36572  US Spends Over $500 Million To Train Syrian Re...      politics   \n",
       "\n",
       "                    date  class  \\\n",
       "21304   August 28, 2017       1   \n",
       "7539   November 6, 2016       1   \n",
       "28037     April 30, 2016      0   \n",
       "39188       Oct 23, 2017      0   \n",
       "36572       Sep 27, 2015      0   \n",
       "\n",
       "                                              text_clean  \n",
       "21304  US navy recovers remains sailors missing USS M...  \n",
       "7539   Social media helps US millennial voters regist...  \n",
       "28037  WATCH Film Barack Michelle Set Debut Plot Amaz...  \n",
       "39188  WATCH SANCTIMONIOUS ANTITRUMP Hollywood IMPLOD...  \n",
       "36572  US Spends 500 Million Train Syrian Rebels Give...  "
      ]
     },
     "execution_count": 19,
     "metadata": {},
     "output_type": "execute_result"
    }
   ],
   "source": [
    "news.sample(5)"
   ]
  },
  {
   "cell_type": "code",
   "execution_count": 20,
   "id": "cb5ca3ec-5526-465b-a278-502f9ae00bfe",
   "metadata": {},
   "outputs": [],
   "source": [
    "plt.style.use('bmh')"
   ]
  },
  {
   "cell_type": "code",
   "execution_count": 21,
   "id": "6cef275f-0091-4ac5-a781-870424b440af",
   "metadata": {},
   "outputs": [
    {
     "data": {
      "image/png": "[encoded data removed]",
      "text/plain": [
       "<Figure size 432x288 with 1 Axes>"
      ]
     },
     "metadata": {
      "needs_background": "light"
     },
     "output_type": "display_data"
    }
   ],
   "source": [
    "sns.countplot(data=news , x='class');"
   ]
  },
  {
   "cell_type": "code",
   "execution_count": 22,
   "id": "6088d47d-6cbd-4efb-ac03-921f15d67e1f",
   "metadata": {},
   "outputs": [],
   "source": [
    "news['text_len'] = news['text_clean'].map(len)"
   ]
  },
  {
   "cell_type": "code",
   "execution_count": 23,
   "id": "91bc704d-ea95-436e-9e08-3af4b7a8eff2",
   "metadata": {},
   "outputs": [
    {
     "data": {
      "image/png": "[encoded data removed]",
      "text/plain": [
       "<Figure size 864x576 with 1 Axes>"
      ]
     },
     "metadata": {
      "needs_background": "light"
     },
     "output_type": "display_data"
    }
   ],
   "source": [
    "plt.figure(figsize=(12,8))\n",
    "sns.histplot(data=news , x='text_len' , hue='class' , bins=100);"
   ]
  },
  {
   "cell_type": "code",
   "execution_count": 24,
   "id": "62ead4c6-9b23-481f-86d6-1ae462403a52",
   "metadata": {},
   "outputs": [],
   "source": [
    "true_news = news[news['class'] == 1]['text_clean']\n",
    "fake_news = news[news['class'] == 0]['text_clean']"
   ]
  },
  {
   "cell_type": "code",
   "execution_count": 25,
   "id": "d704c626-ba37-4aad-8504-bcbd2b2c7da2",
   "metadata": {},
   "outputs": [
    {
     "data": {
      "text/plain": [
       "16885    Zuma given November 30 deadline ahead South Af...\n",
       "20816    Trump administration blacklists three official...\n",
       "17068    UKs May meet Bill Clinton discuss Northern Ire...\n",
       "Name: text_clean, dtype: object"
      ]
     },
     "execution_count": 25,
     "metadata": {},
     "output_type": "execute_result"
    }
   ],
   "source": [
    "true_news.sample(3)"
   ]
  },
  {
   "cell_type": "code",
   "execution_count": 26,
   "id": "cfe8c52c-b7a1-483f-95cc-00539f45abec",
   "metadata": {},
   "outputs": [
    {
     "data": {
      "text/plain": [
       "35583    BREAKING CRUZ WINS BIG WISCONSIN…But Get 1237 ...\n",
       "33123    WOW NEW YORK TIMES ADMITS “Cooked Numbers” Kee...\n",
       "43597    TRUMPDOM Curious World Trump’s Foreign Policy ...\n",
       "Name: text_clean, dtype: object"
      ]
     },
     "execution_count": 26,
     "metadata": {},
     "output_type": "execute_result"
    }
   ],
   "source": [
    "fake_news.sample(3)"
   ]
  },
  {
   "cell_type": "code",
   "execution_count": 27,
   "id": "818aeeb3-3bf0-4390-b26c-d68c3ce1fffc",
   "metadata": {},
   "outputs": [],
   "source": [
    "true_count = true_news.map(lambda x : [word.lower() for word in x.split()])\n",
    "fake_count = fake_news.map(lambda x : [word.lower() for word in x.split()])"
   ]
  },
  {
   "cell_type": "code",
   "execution_count": 28,
   "id": "9fe156ea-a84c-4d26-89f2-e8908305638a",
   "metadata": {},
   "outputs": [],
   "source": [
    "count = Counter()\n",
    "for i in true_count:\n",
    "    count.update(i)\n",
    "true_most30 = count.most_common(30)"
   ]
  },
  {
   "cell_type": "code",
   "execution_count": 29,
   "id": "2ea60064-8d63-4f04-9ca5-96290908f93f",
   "metadata": {},
   "outputs": [],
   "source": [
    "count = Counter()\n",
    "for i in fake_count:\n",
    "    count.update(i)\n",
    "fake_most30 = count.most_common(30)"
   ]
  },
  {
   "cell_type": "code",
   "execution_count": 30,
   "id": "c37d2a55-5c89-42c7-9de1-70fd8c1af035",
   "metadata": {},
   "outputs": [],
   "source": [
    "true_most30 = pd.DataFrame(true_most30 , columns=['text' , 'len'])\n",
    "fake_most30 = pd.DataFrame(fake_most30 , columns=['text' , 'len'])"
   ]
  },
  {
   "cell_type": "code",
   "execution_count": 31,
   "id": "61c10c1b-f26d-4d4f-b0a3-a82f1fc5f279",
   "metadata": {},
   "outputs": [
    {
     "data": {
      "image/png": "[encoded data removed]",
      "text/plain": [
       "<Figure size 720x360 with 1 Axes>"
      ]
     },
     "metadata": {
      "needs_background": "light"
     },
     "output_type": "display_data"
    }
   ],
   "source": [
    "plt.figure(figsize=(10,5))\n",
    "sns.barplot(data=true_most30 , y='len' , x='text')\n",
    "plt.title('True News')\n",
    "plt.xticks(rotation=90)\n",
    "plt.tight_layout();"
   ]
  },
  {
   "cell_type": "code",
   "execution_count": 32,
   "id": "40d3caa9-0395-4f25-8386-226946c707ca",
   "metadata": {},
   "outputs": [
    {
     "data": {
      "image/png": "[encoded data removed]",
      "text/plain": [
       "<Figure size 720x360 with 1 Axes>"
      ]
     },
     "metadata": {
      "needs_background": "light"
     },
     "output_type": "display_data"
    }
   ],
   "source": [
    "plt.figure(figsize=(10,5))\n",
    "sns.barplot(data=fake_most30 , y='len' , x='text')\n",
    "plt.title('Fake News')\n",
    "plt.xticks(rotation=90)\n",
    "plt.tight_layout();"
   ]
  },
  {
   "cell_type": "code",
   "execution_count": 33,
   "id": "f9503ad9-49c3-427e-8b17-305e84b961f3",
   "metadata": {},
   "outputs": [],
   "source": [
    "features = news['text_clean']\n",
    "target = news['class']"
   ]
  },
  {
   "cell_type": "code",
   "execution_count": 34,
   "id": "ec5cb214-6487-488a-b767-0e6605829ffb",
   "metadata": {},
   "outputs": [],
   "source": [
    "x_train , x_test , y_train , y_test = train_test_split(features , target , test_size=0.2 , shuffle=True)"
   ]
  },
  {
   "cell_type": "markdown",
   "id": "7162d771-273f-4565-a0f2-023aab88f481",
   "metadata": {},
   "source": [
    "### By TfidfVectorizer"
   ]
  },
  {
   "cell_type": "code",
   "execution_count": 35,
   "id": "3b4420e9-8180-4111-bf85-7d33c43e3abe",
   "metadata": {},
   "outputs": [],
   "source": [
    "tv = TfidfVectorizer()"
   ]
  },
  {
   "cell_type": "code",
   "execution_count": 36,
   "id": "96a49e65-b6c1-4857-9c60-d154347d4ffa",
   "metadata": {},
   "outputs": [],
   "source": [
    "x_train_tv = tv.fit_transform(x_train)\n",
    "x_test_tv = tv.transform(x_test)"
   ]
  },
  {
   "cell_type": "code",
   "execution_count": 37,
   "id": "62839f37-177c-4ded-ab55-687a1ca5b758",
   "metadata": {},
   "outputs": [],
   "source": [
    "model = MultinomialNB()"
   ]
  },
  {
   "cell_type": "code",
   "execution_count": 38,
   "id": "4fa27cb1-de42-47fa-8e83-c0367affde05",
   "metadata": {},
   "outputs": [
    {
     "data": {
      "text/plain": [
       "MultinomialNB()"
      ]
     },
     "execution_count": 38,
     "metadata": {},
     "output_type": "execute_result"
    }
   ],
   "source": [
    "model.fit(x_train_tv , y_train)"
   ]
  },
  {
   "cell_type": "code",
   "execution_count": 39,
   "id": "62a42b4b-3178-4edb-95a8-1285d9d0a841",
   "metadata": {},
   "outputs": [
    {
     "data": {
      "text/plain": [
       "0.9544518068934796"
      ]
     },
     "execution_count": 39,
     "metadata": {},
     "output_type": "execute_result"
    }
   ],
   "source": [
    "model.score(x_train_tv , y_train)"
   ]
  },
  {
   "cell_type": "code",
   "execution_count": 40,
   "id": "b0b03066-f961-4712-b934-59a76ceb70f5",
   "metadata": {},
   "outputs": [
    {
     "data": {
      "text/plain": [
       "0.9455456570155902"
      ]
     },
     "execution_count": 40,
     "metadata": {},
     "output_type": "execute_result"
    }
   ],
   "source": [
    "model.score(x_test_tv , y_test)"
   ]
  },
  {
   "cell_type": "code",
   "execution_count": 41,
   "id": "a0d6044a-e4de-4ac5-9d87-e4d999676eb4",
   "metadata": {},
   "outputs": [],
   "source": [
    "y_pred = model.predict(x_test_tv)"
   ]
  },
  {
   "cell_type": "code",
   "execution_count": 42,
   "id": "716ebb1f-519b-46ae-b12d-e577a4a17658",
   "metadata": {},
   "outputs": [
    {
     "name": "stdout",
     "output_type": "stream",
     "text": [
      "              precision    recall  f1-score   support\n",
      "\n",
      "           0       0.95      0.95      0.95      4673\n",
      "           1       0.94      0.95      0.94      4307\n",
      "\n",
      "    accuracy                           0.95      8980\n",
      "   macro avg       0.95      0.95      0.95      8980\n",
      "weighted avg       0.95      0.95      0.95      8980\n",
      "\n"
     ]
    }
   ],
   "source": [
    "print(classification_report(y_test , y_pred))"
   ]
  },
  {
   "cell_type": "code",
   "execution_count": 43,
   "id": "b8732772-fed4-49ba-946f-d87b3d062c16",
   "metadata": {},
   "outputs": [
    {
     "data": {
      "image/png": "[encoded data removed]",
      "text/plain": [
       "<Figure size 432x288 with 2 Axes>"
      ]
     },
     "metadata": {
      "needs_background": "light"
     },
     "output_type": "display_data"
    }
   ],
   "source": [
    "conf_mat = pd.DataFrame(confusion_matrix(y_test , y_pred) , index=['Fake' , 'True'] , columns=['Fake' , 'True'])\n",
    "sns.heatmap(data=conf_mat , annot=True , fmt=',.0f' , cmap='Reds' , linewidths=1)\n",
    "plt.xlabel('Prediction')\n",
    "plt.ylabel('Actually');"
   ]
  },
  {
   "cell_type": "markdown",
   "id": "a742d855-5ab4-4118-8d64-61e112b6fae9",
   "metadata": {},
   "source": [
    "### By CountVectorizer"
   ]
  },
  {
   "cell_type": "code",
   "execution_count": 44,
   "id": "0196f11f-6eb0-4df2-b938-e779db3f5215",
   "metadata": {},
   "outputs": [],
   "source": [
    "cv = CountVectorizer()"
   ]
  },
  {
   "cell_type": "code",
   "execution_count": 45,
   "id": "f11fb881-ef02-45eb-8c52-065eb9610f11",
   "metadata": {},
   "outputs": [],
   "source": [
    "x_train_cv = cv.fit_transform(x_train)\n",
    "x_test_cv = cv.transform(x_test)"
   ]
  },
  {
   "cell_type": "code",
   "execution_count": 46,
   "id": "575e9b11-ac82-4b06-9ada-9503bbaa5117",
   "metadata": {},
   "outputs": [],
   "source": [
    "model = MultinomialNB()"
   ]
  },
  {
   "cell_type": "code",
   "execution_count": 47,
   "id": "6c274d23-2f7c-463c-b714-aa3fd94999b0",
   "metadata": {},
   "outputs": [
    {
     "data": {
      "text/plain": [
       "MultinomialNB()"
      ]
     },
     "execution_count": 47,
     "metadata": {},
     "output_type": "execute_result"
    }
   ],
   "source": [
    "model.fit(x_train_cv , y_train)"
   ]
  },
  {
   "cell_type": "code",
   "execution_count": 48,
   "id": "172e3718-9e1a-488e-b1fa-08be08981838",
   "metadata": {},
   "outputs": [
    {
     "data": {
      "text/plain": [
       "0.9706553817027674"
      ]
     },
     "execution_count": 48,
     "metadata": {},
     "output_type": "execute_result"
    }
   ],
   "source": [
    "model.score(x_train_cv , y_train)"
   ]
  },
  {
   "cell_type": "code",
   "execution_count": 49,
   "id": "d6344d02-bd51-4e57-ba94-d950a46dbbea",
   "metadata": {},
   "outputs": [
    {
     "data": {
      "text/plain": [
       "0.9615812917594655"
      ]
     },
     "execution_count": 49,
     "metadata": {},
     "output_type": "execute_result"
    }
   ],
   "source": [
    "model.score(x_test_cv , y_test)"
   ]
  },
  {
   "cell_type": "code",
   "execution_count": 50,
   "id": "87a78662-26ef-4391-90ff-353c1d3b9db6",
   "metadata": {},
   "outputs": [],
   "source": [
    "y_pred = model.predict(x_test_cv)"
   ]
  },
  {
   "cell_type": "code",
   "execution_count": 51,
   "id": "404bcb61-0412-47b5-b14a-306d7e33087f",
   "metadata": {},
   "outputs": [
    {
     "name": "stdout",
     "output_type": "stream",
     "text": [
      "              precision    recall  f1-score   support\n",
      "\n",
      "           0       0.97      0.96      0.96      4673\n",
      "           1       0.95      0.97      0.96      4307\n",
      "\n",
      "    accuracy                           0.96      8980\n",
      "   macro avg       0.96      0.96      0.96      8980\n",
      "weighted avg       0.96      0.96      0.96      8980\n",
      "\n"
     ]
    }
   ],
   "source": [
    "print(classification_report(y_test , y_pred))"
   ]
  },
  {
   "cell_type": "code",
   "execution_count": 52,
   "id": "147aebf8-f223-4c0d-9178-2c1cac49832c",
   "metadata": {},
   "outputs": [
    {
     "data": {
      "image/png": "[encoded data removed]",
      "text/plain": [
       "<Figure size 432x288 with 2 Axes>"
      ]
     },
     "metadata": {
      "needs_background": "light"
     },
     "output_type": "display_data"
    }
   ],
   "source": [
    "conf_mat = pd.DataFrame(confusion_matrix(y_test , y_pred) , index=['Fake' , 'True'] , columns=['Fake' , 'True'])\n",
    "sns.heatmap(data=conf_mat , annot=True , fmt=',.0f' , cmap='Blues' , linewidths=1)\n",
    "plt.xlabel('Prediction')\n",
    "plt.ylabel('Actually');"
   ]
  },
  {
   "cell_type": "code",
   "execution_count": null,
   "id": "3e2301c5-c7b1-48c6-be51-966fe3bf15cd",
   "metadata": {},
   "outputs": [],
   "source": []
  }
 ],
 "metadata": {
  "kernelspec": {
   "display_name": "Python 3",
   "language": "python",
   "name": "python3"
  },
  "language_info": {
   "codemirror_mode": {
    "name": "ipython",
    "version": 3
   },
   "file_extension": ".py",
   "mimetype": "text/x-python",
   "name": "python",
   "nbconvert_exporter": "python",
   "pygments_lexer": "ipython3",
   "version": "3.9.1"
  }
 },
 "nbformat": 4,
 "nbformat_minor": 5
}
