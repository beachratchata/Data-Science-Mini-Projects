{
 "cells": [
  {
   "cell_type": "markdown",
   "id": "fda58d05",
   "metadata": {
    "papermill": {
     "duration": 0.037112,
     "end_time": "2021-10-04T05:42:31.374113",
     "exception": false,
     "start_time": "2021-10-04T05:42:31.337001",
     "status": "completed"
    },
    "tags": []
   },
   "source": [
    "# การแยกข่าวปลอมและข่าวจริง"
   ]
  },
  {
   "cell_type": "code",
   "execution_count": 1,
   "id": "62c6c0a0",
   "metadata": {
    "_cell_guid": "b1076dfc-b9ad-4769-8c92-a6c4dae69d19",
    "_uuid": "8f2839f25d086af736a60e9eeb907d3b93b6e0e5",
    "execution": {
     "iopub.execute_input": "2021-10-04T05:42:31.460704Z",
     "iopub.status.busy": "2021-10-04T05:42:31.460006Z",
     "iopub.status.idle": "2021-10-04T05:42:31.472167Z",
     "shell.execute_reply": "2021-10-04T05:42:31.472715Z",
     "shell.execute_reply.started": "2021-10-04T05:36:08.164331Z"
    },
    "papermill": {
     "duration": 0.06155,
     "end_time": "2021-10-04T05:42:31.473056",
     "exception": false,
     "start_time": "2021-10-04T05:42:31.411506",
     "status": "completed"
    },
    "tags": []
   },
   "outputs": [
    {
     "name": "stdout",
     "output_type": "stream",
     "text": [
      "/kaggle/input/fake-and-real-news-dataset/True.csv\n",
      "/kaggle/input/fake-and-real-news-dataset/Fake.csv\n"
     ]
    }
   ],
   "source": [
    "# This Python 3 environment comes with many helpful analytics libraries installed\n",
    "# It is defined by the kaggle/python Docker image: https://github.com/kaggle/docker-python\n",
    "# For example, here's several helpful packages to load\n",
    "\n",
    "import numpy as np # linear algebra\n",
    "import pandas as pd # data processing, CSV file I/O (e.g. pd.read_csv)\n",
    "\n",
    "# Input data files are available in the read-only \"../input/\" directory\n",
    "# For example, running this (by clicking run or pressing Shift+Enter) will list all files under the input directory\n",
    "\n",
    "import os\n",
    "for dirname, _, filenames in os.walk('/kaggle/input'):\n",
    "    for filename in filenames:\n",
    "        print(os.path.join(dirname, filename))\n",
    "\n",
    "# You can write up to 20GB to the current directory (/kaggle/working/) that gets preserved as output when you create a version using \"Save & Run All\" \n",
    "# You can also write temporary files to /kaggle/temp/, but they won't be saved outside of the current session"
   ]
  },
  {
   "cell_type": "code",
   "execution_count": 2,
   "id": "7550ee6b",
   "metadata": {
    "execution": {
     "iopub.execute_input": "2021-10-04T05:42:31.553301Z",
     "iopub.status.busy": "2021-10-04T05:42:31.552609Z",
     "iopub.status.idle": "2021-10-04T05:42:33.754745Z",
     "shell.execute_reply": "2021-10-04T05:42:33.755284Z",
     "shell.execute_reply.started": "2021-10-04T05:36:08.176951Z"
    },
    "papermill": {
     "duration": 2.245127,
     "end_time": "2021-10-04T05:42:33.755513",
     "exception": false,
     "start_time": "2021-10-04T05:42:31.510386",
     "status": "completed"
    },
    "tags": []
   },
   "outputs": [],
   "source": [
    "import pandas as pd\n",
    "import matplotlib.pyplot as plt\n",
    "import seaborn as sns \n",
    "import numpy as np\n",
    "from nltk.corpus import stopwords\n",
    "import string\n",
    "from collections import Counter\n",
    "import warnings\n",
    "warnings.filterwarnings('ignore')"
   ]
  },
  {
   "cell_type": "code",
   "execution_count": 3,
   "id": "c831b101",
   "metadata": {
    "execution": {
     "iopub.execute_input": "2021-10-04T05:42:33.833719Z",
     "iopub.status.busy": "2021-10-04T05:42:33.833066Z",
     "iopub.status.idle": "2021-10-04T05:42:33.873023Z",
     "shell.execute_reply": "2021-10-04T05:42:33.872459Z",
     "shell.execute_reply.started": "2021-10-04T05:36:08.198577Z"
    },
    "papermill": {
     "duration": 0.080241,
     "end_time": "2021-10-04T05:42:33.873173",
     "exception": false,
     "start_time": "2021-10-04T05:42:33.792932",
     "status": "completed"
    },
    "tags": []
   },
   "outputs": [],
   "source": [
    "from sklearn.linear_model import LogisticRegression\n",
    "from sklearn.model_selection import train_test_split , GridSearchCV\n",
    "from sklearn.metrics import * \n",
    "from sklearn.feature_extraction.text import TfidfVectorizer , CountVectorizer\n",
    "from sklearn.decomposition import PCA , TruncatedSVD , NMF\n",
    "from sklearn.pipeline import Pipeline"
   ]
  },
  {
   "cell_type": "code",
   "execution_count": 4,
   "id": "988353c6",
   "metadata": {
    "execution": {
     "iopub.execute_input": "2021-10-04T05:42:33.953814Z",
     "iopub.status.busy": "2021-10-04T05:42:33.953053Z",
     "iopub.status.idle": "2021-10-04T05:42:35.639575Z",
     "shell.execute_reply": "2021-10-04T05:42:35.638974Z",
     "shell.execute_reply.started": "2021-10-04T05:36:08.212196Z"
    },
    "papermill": {
     "duration": 1.730122,
     "end_time": "2021-10-04T05:42:35.639757",
     "exception": false,
     "start_time": "2021-10-04T05:42:33.909635",
     "status": "completed"
    },
    "tags": []
   },
   "outputs": [
    {
     "data": {
      "text/html": [
       "<div>\n",
       "<style scoped>\n",
       "    .dataframe tbody tr th:only-of-type {\n",
       "        vertical-align: middle;\n",
       "    }\n",
       "\n",
       "    .dataframe tbody tr th {\n",
       "        vertical-align: top;\n",
       "    }\n",
       "\n",
       "    .dataframe thead th {\n",
       "        text-align: right;\n",
       "    }\n",
       "</style>\n",
       "<table border=\"1\" class=\"dataframe\">\n",
       "  <thead>\n",
       "    <tr style=\"text-align: right;\">\n",
       "      <th></th>\n",
       "      <th>title</th>\n",
       "      <th>text</th>\n",
       "      <th>subject</th>\n",
       "      <th>date</th>\n",
       "    </tr>\n",
       "  </thead>\n",
       "  <tbody>\n",
       "    <tr>\n",
       "      <th>0</th>\n",
       "      <td>As U.S. budget fight looms, Republicans flip t...</td>\n",
       "      <td>WASHINGTON (Reuters) - The head of a conservat...</td>\n",
       "      <td>politicsNews</td>\n",
       "      <td>December 31, 2017</td>\n",
       "    </tr>\n",
       "    <tr>\n",
       "      <th>1</th>\n",
       "      <td>U.S. military to accept transgender recruits o...</td>\n",
       "      <td>WASHINGTON (Reuters) - Transgender people will...</td>\n",
       "      <td>politicsNews</td>\n",
       "      <td>December 29, 2017</td>\n",
       "    </tr>\n",
       "    <tr>\n",
       "      <th>2</th>\n",
       "      <td>Senior U.S. Republican senator: 'Let Mr. Muell...</td>\n",
       "      <td>WASHINGTON (Reuters) - The special counsel inv...</td>\n",
       "      <td>politicsNews</td>\n",
       "      <td>December 31, 2017</td>\n",
       "    </tr>\n",
       "    <tr>\n",
       "      <th>3</th>\n",
       "      <td>FBI Russia probe helped by Australian diplomat...</td>\n",
       "      <td>WASHINGTON (Reuters) - Trump campaign adviser ...</td>\n",
       "      <td>politicsNews</td>\n",
       "      <td>December 30, 2017</td>\n",
       "    </tr>\n",
       "    <tr>\n",
       "      <th>4</th>\n",
       "      <td>Trump wants Postal Service to charge 'much mor...</td>\n",
       "      <td>SEATTLE/WASHINGTON (Reuters) - President Donal...</td>\n",
       "      <td>politicsNews</td>\n",
       "      <td>December 29, 2017</td>\n",
       "    </tr>\n",
       "  </tbody>\n",
       "</table>\n",
       "</div>"
      ],
      "text/plain": [
       "                                               title  \\\n",
       "0  As U.S. budget fight looms, Republicans flip t...   \n",
       "1  U.S. military to accept transgender recruits o...   \n",
       "2  Senior U.S. Republican senator: 'Let Mr. Muell...   \n",
       "3  FBI Russia probe helped by Australian diplomat...   \n",
       "4  Trump wants Postal Service to charge 'much mor...   \n",
       "\n",
       "                                                text       subject  \\\n",
       "0  WASHINGTON (Reuters) - The head of a conservat...  politicsNews   \n",
       "1  WASHINGTON (Reuters) - Transgender people will...  politicsNews   \n",
       "2  WASHINGTON (Reuters) - The special counsel inv...  politicsNews   \n",
       "3  WASHINGTON (Reuters) - Trump campaign adviser ...  politicsNews   \n",
       "4  SEATTLE/WASHINGTON (Reuters) - President Donal...  politicsNews   \n",
       "\n",
       "                 date  \n",
       "0  December 31, 2017   \n",
       "1  December 29, 2017   \n",
       "2  December 31, 2017   \n",
       "3  December 30, 2017   \n",
       "4  December 29, 2017   "
      ]
     },
     "execution_count": 4,
     "metadata": {},
     "output_type": "execute_result"
    }
   ],
   "source": [
    "true = pd.read_csv('/kaggle/input/fake-and-real-news-dataset/True.csv')\n",
    "true.head()"
   ]
  },
  {
   "cell_type": "code",
   "execution_count": 5,
   "id": "27f7a29d",
   "metadata": {
    "execution": {
     "iopub.execute_input": "2021-10-04T05:42:35.718782Z",
     "iopub.status.busy": "2021-10-04T05:42:35.718023Z",
     "iopub.status.idle": "2021-10-04T05:42:37.172725Z",
     "shell.execute_reply": "2021-10-04T05:42:37.172172Z",
     "shell.execute_reply.started": "2021-10-04T05:36:08.900852Z"
    },
    "papermill": {
     "duration": 1.495751,
     "end_time": "2021-10-04T05:42:37.172907",
     "exception": false,
     "start_time": "2021-10-04T05:42:35.677156",
     "status": "completed"
    },
    "tags": []
   },
   "outputs": [
    {
     "data": {
      "text/html": [
       "<div>\n",
       "<style scoped>\n",
       "    .dataframe tbody tr th:only-of-type {\n",
       "        vertical-align: middle;\n",
       "    }\n",
       "\n",
       "    .dataframe tbody tr th {\n",
       "        vertical-align: top;\n",
       "    }\n",
       "\n",
       "    .dataframe thead th {\n",
       "        text-align: right;\n",
       "    }\n",
       "</style>\n",
       "<table border=\"1\" class=\"dataframe\">\n",
       "  <thead>\n",
       "    <tr style=\"text-align: right;\">\n",
       "      <th></th>\n",
       "      <th>title</th>\n",
       "      <th>text</th>\n",
       "      <th>subject</th>\n",
       "      <th>date</th>\n",
       "    </tr>\n",
       "  </thead>\n",
       "  <tbody>\n",
       "    <tr>\n",
       "      <th>0</th>\n",
       "      <td>Donald Trump Sends Out Embarrassing New Year’...</td>\n",
       "      <td>Donald Trump just couldn t wish all Americans ...</td>\n",
       "      <td>News</td>\n",
       "      <td>December 31, 2017</td>\n",
       "    </tr>\n",
       "    <tr>\n",
       "      <th>1</th>\n",
       "      <td>Drunk Bragging Trump Staffer Started Russian ...</td>\n",
       "      <td>House Intelligence Committee Chairman Devin Nu...</td>\n",
       "      <td>News</td>\n",
       "      <td>December 31, 2017</td>\n",
       "    </tr>\n",
       "    <tr>\n",
       "      <th>2</th>\n",
       "      <td>Sheriff David Clarke Becomes An Internet Joke...</td>\n",
       "      <td>On Friday, it was revealed that former Milwauk...</td>\n",
       "      <td>News</td>\n",
       "      <td>December 30, 2017</td>\n",
       "    </tr>\n",
       "    <tr>\n",
       "      <th>3</th>\n",
       "      <td>Trump Is So Obsessed He Even Has Obama’s Name...</td>\n",
       "      <td>On Christmas day, Donald Trump announced that ...</td>\n",
       "      <td>News</td>\n",
       "      <td>December 29, 2017</td>\n",
       "    </tr>\n",
       "    <tr>\n",
       "      <th>4</th>\n",
       "      <td>Pope Francis Just Called Out Donald Trump Dur...</td>\n",
       "      <td>Pope Francis used his annual Christmas Day mes...</td>\n",
       "      <td>News</td>\n",
       "      <td>December 25, 2017</td>\n",
       "    </tr>\n",
       "  </tbody>\n",
       "</table>\n",
       "</div>"
      ],
      "text/plain": [
       "                                               title  \\\n",
       "0   Donald Trump Sends Out Embarrassing New Year’...   \n",
       "1   Drunk Bragging Trump Staffer Started Russian ...   \n",
       "2   Sheriff David Clarke Becomes An Internet Joke...   \n",
       "3   Trump Is So Obsessed He Even Has Obama’s Name...   \n",
       "4   Pope Francis Just Called Out Donald Trump Dur...   \n",
       "\n",
       "                                                text subject  \\\n",
       "0  Donald Trump just couldn t wish all Americans ...    News   \n",
       "1  House Intelligence Committee Chairman Devin Nu...    News   \n",
       "2  On Friday, it was revealed that former Milwauk...    News   \n",
       "3  On Christmas day, Donald Trump announced that ...    News   \n",
       "4  Pope Francis used his annual Christmas Day mes...    News   \n",
       "\n",
       "                date  \n",
       "0  December 31, 2017  \n",
       "1  December 31, 2017  \n",
       "2  December 30, 2017  \n",
       "3  December 29, 2017  \n",
       "4  December 25, 2017  "
      ]
     },
     "execution_count": 5,
     "metadata": {},
     "output_type": "execute_result"
    }
   ],
   "source": [
    "fake = pd.read_csv('/kaggle/input/fake-and-real-news-dataset/Fake.csv')\n",
    "fake.head()"
   ]
  },
  {
   "cell_type": "code",
   "execution_count": 6,
   "id": "c289947c",
   "metadata": {
    "execution": {
     "iopub.execute_input": "2021-10-04T05:42:37.252526Z",
     "iopub.status.busy": "2021-10-04T05:42:37.251792Z",
     "iopub.status.idle": "2021-10-04T05:42:37.268889Z",
     "shell.execute_reply": "2021-10-04T05:42:37.267270Z",
     "shell.execute_reply.started": "2021-10-04T05:36:09.630798Z"
    },
    "papermill": {
     "duration": 0.058878,
     "end_time": "2021-10-04T05:42:37.269094",
     "exception": false,
     "start_time": "2021-10-04T05:42:37.210216",
     "status": "completed"
    },
    "tags": []
   },
   "outputs": [],
   "source": [
    "true['class'] = 0\n",
    "fake['class'] = 1"
   ]
  },
  {
   "cell_type": "code",
   "execution_count": 7,
   "id": "0cbf8899",
   "metadata": {
    "execution": {
     "iopub.execute_input": "2021-10-04T05:42:37.358084Z",
     "iopub.status.busy": "2021-10-04T05:42:37.357183Z",
     "iopub.status.idle": "2021-10-04T05:42:37.361553Z",
     "shell.execute_reply": "2021-10-04T05:42:37.360994Z",
     "shell.execute_reply.started": "2021-10-04T05:36:09.639845Z"
    },
    "papermill": {
     "duration": 0.054805,
     "end_time": "2021-10-04T05:42:37.361708",
     "exception": false,
     "start_time": "2021-10-04T05:42:37.306903",
     "status": "completed"
    },
    "tags": []
   },
   "outputs": [
    {
     "data": {
      "text/html": [
       "<div>\n",
       "<style scoped>\n",
       "    .dataframe tbody tr th:only-of-type {\n",
       "        vertical-align: middle;\n",
       "    }\n",
       "\n",
       "    .dataframe tbody tr th {\n",
       "        vertical-align: top;\n",
       "    }\n",
       "\n",
       "    .dataframe thead th {\n",
       "        text-align: right;\n",
       "    }\n",
       "</style>\n",
       "<table border=\"1\" class=\"dataframe\">\n",
       "  <thead>\n",
       "    <tr style=\"text-align: right;\">\n",
       "      <th></th>\n",
       "      <th>title</th>\n",
       "      <th>text</th>\n",
       "      <th>subject</th>\n",
       "      <th>date</th>\n",
       "      <th>class</th>\n",
       "    </tr>\n",
       "  </thead>\n",
       "  <tbody>\n",
       "    <tr>\n",
       "      <th>0</th>\n",
       "      <td>As U.S. budget fight looms, Republicans flip t...</td>\n",
       "      <td>WASHINGTON (Reuters) - The head of a conservat...</td>\n",
       "      <td>politicsNews</td>\n",
       "      <td>December 31, 2017</td>\n",
       "      <td>0</td>\n",
       "    </tr>\n",
       "    <tr>\n",
       "      <th>1</th>\n",
       "      <td>U.S. military to accept transgender recruits o...</td>\n",
       "      <td>WASHINGTON (Reuters) - Transgender people will...</td>\n",
       "      <td>politicsNews</td>\n",
       "      <td>December 29, 2017</td>\n",
       "      <td>0</td>\n",
       "    </tr>\n",
       "    <tr>\n",
       "      <th>2</th>\n",
       "      <td>Senior U.S. Republican senator: 'Let Mr. Muell...</td>\n",
       "      <td>WASHINGTON (Reuters) - The special counsel inv...</td>\n",
       "      <td>politicsNews</td>\n",
       "      <td>December 31, 2017</td>\n",
       "      <td>0</td>\n",
       "    </tr>\n",
       "    <tr>\n",
       "      <th>3</th>\n",
       "      <td>FBI Russia probe helped by Australian diplomat...</td>\n",
       "      <td>WASHINGTON (Reuters) - Trump campaign adviser ...</td>\n",
       "      <td>politicsNews</td>\n",
       "      <td>December 30, 2017</td>\n",
       "      <td>0</td>\n",
       "    </tr>\n",
       "    <tr>\n",
       "      <th>4</th>\n",
       "      <td>Trump wants Postal Service to charge 'much mor...</td>\n",
       "      <td>SEATTLE/WASHINGTON (Reuters) - President Donal...</td>\n",
       "      <td>politicsNews</td>\n",
       "      <td>December 29, 2017</td>\n",
       "      <td>0</td>\n",
       "    </tr>\n",
       "  </tbody>\n",
       "</table>\n",
       "</div>"
      ],
      "text/plain": [
       "                                               title  \\\n",
       "0  As U.S. budget fight looms, Republicans flip t...   \n",
       "1  U.S. military to accept transgender recruits o...   \n",
       "2  Senior U.S. Republican senator: 'Let Mr. Muell...   \n",
       "3  FBI Russia probe helped by Australian diplomat...   \n",
       "4  Trump wants Postal Service to charge 'much mor...   \n",
       "\n",
       "                                                text       subject  \\\n",
       "0  WASHINGTON (Reuters) - The head of a conservat...  politicsNews   \n",
       "1  WASHINGTON (Reuters) - Transgender people will...  politicsNews   \n",
       "2  WASHINGTON (Reuters) - The special counsel inv...  politicsNews   \n",
       "3  WASHINGTON (Reuters) - Trump campaign adviser ...  politicsNews   \n",
       "4  SEATTLE/WASHINGTON (Reuters) - President Donal...  politicsNews   \n",
       "\n",
       "                 date  class  \n",
       "0  December 31, 2017       0  \n",
       "1  December 29, 2017       0  \n",
       "2  December 31, 2017       0  \n",
       "3  December 30, 2017       0  \n",
       "4  December 29, 2017       0  "
      ]
     },
     "execution_count": 7,
     "metadata": {},
     "output_type": "execute_result"
    }
   ],
   "source": [
    "true.head()"
   ]
  },
  {
   "cell_type": "code",
   "execution_count": 8,
   "id": "3565688f",
   "metadata": {
    "execution": {
     "iopub.execute_input": "2021-10-04T05:42:37.451276Z",
     "iopub.status.busy": "2021-10-04T05:42:37.450295Z",
     "iopub.status.idle": "2021-10-04T05:42:37.455178Z",
     "shell.execute_reply": "2021-10-04T05:42:37.454505Z",
     "shell.execute_reply.started": "2021-10-04T05:36:09.659083Z"
    },
    "papermill": {
     "duration": 0.056042,
     "end_time": "2021-10-04T05:42:37.455338",
     "exception": false,
     "start_time": "2021-10-04T05:42:37.399296",
     "status": "completed"
    },
    "tags": []
   },
   "outputs": [
    {
     "data": {
      "text/html": [
       "<div>\n",
       "<style scoped>\n",
       "    .dataframe tbody tr th:only-of-type {\n",
       "        vertical-align: middle;\n",
       "    }\n",
       "\n",
       "    .dataframe tbody tr th {\n",
       "        vertical-align: top;\n",
       "    }\n",
       "\n",
       "    .dataframe thead th {\n",
       "        text-align: right;\n",
       "    }\n",
       "</style>\n",
       "<table border=\"1\" class=\"dataframe\">\n",
       "  <thead>\n",
       "    <tr style=\"text-align: right;\">\n",
       "      <th></th>\n",
       "      <th>title</th>\n",
       "      <th>text</th>\n",
       "      <th>subject</th>\n",
       "      <th>date</th>\n",
       "      <th>class</th>\n",
       "    </tr>\n",
       "  </thead>\n",
       "  <tbody>\n",
       "    <tr>\n",
       "      <th>0</th>\n",
       "      <td>Donald Trump Sends Out Embarrassing New Year’...</td>\n",
       "      <td>Donald Trump just couldn t wish all Americans ...</td>\n",
       "      <td>News</td>\n",
       "      <td>December 31, 2017</td>\n",
       "      <td>1</td>\n",
       "    </tr>\n",
       "    <tr>\n",
       "      <th>1</th>\n",
       "      <td>Drunk Bragging Trump Staffer Started Russian ...</td>\n",
       "      <td>House Intelligence Committee Chairman Devin Nu...</td>\n",
       "      <td>News</td>\n",
       "      <td>December 31, 2017</td>\n",
       "      <td>1</td>\n",
       "    </tr>\n",
       "    <tr>\n",
       "      <th>2</th>\n",
       "      <td>Sheriff David Clarke Becomes An Internet Joke...</td>\n",
       "      <td>On Friday, it was revealed that former Milwauk...</td>\n",
       "      <td>News</td>\n",
       "      <td>December 30, 2017</td>\n",
       "      <td>1</td>\n",
       "    </tr>\n",
       "    <tr>\n",
       "      <th>3</th>\n",
       "      <td>Trump Is So Obsessed He Even Has Obama’s Name...</td>\n",
       "      <td>On Christmas day, Donald Trump announced that ...</td>\n",
       "      <td>News</td>\n",
       "      <td>December 29, 2017</td>\n",
       "      <td>1</td>\n",
       "    </tr>\n",
       "    <tr>\n",
       "      <th>4</th>\n",
       "      <td>Pope Francis Just Called Out Donald Trump Dur...</td>\n",
       "      <td>Pope Francis used his annual Christmas Day mes...</td>\n",
       "      <td>News</td>\n",
       "      <td>December 25, 2017</td>\n",
       "      <td>1</td>\n",
       "    </tr>\n",
       "  </tbody>\n",
       "</table>\n",
       "</div>"
      ],
      "text/plain": [
       "                                               title  \\\n",
       "0   Donald Trump Sends Out Embarrassing New Year’...   \n",
       "1   Drunk Bragging Trump Staffer Started Russian ...   \n",
       "2   Sheriff David Clarke Becomes An Internet Joke...   \n",
       "3   Trump Is So Obsessed He Even Has Obama’s Name...   \n",
       "4   Pope Francis Just Called Out Donald Trump Dur...   \n",
       "\n",
       "                                                text subject  \\\n",
       "0  Donald Trump just couldn t wish all Americans ...    News   \n",
       "1  House Intelligence Committee Chairman Devin Nu...    News   \n",
       "2  On Friday, it was revealed that former Milwauk...    News   \n",
       "3  On Christmas day, Donald Trump announced that ...    News   \n",
       "4  Pope Francis used his annual Christmas Day mes...    News   \n",
       "\n",
       "                date  class  \n",
       "0  December 31, 2017      1  \n",
       "1  December 31, 2017      1  \n",
       "2  December 30, 2017      1  \n",
       "3  December 29, 2017      1  \n",
       "4  December 25, 2017      1  "
      ]
     },
     "execution_count": 8,
     "metadata": {},
     "output_type": "execute_result"
    }
   ],
   "source": [
    "fake.head()"
   ]
  },
  {
   "cell_type": "code",
   "execution_count": 9,
   "id": "e3ade95f",
   "metadata": {
    "execution": {
     "iopub.execute_input": "2021-10-04T05:42:37.546659Z",
     "iopub.status.busy": "2021-10-04T05:42:37.545589Z",
     "iopub.status.idle": "2021-10-04T05:42:37.559234Z",
     "shell.execute_reply": "2021-10-04T05:42:37.559768Z",
     "shell.execute_reply.started": "2021-10-04T05:36:09.680428Z"
    },
    "papermill": {
     "duration": 0.065306,
     "end_time": "2021-10-04T05:42:37.559997",
     "exception": false,
     "start_time": "2021-10-04T05:42:37.494691",
     "status": "completed"
    },
    "tags": []
   },
   "outputs": [],
   "source": [
    "df = pd.concat([true.sample(1000) , fake.sample(1000)]).reset_index().drop('index' , axis=1)"
   ]
  },
  {
   "cell_type": "code",
   "execution_count": 10,
   "id": "27871e2d",
   "metadata": {
    "execution": {
     "iopub.execute_input": "2021-10-04T05:42:37.649469Z",
     "iopub.status.busy": "2021-10-04T05:42:37.648331Z",
     "iopub.status.idle": "2021-10-04T05:42:37.656218Z",
     "shell.execute_reply": "2021-10-04T05:42:37.656796Z",
     "shell.execute_reply.started": "2021-10-04T05:36:09.698011Z"
    },
    "papermill": {
     "duration": 0.058083,
     "end_time": "2021-10-04T05:42:37.656996",
     "exception": false,
     "start_time": "2021-10-04T05:42:37.598913",
     "status": "completed"
    },
    "tags": []
   },
   "outputs": [
    {
     "data": {
      "text/html": [
       "<div>\n",
       "<style scoped>\n",
       "    .dataframe tbody tr th:only-of-type {\n",
       "        vertical-align: middle;\n",
       "    }\n",
       "\n",
       "    .dataframe tbody tr th {\n",
       "        vertical-align: top;\n",
       "    }\n",
       "\n",
       "    .dataframe thead th {\n",
       "        text-align: right;\n",
       "    }\n",
       "</style>\n",
       "<table border=\"1\" class=\"dataframe\">\n",
       "  <thead>\n",
       "    <tr style=\"text-align: right;\">\n",
       "      <th></th>\n",
       "      <th>title</th>\n",
       "      <th>text</th>\n",
       "      <th>subject</th>\n",
       "      <th>date</th>\n",
       "      <th>class</th>\n",
       "    </tr>\n",
       "  </thead>\n",
       "  <tbody>\n",
       "    <tr>\n",
       "      <th>780</th>\n",
       "      <td>Kerry meets authors of dissenting cable on U.S...</td>\n",
       "      <td>WASHINGTON (Reuters) - U.S. Secretary of State...</td>\n",
       "      <td>politicsNews</td>\n",
       "      <td>June 21, 2016</td>\n",
       "      <td>0</td>\n",
       "    </tr>\n",
       "    <tr>\n",
       "      <th>1910</th>\n",
       "      <td>40,000 MA Drug Cases Could Be Thrown Out Beca...</td>\n",
       "      <td>A Massachusetts crime lab scandal could result...</td>\n",
       "      <td>News</td>\n",
       "      <td>May 8, 2016</td>\n",
       "      <td>1</td>\n",
       "    </tr>\n",
       "    <tr>\n",
       "      <th>1564</th>\n",
       "      <td>MACHETE ATTACKER, Mohamed Barry Was Living In ...</td>\n",
       "      <td>Now we know the reason it took so long for any...</td>\n",
       "      <td>left-news</td>\n",
       "      <td>Feb 26, 2016</td>\n",
       "      <td>1</td>\n",
       "    </tr>\n",
       "    <tr>\n",
       "      <th>729</th>\n",
       "      <td>Senate panel advances Trump's nominee for atto...</td>\n",
       "      <td>WASHINGTON (Reuters) - The U.S. Senate Judicia...</td>\n",
       "      <td>politicsNews</td>\n",
       "      <td>February 1, 2017</td>\n",
       "      <td>0</td>\n",
       "    </tr>\n",
       "    <tr>\n",
       "      <th>1230</th>\n",
       "      <td>MIKE ROWE SENDS A BRUTAL MESSAGE To The Media ...</td>\n",
       "      <td>An electrical contractor wrote to the 54-year-...</td>\n",
       "      <td>politics</td>\n",
       "      <td>Aug 28, 2016</td>\n",
       "      <td>1</td>\n",
       "    </tr>\n",
       "  </tbody>\n",
       "</table>\n",
       "</div>"
      ],
      "text/plain": [
       "                                                  title  \\\n",
       "780   Kerry meets authors of dissenting cable on U.S...   \n",
       "1910   40,000 MA Drug Cases Could Be Thrown Out Beca...   \n",
       "1564  MACHETE ATTACKER, Mohamed Barry Was Living In ...   \n",
       "729   Senate panel advances Trump's nominee for atto...   \n",
       "1230  MIKE ROWE SENDS A BRUTAL MESSAGE To The Media ...   \n",
       "\n",
       "                                                   text       subject  \\\n",
       "780   WASHINGTON (Reuters) - U.S. Secretary of State...  politicsNews   \n",
       "1910  A Massachusetts crime lab scandal could result...          News   \n",
       "1564  Now we know the reason it took so long for any...     left-news   \n",
       "729   WASHINGTON (Reuters) - The U.S. Senate Judicia...  politicsNews   \n",
       "1230  An electrical contractor wrote to the 54-year-...      politics   \n",
       "\n",
       "                   date  class  \n",
       "780      June 21, 2016       0  \n",
       "1910        May 8, 2016      1  \n",
       "1564       Feb 26, 2016      1  \n",
       "729   February 1, 2017       0  \n",
       "1230       Aug 28, 2016      1  "
      ]
     },
     "execution_count": 10,
     "metadata": {},
     "output_type": "execute_result"
    }
   ],
   "source": [
    "df.sample(5)"
   ]
  },
  {
   "cell_type": "markdown",
   "id": "1f89121f",
   "metadata": {
    "papermill": {
     "duration": 0.03867,
     "end_time": "2021-10-04T05:42:37.734606",
     "exception": false,
     "start_time": "2021-10-04T05:42:37.695936",
     "status": "completed"
    },
    "tags": []
   },
   "source": [
    "#### title : ชื่อหัวข่าว\n",
    "#### text : เนื้อหาของข่าว\n",
    "#### subject : ประเภทของข่าว\n",
    "#### date : วันที่โพสต์\n",
    "#### class : 0=ข่าวจริง , 1=ข่าวปลอม"
   ]
  },
  {
   "cell_type": "code",
   "execution_count": 11,
   "id": "81d4c017",
   "metadata": {
    "execution": {
     "iopub.execute_input": "2021-10-04T05:42:37.818157Z",
     "iopub.status.busy": "2021-10-04T05:42:37.817213Z",
     "iopub.status.idle": "2021-10-04T05:42:37.825076Z",
     "shell.execute_reply": "2021-10-04T05:42:37.824342Z",
     "shell.execute_reply.started": "2021-10-04T05:36:09.714604Z"
    },
    "papermill": {
     "duration": 0.051849,
     "end_time": "2021-10-04T05:42:37.825250",
     "exception": false,
     "start_time": "2021-10-04T05:42:37.773401",
     "status": "completed"
    },
    "tags": []
   },
   "outputs": [],
   "source": [
    "plt.style.use('ggplot')"
   ]
  },
  {
   "cell_type": "code",
   "execution_count": 12,
   "id": "2294a506",
   "metadata": {
    "execution": {
     "iopub.execute_input": "2021-10-04T05:42:37.944754Z",
     "iopub.status.busy": "2021-10-04T05:42:37.921090Z",
     "iopub.status.idle": "2021-10-04T05:42:38.161307Z",
     "shell.execute_reply": "2021-10-04T05:42:38.160168Z",
     "shell.execute_reply.started": "2021-10-04T05:36:09.721442Z"
    },
    "papermill": {
     "duration": 0.297081,
     "end_time": "2021-10-04T05:42:38.161491",
     "exception": false,
     "start_time": "2021-10-04T05:42:37.864410",
     "status": "completed"
    },
    "tags": []
   },
   "outputs": [
    {
     "data": {
      "text/plain": [
       "<AxesSubplot:xlabel='count', ylabel='subject'>"
      ]
     },
     "execution_count": 12,
     "metadata": {},
     "output_type": "execute_result"
    },
    {
     "data": {
      "image/png": "[encoded data removed]",
      "text/plain": [
       "<Figure size 432x288 with 1 Axes>"
      ]
     },
     "metadata": {},
     "output_type": "display_data"
    }
   ],
   "source": [
    "sns.countplot(data=df , y='subject')"
   ]
  },
  {
   "cell_type": "markdown",
   "id": "e38f6857",
   "metadata": {
    "papermill": {
     "duration": 0.039354,
     "end_time": "2021-10-04T05:42:38.240857",
     "exception": false,
     "start_time": "2021-10-04T05:42:38.201503",
     "status": "completed"
    },
    "tags": []
   },
   "source": [
    "**จำนวนข่าว แบ่งตามประเภทข่าว**"
   ]
  },
  {
   "cell_type": "code",
   "execution_count": 13,
   "id": "fce64d31",
   "metadata": {
    "execution": {
     "iopub.execute_input": "2021-10-04T05:42:38.334975Z",
     "iopub.status.busy": "2021-10-04T05:42:38.334063Z",
     "iopub.status.idle": "2021-10-04T05:42:38.337176Z",
     "shell.execute_reply": "2021-10-04T05:42:38.336625Z",
     "shell.execute_reply.started": "2021-10-04T05:36:10.017618Z"
    },
    "papermill": {
     "duration": 0.056754,
     "end_time": "2021-10-04T05:42:38.337318",
     "exception": false,
     "start_time": "2021-10-04T05:42:38.280564",
     "status": "completed"
    },
    "tags": []
   },
   "outputs": [],
   "source": [
    "order = df[df['class'] == 1]['subject'].value_counts().keys()"
   ]
  },
  {
   "cell_type": "code",
   "execution_count": 14,
   "id": "27f985b5",
   "metadata": {
    "execution": {
     "iopub.execute_input": "2021-10-04T05:42:38.421229Z",
     "iopub.status.busy": "2021-10-04T05:42:38.420615Z",
     "iopub.status.idle": "2021-10-04T05:42:38.629877Z",
     "shell.execute_reply": "2021-10-04T05:42:38.629145Z",
     "shell.execute_reply.started": "2021-10-04T05:36:10.028585Z"
    },
    "papermill": {
     "duration": 0.253032,
     "end_time": "2021-10-04T05:42:38.630050",
     "exception": false,
     "start_time": "2021-10-04T05:42:38.377018",
     "status": "completed"
    },
    "tags": []
   },
   "outputs": [
    {
     "data": {
      "text/plain": [
       "Text(0.5, 1.0, 'fake news subject')"
      ]
     },
     "execution_count": 14,
     "metadata": {},
     "output_type": "execute_result"
    },
    {
     "data": {
      "image/png": "[encoded data removed]",
      "text/plain": [
       "<Figure size 432x288 with 1 Axes>"
      ]
     },
     "metadata": {},
     "output_type": "display_data"
    }
   ],
   "source": [
    "sns.countplot(data=df[df['class'] == 1] , y='subject' , order=order)\n",
    "plt.title('fake news subject')"
   ]
  },
  {
   "cell_type": "markdown",
   "id": "0e8ced17",
   "metadata": {
    "papermill": {
     "duration": 0.041412,
     "end_time": "2021-10-04T05:42:38.713219",
     "exception": false,
     "start_time": "2021-10-04T05:42:38.671807",
     "status": "completed"
    },
    "tags": []
   },
   "source": [
    "**จำนวนข่าวปลอมในแต่ละประเภทข่าว**"
   ]
  },
  {
   "cell_type": "code",
   "execution_count": 15,
   "id": "f88aa5e8",
   "metadata": {
    "execution": {
     "iopub.execute_input": "2021-10-04T05:42:38.810975Z",
     "iopub.status.busy": "2021-10-04T05:42:38.810245Z",
     "iopub.status.idle": "2021-10-04T05:42:38.813927Z",
     "shell.execute_reply": "2021-10-04T05:42:38.814461Z",
     "shell.execute_reply.started": "2021-10-04T05:36:10.285438Z"
    },
    "papermill": {
     "duration": 0.059882,
     "end_time": "2021-10-04T05:42:38.814669",
     "exception": false,
     "start_time": "2021-10-04T05:42:38.754787",
     "status": "completed"
    },
    "tags": []
   },
   "outputs": [],
   "source": [
    "df['news'] = df['subject'] + ' ' + df['title'] + ' ' +  df['text']"
   ]
  },
  {
   "cell_type": "markdown",
   "id": "2f93b76f",
   "metadata": {
    "papermill": {
     "duration": 0.041744,
     "end_time": "2021-10-04T05:42:38.898924",
     "exception": false,
     "start_time": "2021-10-04T05:42:38.857180",
     "status": "completed"
    },
    "tags": []
   },
   "source": [
    "**นำประเภทข่าว หัวข้อข่าว เนื้อข่าว รวมเข้าด้วยกัน**"
   ]
  },
  {
   "cell_type": "code",
   "execution_count": 16,
   "id": "434a1c70",
   "metadata": {
    "execution": {
     "iopub.execute_input": "2021-10-04T05:42:38.986062Z",
     "iopub.status.busy": "2021-10-04T05:42:38.985356Z",
     "iopub.status.idle": "2021-10-04T05:42:38.989968Z",
     "shell.execute_reply": "2021-10-04T05:42:38.990539Z",
     "shell.execute_reply.started": "2021-10-04T05:36:10.301940Z"
    },
    "papermill": {
     "duration": 0.049929,
     "end_time": "2021-10-04T05:42:38.990760",
     "exception": false,
     "start_time": "2021-10-04T05:42:38.940831",
     "status": "completed"
    },
    "tags": []
   },
   "outputs": [],
   "source": [
    "def cleaning(text) :\n",
    "    \n",
    "    text_clean = ' '.join([i for i in text.split() if i.lower() not in stopwords.words('english')])\n",
    "    text_clean = ''.join([i for i in text_clean if i not in string.punctuation])\n",
    "    \n",
    "    return text_clean"
   ]
  },
  {
   "cell_type": "markdown",
   "id": "a66fd8b1",
   "metadata": {
    "papermill": {
     "duration": 0.042325,
     "end_time": "2021-10-04T05:42:39.075804",
     "exception": false,
     "start_time": "2021-10-04T05:42:39.033479",
     "status": "completed"
    },
    "tags": []
   },
   "source": [
    "**ทำความสะอาดข้อความ นำอักขระและคำสิ้นเปลืองออกไป**"
   ]
  },
  {
   "cell_type": "code",
   "execution_count": 17,
   "id": "16e4a19c",
   "metadata": {
    "execution": {
     "iopub.execute_input": "2021-10-04T05:42:39.163237Z",
     "iopub.status.busy": "2021-10-04T05:42:39.162625Z",
     "iopub.status.idle": "2021-10-04T05:42:39.271642Z",
     "shell.execute_reply": "2021-10-04T05:42:39.271064Z",
     "shell.execute_reply.started": "2021-10-04T05:36:10.314436Z"
    },
    "papermill": {
     "duration": 0.153502,
     "end_time": "2021-10-04T05:42:39.271820",
     "exception": false,
     "start_time": "2021-10-04T05:42:39.118318",
     "status": "completed"
    },
    "tags": []
   },
   "outputs": [
    {
     "data": {
      "text/plain": [
       "'worldnews Gerry Adams Face IRA helped cement Northern Ireland peace DUBLIN Reuters  public face Irish Republican Army bombing campaigns peacemaker mainstream politician Gerry Adams defining figure Northern Ireland 50year journey sectarian torment relative stability Adams announced intention step leader Irish nationalist Sinn Fein party Saturday ultimate goal united Ireland still elusive party leaves dominant Irish nationalist force Britishruled province also strong enough across border Irish Republic chance entering government there too 1970s 80s height IRA bombing campaign end British rule Northern Ireland Sinn Fein operated IRA political wing leader 1983 onwards Adams thus became many Britain Northern Ireland face IRA result loathed proBritish unionists British government lionized equal measure Irish nationalists Yet prospect political progress arose showed ready compromise working late former IRA commander Martin McGuinness swing IRA province Roman Catholic minority behind 1998 deal proBritish Protestant majority Good Friday agreement gave province Catholics share power largely ended conflict 3600 people killed many hands Irish republican groups IRA others proBritish unionist paramilitaries British security forces Since then Adams helped build Sinn Fein dominant Irish nationalist party Northern Ireland overseeing agreement 2007 share power bitter rival Democratic Unionist Party and recent months efforts restore powersharing collapsed January Adams also announced Saturday would stand reelection Dublin parliament sat since 2011 moving Sinn Fein fringes become Irish Republic third party main leftwing force Adams born Belfast family steeped revolutionary politics several relatives involved armed republicanism 20 left job barman help defend fellow Catholics saw hostile British state fight Northern Ireland split United Kingdom unite Irish Republic Like father Adams interned  held without trial  suspicion senior IRA commander always denied membership IRA although accusations former IRA fighters involved campaign killings dogged throughout career 1988 1994 Adams banned speaking British airwaves oversized glasses redtinged beard instantly recognizable voice unknown broadcasters actors dub words Former British conservative prime minister John Major one architects peace Northern Ireland said thought sitting talk Adams turned stomach  Adams time walking political tightrope  IRA hawks argued continuation violence would chase Britain island doves said negotiations route united Ireland emerged political cold October 1997 shook hands new Labour prime minister Tony Blair first meeting Sinn Fein polled 17 percent Northern Ireland elections returned Adams British parliament although refused take seat Within year Adams McGuinness helped broker peace deal largely ended violence province Since deal role statesman grown made several visits White House arrested 2014 part investigation one province controversial murders charges brought Latterly used social media create grandfatherly image Irish Republic posts dog taste cartoons'"
      ]
     },
     "execution_count": 17,
     "metadata": {},
     "output_type": "execute_result"
    }
   ],
   "source": [
    "cleaning(df['news'][0])"
   ]
  },
  {
   "cell_type": "code",
   "execution_count": 18,
   "id": "c74caea3",
   "metadata": {
    "execution": {
     "iopub.execute_input": "2021-10-04T05:42:39.363474Z",
     "iopub.status.busy": "2021-10-04T05:42:39.362437Z",
     "iopub.status.idle": "2021-10-04T05:44:21.999204Z",
     "shell.execute_reply": "2021-10-04T05:44:21.998413Z",
     "shell.execute_reply.started": "2021-10-04T05:36:10.357532Z"
    },
    "papermill": {
     "duration": 102.685192,
     "end_time": "2021-10-04T05:44:21.999382",
     "exception": false,
     "start_time": "2021-10-04T05:42:39.314190",
     "status": "completed"
    },
    "tags": []
   },
   "outputs": [],
   "source": [
    "df['news_clean'] = df['news'].map(cleaning)"
   ]
  },
  {
   "cell_type": "code",
   "execution_count": 19,
   "id": "2f75a0aa",
   "metadata": {
    "execution": {
     "iopub.execute_input": "2021-10-04T05:44:22.094625Z",
     "iopub.status.busy": "2021-10-04T05:44:22.093621Z",
     "iopub.status.idle": "2021-10-04T05:44:22.172683Z",
     "shell.execute_reply": "2021-10-04T05:44:22.172026Z",
     "shell.execute_reply.started": "2021-10-04T05:37:53.413248Z"
    },
    "papermill": {
     "duration": 0.130548,
     "end_time": "2021-10-04T05:44:22.172849",
     "exception": false,
     "start_time": "2021-10-04T05:44:22.042301",
     "status": "completed"
    },
    "tags": []
   },
   "outputs": [],
   "source": [
    "true_split = df[df['class'] == 0]['news_clean'].map(lambda x : x.split())\n",
    "fake_split = df[df['class'] == 1]['news_clean'].map(lambda x : x.split())"
   ]
  },
  {
   "cell_type": "code",
   "execution_count": 20,
   "id": "f73fd955",
   "metadata": {
    "execution": {
     "iopub.execute_input": "2021-10-04T05:44:23.525554Z",
     "iopub.status.busy": "2021-10-04T05:44:23.354401Z",
     "iopub.status.idle": "2021-10-04T05:44:27.483891Z",
     "shell.execute_reply": "2021-10-04T05:44:27.483351Z",
     "shell.execute_reply.started": "2021-10-04T05:37:53.485685Z"
    },
    "papermill": {
     "duration": 5.269275,
     "end_time": "2021-10-04T05:44:27.484047",
     "exception": false,
     "start_time": "2021-10-04T05:44:22.214772",
     "status": "completed"
    },
    "tags": []
   },
   "outputs": [
    {
     "data": {
      "text/plain": [
       "Text(0.5, 1.0, 'Top 10 words in true news')"
      ]
     },
     "execution_count": 20,
     "metadata": {},
     "output_type": "execute_result"
    },
    {
     "data": {
      "image/png": "[encoded data removed]",
      "text/plain": [
       "<Figure size 432x288 with 1 Axes>"
      ]
     },
     "metadata": {},
     "output_type": "display_data"
    }
   ],
   "source": [
    "count = Counter()\n",
    "for i in true_split :\n",
    "    count.update(i)\n",
    "    word_count = pd.DataFrame(count.most_common(10) , columns=['word' , 'count'])\n",
    "sns.barplot(data=word_count , y='word' , x='count')\n",
    "plt.title('Top 10 words in true news')"
   ]
  },
  {
   "cell_type": "markdown",
   "id": "cec228ab",
   "metadata": {
    "papermill": {
     "duration": 0.042153,
     "end_time": "2021-10-04T05:44:27.568996",
     "exception": false,
     "start_time": "2021-10-04T05:44:27.526843",
     "status": "completed"
    },
    "tags": []
   },
   "source": [
    "**10 คำที่พบมากที่สุดในข่าวจริง**"
   ]
  },
  {
   "cell_type": "code",
   "execution_count": 21,
   "id": "2b5f94c0",
   "metadata": {
    "execution": {
     "iopub.execute_input": "2021-10-04T05:44:27.658207Z",
     "iopub.status.busy": "2021-10-04T05:44:27.657231Z",
     "iopub.status.idle": "2021-10-04T05:44:33.937051Z",
     "shell.execute_reply": "2021-10-04T05:44:33.936379Z",
     "shell.execute_reply.started": "2021-10-04T05:37:57.914448Z"
    },
    "papermill": {
     "duration": 6.325795,
     "end_time": "2021-10-04T05:44:33.937247",
     "exception": false,
     "start_time": "2021-10-04T05:44:27.611452",
     "status": "completed"
    },
    "tags": []
   },
   "outputs": [
    {
     "data": {
      "text/plain": [
       "Text(0.5, 1.0, 'Top 10 words in fake news')"
      ]
     },
     "execution_count": 21,
     "metadata": {},
     "output_type": "execute_result"
    },
    {
     "data": {
      "image/png": "[encoded data removed]",
      "text/plain": [
       "<Figure size 432x288 with 1 Axes>"
      ]
     },
     "metadata": {},
     "output_type": "display_data"
    }
   ],
   "source": [
    "count = Counter()\n",
    "for i in fake_split :\n",
    "    count.update(i)\n",
    "    word_count = pd.DataFrame(count.most_common(10) , columns=['word' , 'count'])\n",
    "sns.barplot(data=word_count , y='word' , x='count')\n",
    "plt.title('Top 10 words in fake news')"
   ]
  },
  {
   "cell_type": "markdown",
   "id": "75200aa7",
   "metadata": {
    "papermill": {
     "duration": 0.044127,
     "end_time": "2021-10-04T05:44:34.025814",
     "exception": false,
     "start_time": "2021-10-04T05:44:33.981687",
     "status": "completed"
    },
    "tags": []
   },
   "source": [
    "**10 คำที่พบมากที่สุดในข่าวปลอม**"
   ]
  },
  {
   "cell_type": "code",
   "execution_count": 22,
   "id": "30f1e068",
   "metadata": {
    "execution": {
     "iopub.execute_input": "2021-10-04T05:44:34.121506Z",
     "iopub.status.busy": "2021-10-04T05:44:34.120817Z",
     "iopub.status.idle": "2021-10-04T05:44:34.123997Z",
     "shell.execute_reply": "2021-10-04T05:44:34.123347Z",
     "shell.execute_reply.started": "2021-10-04T05:38:03.428379Z"
    },
    "papermill": {
     "duration": 0.052523,
     "end_time": "2021-10-04T05:44:34.124153",
     "exception": false,
     "start_time": "2021-10-04T05:44:34.071630",
     "status": "completed"
    },
    "tags": []
   },
   "outputs": [],
   "source": [
    "features = df['news_clean']\n",
    "target = df['class']"
   ]
  },
  {
   "cell_type": "code",
   "execution_count": 23,
   "id": "79b42035",
   "metadata": {
    "execution": {
     "iopub.execute_input": "2021-10-04T05:44:34.220980Z",
     "iopub.status.busy": "2021-10-04T05:44:34.220242Z",
     "iopub.status.idle": "2021-10-04T05:44:34.222756Z",
     "shell.execute_reply": "2021-10-04T05:44:34.223243Z",
     "shell.execute_reply.started": "2021-10-04T05:38:03.436217Z"
    },
    "papermill": {
     "duration": 0.054896,
     "end_time": "2021-10-04T05:44:34.223471",
     "exception": false,
     "start_time": "2021-10-04T05:44:34.168575",
     "status": "completed"
    },
    "tags": []
   },
   "outputs": [],
   "source": [
    "x_train , x_test , y_train , y_test = train_test_split(features , target , test_size=0.2 , random_state=101)"
   ]
  },
  {
   "cell_type": "code",
   "execution_count": 24,
   "id": "f2f7e769",
   "metadata": {
    "execution": {
     "iopub.execute_input": "2021-10-04T05:44:34.318820Z",
     "iopub.status.busy": "2021-10-04T05:44:34.318102Z",
     "iopub.status.idle": "2021-10-04T05:44:34.320639Z",
     "shell.execute_reply": "2021-10-04T05:44:34.321089Z",
     "shell.execute_reply.started": "2021-10-04T05:38:03.457313Z"
    },
    "papermill": {
     "duration": 0.052984,
     "end_time": "2021-10-04T05:44:34.321357",
     "exception": false,
     "start_time": "2021-10-04T05:44:34.268373",
     "status": "completed"
    },
    "tags": []
   },
   "outputs": [],
   "source": [
    "pipe = Pipeline([\n",
    "    ('vectorizer' , TfidfVectorizer()) , \n",
    "    ('model' , LogisticRegression())\n",
    "])"
   ]
  },
  {
   "cell_type": "markdown",
   "id": "b8924d54",
   "metadata": {
    "papermill": {
     "duration": 0.044134,
     "end_time": "2021-10-04T05:44:34.410324",
     "exception": false,
     "start_time": "2021-10-04T05:44:34.366190",
     "status": "completed"
    },
    "tags": []
   },
   "source": [
    "**ใช้ TfidfVectorizer ตัดคำและนับความถี่**"
   ]
  },
  {
   "cell_type": "code",
   "execution_count": 25,
   "id": "ab6b4051",
   "metadata": {
    "execution": {
     "iopub.execute_input": "2021-10-04T05:44:34.544949Z",
     "iopub.status.busy": "2021-10-04T05:44:34.539730Z",
     "iopub.status.idle": "2021-10-04T05:44:35.473888Z",
     "shell.execute_reply": "2021-10-04T05:44:35.474948Z",
     "shell.execute_reply.started": "2021-10-04T05:38:03.470822Z"
    },
    "papermill": {
     "duration": 1.020331,
     "end_time": "2021-10-04T05:44:35.475247",
     "exception": false,
     "start_time": "2021-10-04T05:44:34.454916",
     "status": "completed"
    },
    "tags": []
   },
   "outputs": [
    {
     "data": {
      "text/plain": [
       "Pipeline(steps=[('vectorizer', TfidfVectorizer()),\n",
       "                ('model', LogisticRegression())])"
      ]
     },
     "execution_count": 25,
     "metadata": {},
     "output_type": "execute_result"
    }
   ],
   "source": [
    "pipe.fit(x_train , y_train)"
   ]
  },
  {
   "cell_type": "code",
   "execution_count": 26,
   "id": "c25a3f93",
   "metadata": {
    "execution": {
     "iopub.execute_input": "2021-10-04T05:44:35.661166Z",
     "iopub.status.busy": "2021-10-04T05:44:35.640209Z",
     "iopub.status.idle": "2021-10-04T05:44:36.167926Z",
     "shell.execute_reply": "2021-10-04T05:44:36.168381Z",
     "shell.execute_reply.started": "2021-10-04T05:38:04.392439Z"
    },
    "papermill": {
     "duration": 0.614472,
     "end_time": "2021-10-04T05:44:36.168585",
     "exception": false,
     "start_time": "2021-10-04T05:44:35.554113",
     "status": "completed"
    },
    "tags": []
   },
   "outputs": [
    {
     "name": "stdout",
     "output_type": "stream",
     "text": [
      "train score = 0.99125\n"
     ]
    }
   ],
   "source": [
    "print('train score =',pipe.score(x_train , y_train))"
   ]
  },
  {
   "cell_type": "code",
   "execution_count": 27,
   "id": "a880d97f",
   "metadata": {
    "execution": {
     "iopub.execute_input": "2021-10-04T05:44:36.299779Z",
     "iopub.status.busy": "2021-10-04T05:44:36.261092Z",
     "iopub.status.idle": "2021-10-04T05:44:36.398059Z",
     "shell.execute_reply": "2021-10-04T05:44:36.398652Z",
     "shell.execute_reply.started": "2021-10-04T05:38:04.961245Z"
    },
    "papermill": {
     "duration": 0.185416,
     "end_time": "2021-10-04T05:44:36.398900",
     "exception": false,
     "start_time": "2021-10-04T05:44:36.213484",
     "status": "completed"
    },
    "tags": []
   },
   "outputs": [
    {
     "name": "stdout",
     "output_type": "stream",
     "text": [
      "test score = 0.9575\n"
     ]
    }
   ],
   "source": [
    "print('test score =',pipe.score(x_test , y_test))"
   ]
  },
  {
   "cell_type": "code",
   "execution_count": 28,
   "id": "9cdce265",
   "metadata": {
    "execution": {
     "iopub.execute_input": "2021-10-04T05:44:36.508211Z",
     "iopub.status.busy": "2021-10-04T05:44:36.507559Z",
     "iopub.status.idle": "2021-10-04T05:44:36.630811Z",
     "shell.execute_reply": "2021-10-04T05:44:36.631275Z",
     "shell.execute_reply.started": "2021-10-04T05:38:05.093474Z"
    },
    "papermill": {
     "duration": 0.18755,
     "end_time": "2021-10-04T05:44:36.631489",
     "exception": false,
     "start_time": "2021-10-04T05:44:36.443939",
     "status": "completed"
    },
    "tags": []
   },
   "outputs": [],
   "source": [
    "prediction = pipe.predict(x_test)"
   ]
  },
  {
   "cell_type": "code",
   "execution_count": 29,
   "id": "ab531505",
   "metadata": {
    "execution": {
     "iopub.execute_input": "2021-10-04T05:44:36.730403Z",
     "iopub.status.busy": "2021-10-04T05:44:36.729732Z",
     "iopub.status.idle": "2021-10-04T05:44:36.737017Z",
     "shell.execute_reply": "2021-10-04T05:44:36.737514Z",
     "shell.execute_reply.started": "2021-10-04T05:38:05.223288Z"
    },
    "papermill": {
     "duration": 0.059537,
     "end_time": "2021-10-04T05:44:36.737726",
     "exception": false,
     "start_time": "2021-10-04T05:44:36.678189",
     "status": "completed"
    },
    "tags": []
   },
   "outputs": [
    {
     "name": "stdout",
     "output_type": "stream",
     "text": [
      "              precision    recall  f1-score   support\n",
      "\n",
      "           0       0.98      0.93      0.95       191\n",
      "           1       0.94      0.98      0.96       209\n",
      "\n",
      "    accuracy                           0.96       400\n",
      "   macro avg       0.96      0.96      0.96       400\n",
      "weighted avg       0.96      0.96      0.96       400\n",
      "\n"
     ]
    }
   ],
   "source": [
    "print(classification_report(prediction , y_test))"
   ]
  },
  {
   "cell_type": "code",
   "execution_count": 30,
   "id": "f2796cf5",
   "metadata": {
    "execution": {
     "iopub.execute_input": "2021-10-04T05:44:36.848916Z",
     "iopub.status.busy": "2021-10-04T05:44:36.833347Z",
     "iopub.status.idle": "2021-10-04T05:44:37.124918Z",
     "shell.execute_reply": "2021-10-04T05:44:37.124323Z",
     "shell.execute_reply.started": "2021-10-04T05:38:05.236632Z"
    },
    "papermill": {
     "duration": 0.341253,
     "end_time": "2021-10-04T05:44:37.125088",
     "exception": false,
     "start_time": "2021-10-04T05:44:36.783835",
     "status": "completed"
    },
    "tags": []
   },
   "outputs": [
    {
     "data": {
      "text/plain": [
       "Text(33.0, 0.5, 'Actuality')"
      ]
     },
     "execution_count": 30,
     "metadata": {},
     "output_type": "execute_result"
    },
    {
     "data": {
      "image/png": "[encoded data removed]",
      "text/plain": [
       "<Figure size 432x288 with 2 Axes>"
      ]
     },
     "metadata": {},
     "output_type": "display_data"
    }
   ],
   "source": [
    "conf = pd.DataFrame(confusion_matrix(prediction , y_test) , columns=['True' , 'Fake'] , index=['True' , 'Fake'])\n",
    "\n",
    "sns.heatmap(conf , annot=True , fmt='.0f' , linewidths=2 , cmap='Blues')\n",
    "plt.xlabel('Prediction', fontsize='14')\n",
    "plt.ylabel('Actuality' , fontsize='14')"
   ]
  },
  {
   "cell_type": "markdown",
   "id": "6efcde6e",
   "metadata": {
    "papermill": {
     "duration": 0.046138,
     "end_time": "2021-10-04T05:44:37.218166",
     "exception": false,
     "start_time": "2021-10-04T05:44:37.172028",
     "status": "completed"
    },
    "tags": []
   },
   "source": [
    "**นำโมเดลมาหา parameter ที่เหมาะสมด้วย GridSearchCV**"
   ]
  },
  {
   "cell_type": "code",
   "execution_count": 31,
   "id": "8c26cc16",
   "metadata": {
    "execution": {
     "iopub.execute_input": "2021-10-04T05:44:37.315933Z",
     "iopub.status.busy": "2021-10-04T05:44:37.315159Z",
     "iopub.status.idle": "2021-10-04T05:44:37.319017Z",
     "shell.execute_reply": "2021-10-04T05:44:37.319509Z",
     "shell.execute_reply.started": "2021-10-04T05:38:05.475604Z"
    },
    "papermill": {
     "duration": 0.055257,
     "end_time": "2021-10-04T05:44:37.319735",
     "exception": false,
     "start_time": "2021-10-04T05:44:37.264478",
     "status": "completed"
    },
    "tags": []
   },
   "outputs": [],
   "source": [
    "grid_cv = GridSearchCV(pipe , dict(model__penalty=['l1' , 'l2'] , \n",
    "                                  model__C=[0.01,0.1,1,10]) , cv=5 , n_jobs=-1 , verbose=2)"
   ]
  },
  {
   "cell_type": "code",
   "execution_count": 32,
   "id": "e6f2c178",
   "metadata": {
    "execution": {
     "iopub.execute_input": "2021-10-04T05:44:37.419094Z",
     "iopub.status.busy": "2021-10-04T05:44:37.418265Z",
     "iopub.status.idle": "2021-10-04T05:44:52.532025Z",
     "shell.execute_reply": "2021-10-04T05:44:52.532828Z",
     "shell.execute_reply.started": "2021-10-04T05:38:05.482774Z"
    },
    "papermill": {
     "duration": 15.16588,
     "end_time": "2021-10-04T05:44:52.533153",
     "exception": false,
     "start_time": "2021-10-04T05:44:37.367273",
     "status": "completed"
    },
    "tags": []
   },
   "outputs": [
    {
     "name": "stdout",
     "output_type": "stream",
     "text": [
      "Fitting 5 folds for each of 8 candidates, totalling 40 fits\n"
     ]
    },
    {
     "name": "stderr",
     "output_type": "stream",
     "text": [
      "[Parallel(n_jobs=-1)]: Using backend LokyBackend with 4 concurrent workers.\n",
      "[Parallel(n_jobs=-1)]: Done  33 tasks      | elapsed:   11.8s\n",
      "[Parallel(n_jobs=-1)]: Done  40 out of  40 | elapsed:   14.0s finished\n"
     ]
    },
    {
     "data": {
      "text/plain": [
       "GridSearchCV(cv=5,\n",
       "             estimator=Pipeline(steps=[('vectorizer', TfidfVectorizer()),\n",
       "                                       ('model', LogisticRegression())]),\n",
       "             n_jobs=-1,\n",
       "             param_grid={'model__C': [0.01, 0.1, 1, 10],\n",
       "                         'model__penalty': ['l1', 'l2']},\n",
       "             verbose=2)"
      ]
     },
     "execution_count": 32,
     "metadata": {},
     "output_type": "execute_result"
    }
   ],
   "source": [
    "grid_cv.fit(x_train , y_train)"
   ]
  },
  {
   "cell_type": "code",
   "execution_count": 33,
   "id": "b8fa4fdc",
   "metadata": {
    "execution": {
     "iopub.execute_input": "2021-10-04T05:44:52.671491Z",
     "iopub.status.busy": "2021-10-04T05:44:52.670555Z",
     "iopub.status.idle": "2021-10-04T05:44:52.673977Z",
     "shell.execute_reply": "2021-10-04T05:44:52.674575Z",
     "shell.execute_reply.started": "2021-10-04T05:38:20.163548Z"
    },
    "papermill": {
     "duration": 0.058962,
     "end_time": "2021-10-04T05:44:52.674784",
     "exception": false,
     "start_time": "2021-10-04T05:44:52.615822",
     "status": "completed"
    },
    "tags": []
   },
   "outputs": [
    {
     "data": {
      "text/plain": [
       "{'model__C': 10, 'model__penalty': 'l2'}"
      ]
     },
     "execution_count": 33,
     "metadata": {},
     "output_type": "execute_result"
    }
   ],
   "source": [
    "grid_cv.best_params_"
   ]
  },
  {
   "cell_type": "markdown",
   "id": "a7f69be8",
   "metadata": {
    "papermill": {
     "duration": 0.048499,
     "end_time": "2021-10-04T05:44:52.772222",
     "exception": false,
     "start_time": "2021-10-04T05:44:52.723723",
     "status": "completed"
    },
    "tags": []
   },
   "source": [
    "**parameter ที่เหมาะสม**"
   ]
  },
  {
   "cell_type": "code",
   "execution_count": 34,
   "id": "5999ba4a",
   "metadata": {
    "execution": {
     "iopub.execute_input": "2021-10-04T05:44:52.876977Z",
     "iopub.status.busy": "2021-10-04T05:44:52.875960Z",
     "iopub.status.idle": "2021-10-04T05:44:52.882405Z",
     "shell.execute_reply": "2021-10-04T05:44:52.883256Z",
     "shell.execute_reply.started": "2021-10-04T05:38:20.175678Z"
    },
    "papermill": {
     "duration": 0.062318,
     "end_time": "2021-10-04T05:44:52.883573",
     "exception": false,
     "start_time": "2021-10-04T05:44:52.821255",
     "status": "completed"
    },
    "tags": []
   },
   "outputs": [
    {
     "name": "stdout",
     "output_type": "stream",
     "text": [
      "best score = 0.9774999999999998\n"
     ]
    }
   ],
   "source": [
    "print('best score =',grid_cv.best_score_)"
   ]
  },
  {
   "cell_type": "markdown",
   "id": "1707af9c",
   "metadata": {
    "papermill": {
     "duration": 0.049746,
     "end_time": "2021-10-04T05:44:52.984298",
     "exception": false,
     "start_time": "2021-10-04T05:44:52.934552",
     "status": "completed"
    },
    "tags": []
   },
   "source": [
    "**วัดประสิทธิภาพโมเดล**"
   ]
  },
  {
   "cell_type": "code",
   "execution_count": 35,
   "id": "2b0e2afa",
   "metadata": {
    "execution": {
     "iopub.execute_input": "2021-10-04T05:44:53.151925Z",
     "iopub.status.busy": "2021-10-04T05:44:53.114912Z",
     "iopub.status.idle": "2021-10-04T05:44:53.237396Z",
     "shell.execute_reply": "2021-10-04T05:44:53.237916Z",
     "shell.execute_reply.started": "2021-10-04T05:38:20.189588Z"
    },
    "papermill": {
     "duration": 0.204259,
     "end_time": "2021-10-04T05:44:53.238147",
     "exception": false,
     "start_time": "2021-10-04T05:44:53.033888",
     "status": "completed"
    },
    "tags": []
   },
   "outputs": [],
   "source": [
    "prediction_2 = grid_cv.best_estimator_.predict(x_test)"
   ]
  },
  {
   "cell_type": "code",
   "execution_count": 36,
   "id": "924d81ae",
   "metadata": {
    "execution": {
     "iopub.execute_input": "2021-10-04T05:44:53.360002Z",
     "iopub.status.busy": "2021-10-04T05:44:53.358884Z",
     "iopub.status.idle": "2021-10-04T05:44:53.370866Z",
     "shell.execute_reply": "2021-10-04T05:44:53.371647Z",
     "shell.execute_reply.started": "2021-10-04T05:38:20.342404Z"
    },
    "papermill": {
     "duration": 0.08444,
     "end_time": "2021-10-04T05:44:53.371930",
     "exception": false,
     "start_time": "2021-10-04T05:44:53.287490",
     "status": "completed"
    },
    "tags": []
   },
   "outputs": [
    {
     "name": "stdout",
     "output_type": "stream",
     "text": [
      "              precision    recall  f1-score   support\n",
      "\n",
      "           0       0.99      0.95      0.97       190\n",
      "           1       0.95      0.99      0.97       210\n",
      "\n",
      "    accuracy                           0.97       400\n",
      "   macro avg       0.97      0.97      0.97       400\n",
      "weighted avg       0.97      0.97      0.97       400\n",
      "\n"
     ]
    }
   ],
   "source": [
    "print(classification_report(prediction_2 , y_test))"
   ]
  },
  {
   "cell_type": "code",
   "execution_count": 37,
   "id": "4e83f697",
   "metadata": {
    "execution": {
     "iopub.execute_input": "2021-10-04T05:44:53.488160Z",
     "iopub.status.busy": "2021-10-04T05:44:53.487483Z",
     "iopub.status.idle": "2021-10-04T05:44:53.727627Z",
     "shell.execute_reply": "2021-10-04T05:44:53.727095Z",
     "shell.execute_reply.started": "2021-10-04T05:38:20.356452Z"
    },
    "papermill": {
     "duration": 0.294103,
     "end_time": "2021-10-04T05:44:53.727789",
     "exception": false,
     "start_time": "2021-10-04T05:44:53.433686",
     "status": "completed"
    },
    "tags": []
   },
   "outputs": [
    {
     "data": {
      "text/plain": [
       "Text(33.0, 0.5, 'Actuality')"
      ]
     },
     "execution_count": 37,
     "metadata": {},
     "output_type": "execute_result"
    },
    {
     "data": {
      "image/png": "[encoded data removed]",
      "text/plain": [
       "<Figure size 432x288 with 2 Axes>"
      ]
     },
     "metadata": {},
     "output_type": "display_data"
    }
   ],
   "source": [
    "conf_2 = pd.DataFrame(confusion_matrix(prediction_2 , y_test) , columns=['True' , 'Fake'] , index=['True' , 'Fake'])\n",
    "\n",
    "sns.heatmap(conf_2 , annot=True , fmt='.0f' , linewidths=2 , cmap='Blues')\n",
    "plt.xlabel('Prediction', fontsize='14')\n",
    "plt.ylabel('Actuality' , fontsize='14')"
   ]
  },
  {
   "cell_type": "code",
   "execution_count": null,
   "id": "ad0efc36",
   "metadata": {
    "papermill": {
     "duration": 0.050318,
     "end_time": "2021-10-04T05:44:53.828078",
     "exception": false,
     "start_time": "2021-10-04T05:44:53.777760",
     "status": "completed"
    },
    "tags": []
   },
   "outputs": [],
   "source": []
  }
 ],
 "metadata": {
  "kernelspec": {
   "display_name": "Python 3",
   "language": "python",
   "name": "python3"
  },
  "language_info": {
   "codemirror_mode": {
    "name": "ipython",
    "version": 3
   },
   "file_extension": ".py",
   "mimetype": "text/x-python",
   "name": "python",
   "nbconvert_exporter": "python",
   "pygments_lexer": "ipython3",
   "version": "3.7.10"
  },
  "papermill": {
   "default_parameters": {},
   "duration": 154.093382,
   "end_time": "2021-10-04T05:44:55.875728",
   "environment_variables": {},
   "exception": null,
   "input_path": "__notebook__.ipynb",
   "output_path": "__notebook__.ipynb",
   "parameters": {},
   "start_time": "2021-10-04T05:42:21.782346",
   "version": "2.3.3"
  }
 },
 "nbformat": 4,
 "nbformat_minor": 5
}
