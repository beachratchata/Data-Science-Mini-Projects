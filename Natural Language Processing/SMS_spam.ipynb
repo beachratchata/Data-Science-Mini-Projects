{
 "cells": [
  {
   "cell_type": "markdown",
   "id": "628e7e91-5b19-4531-bd33-a44625cb5408",
   "metadata": {},
   "source": [
    "## SMS Spam"
   ]
  },
  {
   "cell_type": "markdown",
   "id": "2ecd4a73-4426-46a5-b836-2d0bd7480847",
   "metadata": {},
   "source": [
    "#### Class = สถานะข้อความ (สแปมหรือไม่สแปม)\n",
    "#### message = ข้อความ"
   ]
  },
  {
   "cell_type": "code",
   "execution_count": 1,
   "id": "65742fd8-8746-4310-8d1d-ee582f7e0655",
   "metadata": {},
   "outputs": [],
   "source": [
    "import pandas as pd\n",
    "import matplotlib.pyplot as plt \n",
    "import seaborn as sns \n",
    "import numpy as np\n",
    "from nltk.corpus import stopwords\n",
    "from collections import Counter\n",
    "import string\n",
    "import warnings\n",
    "warnings.filterwarnings('ignore')"
   ]
  },
  {
   "cell_type": "code",
   "execution_count": 2,
   "id": "c3e27cb1-602d-48e1-adf1-78b96a1d6c8d",
   "metadata": {},
   "outputs": [],
   "source": [
    "from sklearn.linear_model import LogisticRegression\n",
    "from sklearn.naive_bayes import MultinomialNB\n",
    "from sklearn.neighbors import KNeighborsClassifier\n",
    "from sklearn.ensemble import RandomForestClassifier\n",
    "from sklearn.model_selection import train_test_split , GridSearchCV\n",
    "from sklearn.feature_extraction.text import TfidfVectorizer , CountVectorizer\n",
    "from sklearn.preprocessing import LabelEncoder\n",
    "from sklearn.metrics import *\n",
    "from imblearn.over_sampling import SMOTE\n",
    "from imblearn.pipeline import Pipeline\n",
    "from sklearn.decomposition import NMF , SparsePCA , PCA , TruncatedSVD"
   ]
  },
  {
   "cell_type": "code",
   "execution_count": 3,
   "id": "2fe1d092-7c2b-49ce-8cd4-c9c672dcb6ce",
   "metadata": {},
   "outputs": [
    {
     "data": {
      "text/html": [
       "<div>\n",
       "<style scoped>\n",
       "    .dataframe tbody tr th:only-of-type {\n",
       "        vertical-align: middle;\n",
       "    }\n",
       "\n",
       "    .dataframe tbody tr th {\n",
       "        vertical-align: top;\n",
       "    }\n",
       "\n",
       "    .dataframe thead th {\n",
       "        text-align: right;\n",
       "    }\n",
       "</style>\n",
       "<table border=\"1\" class=\"dataframe\">\n",
       "  <thead>\n",
       "    <tr style=\"text-align: right;\">\n",
       "      <th></th>\n",
       "      <th>class</th>\n",
       "      <th>message</th>\n",
       "    </tr>\n",
       "  </thead>\n",
       "  <tbody>\n",
       "    <tr>\n",
       "      <th>0</th>\n",
       "      <td>ham</td>\n",
       "      <td>Go until jurong point, crazy.. Available only ...</td>\n",
       "    </tr>\n",
       "    <tr>\n",
       "      <th>1</th>\n",
       "      <td>ham</td>\n",
       "      <td>Ok lar... Joking wif u oni...</td>\n",
       "    </tr>\n",
       "    <tr>\n",
       "      <th>2</th>\n",
       "      <td>spam</td>\n",
       "      <td>Free entry in 2 a wkly comp to win FA Cup fina...</td>\n",
       "    </tr>\n",
       "    <tr>\n",
       "      <th>3</th>\n",
       "      <td>ham</td>\n",
       "      <td>U dun say so early hor... U c already then say...</td>\n",
       "    </tr>\n",
       "    <tr>\n",
       "      <th>4</th>\n",
       "      <td>ham</td>\n",
       "      <td>Nah I don't think he goes to usf, he lives aro...</td>\n",
       "    </tr>\n",
       "  </tbody>\n",
       "</table>\n",
       "</div>"
      ],
      "text/plain": [
       "  class                                            message\n",
       "0   ham  Go until jurong point, crazy.. Available only ...\n",
       "1   ham                      Ok lar... Joking wif u oni...\n",
       "2  spam  Free entry in 2 a wkly comp to win FA Cup fina...\n",
       "3   ham  U dun say so early hor... U c already then say...\n",
       "4   ham  Nah I don't think he goes to usf, he lives aro..."
      ]
     },
     "execution_count": 3,
     "metadata": {},
     "output_type": "execute_result"
    }
   ],
   "source": [
    "sms = pd.read_csv('spam.csv')\n",
    "sms = sms[['v1','v2']]\n",
    "sms.columns = ['class' , 'message']\n",
    "sms.head()"
   ]
  },
  {
   "cell_type": "code",
   "execution_count": 4,
   "id": "bb883b93-77d2-4298-99bf-cd8fbc5e2d92",
   "metadata": {},
   "outputs": [],
   "source": [
    "sms['class'] = sms['class'].map(lambda x : 'not spam' if x == 'ham' else x)"
   ]
  },
  {
   "cell_type": "code",
   "execution_count": 5,
   "id": "6a50874d-761d-4bc6-8c47-b2097bd59fc5",
   "metadata": {},
   "outputs": [],
   "source": [
    "plt.style.use('ggplot')"
   ]
  },
  {
   "cell_type": "markdown",
   "id": "e0689217-78c6-4cc7-b3be-7878ece30553",
   "metadata": {},
   "source": [
    "## EDA"
   ]
  },
  {
   "cell_type": "markdown",
   "id": "04af9672-5b41-474d-9a8a-d50aaafe0b25",
   "metadata": {},
   "source": [
    "#### จำนวนข้อความ แบ่งตาม class"
   ]
  },
  {
   "cell_type": "code",
   "execution_count": 6,
   "id": "3c658b9a-3b71-43e7-b2c0-48c078faf1d4",
   "metadata": {},
   "outputs": [
    {
     "data": {
      "image/png": "[encoded data removed]",
      "text/plain": [
       "<Figure size 432x288 with 1 Axes>"
      ]
     },
     "metadata": {},
     "output_type": "display_data"
    }
   ],
   "source": [
    "sns.countplot(data=sms , x='class' , palette='magma');"
   ]
  },
  {
   "cell_type": "code",
   "execution_count": 7,
   "id": "10c9f71e-b839-4bd6-a77b-80e98790767e",
   "metadata": {},
   "outputs": [],
   "source": [
    "sms['message_len'] = sms['message'].map(lambda x : len(x))"
   ]
  },
  {
   "cell_type": "code",
   "execution_count": 8,
   "id": "f2feda67-17e7-4559-9a67-b0304741f8d1",
   "metadata": {},
   "outputs": [
    {
     "data": {
      "text/html": [
       "<div>\n",
       "<style scoped>\n",
       "    .dataframe tbody tr th:only-of-type {\n",
       "        vertical-align: middle;\n",
       "    }\n",
       "\n",
       "    .dataframe tbody tr th {\n",
       "        vertical-align: top;\n",
       "    }\n",
       "\n",
       "    .dataframe thead th {\n",
       "        text-align: right;\n",
       "    }\n",
       "</style>\n",
       "<table border=\"1\" class=\"dataframe\">\n",
       "  <thead>\n",
       "    <tr style=\"text-align: right;\">\n",
       "      <th></th>\n",
       "      <th>class</th>\n",
       "      <th>message</th>\n",
       "      <th>message_len</th>\n",
       "    </tr>\n",
       "  </thead>\n",
       "  <tbody>\n",
       "    <tr>\n",
       "      <th>0</th>\n",
       "      <td>not spam</td>\n",
       "      <td>Go until jurong point, crazy.. Available only ...</td>\n",
       "      <td>111</td>\n",
       "    </tr>\n",
       "    <tr>\n",
       "      <th>1</th>\n",
       "      <td>not spam</td>\n",
       "      <td>Ok lar... Joking wif u oni...</td>\n",
       "      <td>29</td>\n",
       "    </tr>\n",
       "    <tr>\n",
       "      <th>2</th>\n",
       "      <td>spam</td>\n",
       "      <td>Free entry in 2 a wkly comp to win FA Cup fina...</td>\n",
       "      <td>155</td>\n",
       "    </tr>\n",
       "    <tr>\n",
       "      <th>3</th>\n",
       "      <td>not spam</td>\n",
       "      <td>U dun say so early hor... U c already then say...</td>\n",
       "      <td>49</td>\n",
       "    </tr>\n",
       "    <tr>\n",
       "      <th>4</th>\n",
       "      <td>not spam</td>\n",
       "      <td>Nah I don't think he goes to usf, he lives aro...</td>\n",
       "      <td>61</td>\n",
       "    </tr>\n",
       "    <tr>\n",
       "      <th>...</th>\n",
       "      <td>...</td>\n",
       "      <td>...</td>\n",
       "      <td>...</td>\n",
       "    </tr>\n",
       "    <tr>\n",
       "      <th>5567</th>\n",
       "      <td>spam</td>\n",
       "      <td>This is the 2nd time we have tried 2 contact u...</td>\n",
       "      <td>160</td>\n",
       "    </tr>\n",
       "    <tr>\n",
       "      <th>5568</th>\n",
       "      <td>not spam</td>\n",
       "      <td>Will �_ b going to esplanade fr home?</td>\n",
       "      <td>37</td>\n",
       "    </tr>\n",
       "    <tr>\n",
       "      <th>5569</th>\n",
       "      <td>not spam</td>\n",
       "      <td>Pity, * was in mood for that. So...any other s...</td>\n",
       "      <td>57</td>\n",
       "    </tr>\n",
       "    <tr>\n",
       "      <th>5570</th>\n",
       "      <td>not spam</td>\n",
       "      <td>The guy did some bitching but I acted like i'd...</td>\n",
       "      <td>125</td>\n",
       "    </tr>\n",
       "    <tr>\n",
       "      <th>5571</th>\n",
       "      <td>not spam</td>\n",
       "      <td>Rofl. Its true to its name</td>\n",
       "      <td>26</td>\n",
       "    </tr>\n",
       "  </tbody>\n",
       "</table>\n",
       "<p>5572 rows × 3 columns</p>\n",
       "</div>"
      ],
      "text/plain": [
       "         class                                            message  message_len\n",
       "0     not spam  Go until jurong point, crazy.. Available only ...          111\n",
       "1     not spam                      Ok lar... Joking wif u oni...           29\n",
       "2         spam  Free entry in 2 a wkly comp to win FA Cup fina...          155\n",
       "3     not spam  U dun say so early hor... U c already then say...           49\n",
       "4     not spam  Nah I don't think he goes to usf, he lives aro...           61\n",
       "...        ...                                                ...          ...\n",
       "5567      spam  This is the 2nd time we have tried 2 contact u...          160\n",
       "5568  not spam              Will �_ b going to esplanade fr home?           37\n",
       "5569  not spam  Pity, * was in mood for that. So...any other s...           57\n",
       "5570  not spam  The guy did some bitching but I acted like i'd...          125\n",
       "5571  not spam                         Rofl. Its true to its name           26\n",
       "\n",
       "[5572 rows x 3 columns]"
      ]
     },
     "execution_count": 8,
     "metadata": {},
     "output_type": "execute_result"
    }
   ],
   "source": [
    "sms"
   ]
  },
  {
   "cell_type": "markdown",
   "id": "f1a6f86a-1ef8-4cba-b1bf-59c71df64af9",
   "metadata": {},
   "source": [
    "#### จำนวนตัวอักษรของข้อความ แบ่งตาม class"
   ]
  },
  {
   "cell_type": "code",
   "execution_count": 9,
   "id": "921182bd-f765-460c-bca5-98e11139175d",
   "metadata": {},
   "outputs": [
    {
     "data": {
      "text/plain": [
       "<matplotlib.legend.Legend at 0x20832859cd0>"
      ]
     },
     "execution_count": 9,
     "metadata": {},
     "output_type": "execute_result"
    },
    {
     "data": {
      "image/png": "[encoded data removed]",
      "text/plain": [
       "<Figure size 864x504 with 1 Axes>"
      ]
     },
     "metadata": {},
     "output_type": "display_data"
    }
   ],
   "source": [
    "plt.figure(figsize=(12,7))\n",
    "sns.histplot(sms[sms['class'] == 'not spam']['message_len'] ,bins=80 , label='not spam' , color='green')\n",
    "sns.histplot(sms[sms['class'] == 'spam']['message_len'] ,bins=20 , label='spam' , color='red')\n",
    "plt.legend()"
   ]
  },
  {
   "cell_type": "markdown",
   "id": "8c9aa1b2-4fba-4606-81b2-e59fbce9b126",
   "metadata": {},
   "source": [
    "#### stopwords : คำสิ้นเปลือง"
   ]
  },
  {
   "cell_type": "code",
   "execution_count": 10,
   "id": "850bcf6e-e958-4d78-8db3-2e370ab49b49",
   "metadata": {},
   "outputs": [
    {
     "data": {
      "text/plain": [
       "['i',\n",
       " 'me',\n",
       " 'my',\n",
       " 'myself',\n",
       " 'we',\n",
       " 'our',\n",
       " 'ours',\n",
       " 'ourselves',\n",
       " 'you',\n",
       " \"you're\",\n",
       " \"you've\",\n",
       " \"you'll\",\n",
       " \"you'd\",\n",
       " 'your',\n",
       " 'yours',\n",
       " 'yourself',\n",
       " 'yourselves',\n",
       " 'he',\n",
       " 'him',\n",
       " 'his']"
      ]
     },
     "execution_count": 10,
     "metadata": {},
     "output_type": "execute_result"
    }
   ],
   "source": [
    "stopwords.words('english')[:20]"
   ]
  },
  {
   "cell_type": "markdown",
   "id": "1adfa2b6-f2b2-4751-8072-698c42665926",
   "metadata": {},
   "source": [
    "#### string.punctuation : อักขระ"
   ]
  },
  {
   "cell_type": "code",
   "execution_count": 11,
   "id": "c4c088ad-309b-4c48-9b0d-8e0156e87770",
   "metadata": {},
   "outputs": [
    {
     "data": {
      "text/plain": [
       "'!\"#$%&\\'()*+,-./:;<=>?@[\\\\]^_`{|}~'"
      ]
     },
     "execution_count": 11,
     "metadata": {},
     "output_type": "execute_result"
    }
   ],
   "source": [
    "string.punctuation"
   ]
  },
  {
   "cell_type": "markdown",
   "id": "466e601f-432b-45b9-ad09-771d41863d2b",
   "metadata": {},
   "source": [
    "#### ทำความสะอาดข้อความโดยตัด stopwords และอักขระออกจากข้อความ"
   ]
  },
  {
   "cell_type": "code",
   "execution_count": 12,
   "id": "a2540067-2f51-4376-be5d-6d65f05c7f97",
   "metadata": {},
   "outputs": [],
   "source": [
    "def text_clean(message):\n",
    "    \n",
    "    clean = [c for c in message if c not in string.punctuation]\n",
    "    clean = ''.join(clean)\n",
    "    \n",
    "    clean = [word for word in clean.split() if word.lower() not in stopwords.words('english')]\n",
    "    clean = ' '.join(clean)\n",
    "    \n",
    "    return clean"
   ]
  },
  {
   "cell_type": "markdown",
   "id": "1744ea26-6a9f-4937-b209-f00dc18f3454",
   "metadata": {},
   "source": [
    "#### ก่อนทำความสะอาด"
   ]
  },
  {
   "cell_type": "code",
   "execution_count": 13,
   "id": "30b66b97-cb17-4332-9869-7b794be30e50",
   "metadata": {},
   "outputs": [
    {
     "data": {
      "text/plain": [
       "\"I'm gonna be home soon and i don't want to talk about this stuff anymore tonight, k? I've cried enough today.\""
      ]
     },
     "execution_count": 13,
     "metadata": {},
     "output_type": "execute_result"
    }
   ],
   "source": [
    "sms['message'][10]"
   ]
  },
  {
   "cell_type": "markdown",
   "id": "1f09a7fb-b780-4f01-850e-41a7e5e002fd",
   "metadata": {},
   "source": [
    "#### หลังทำความสะอาด"
   ]
  },
  {
   "cell_type": "code",
   "execution_count": 14,
   "id": "04fb3d8e-d5a7-4a50-8176-0ee7078adfe1",
   "metadata": {},
   "outputs": [
    {
     "data": {
      "text/plain": [
       "'Im gonna home soon dont want talk stuff anymore tonight k Ive cried enough today'"
      ]
     },
     "execution_count": 14,
     "metadata": {},
     "output_type": "execute_result"
    }
   ],
   "source": [
    "text_clean(sms['message'][10])"
   ]
  },
  {
   "cell_type": "code",
   "execution_count": 15,
   "id": "ba5db0dc-1132-4f23-9bb1-09f1a98e7d84",
   "metadata": {},
   "outputs": [],
   "source": [
    "sms['message_clean'] = sms['message'].map(text_clean)"
   ]
  },
  {
   "cell_type": "markdown",
   "id": "30398153-abcb-4673-9628-0dde695deade",
   "metadata": {},
   "source": [
    "#### message_clean : ข้อความหลังจากทำความสะอาดแล้ว"
   ]
  },
  {
   "cell_type": "code",
   "execution_count": 16,
   "id": "40928145-d09d-4a00-a27b-3b4a7db1c9c9",
   "metadata": {},
   "outputs": [
    {
     "data": {
      "text/html": [
       "<div>\n",
       "<style scoped>\n",
       "    .dataframe tbody tr th:only-of-type {\n",
       "        vertical-align: middle;\n",
       "    }\n",
       "\n",
       "    .dataframe tbody tr th {\n",
       "        vertical-align: top;\n",
       "    }\n",
       "\n",
       "    .dataframe thead th {\n",
       "        text-align: right;\n",
       "    }\n",
       "</style>\n",
       "<table border=\"1\" class=\"dataframe\">\n",
       "  <thead>\n",
       "    <tr style=\"text-align: right;\">\n",
       "      <th></th>\n",
       "      <th>class</th>\n",
       "      <th>message</th>\n",
       "      <th>message_len</th>\n",
       "      <th>message_clean</th>\n",
       "    </tr>\n",
       "  </thead>\n",
       "  <tbody>\n",
       "    <tr>\n",
       "      <th>0</th>\n",
       "      <td>not spam</td>\n",
       "      <td>Go until jurong point, crazy.. Available only ...</td>\n",
       "      <td>111</td>\n",
       "      <td>Go jurong point crazy Available bugis n great ...</td>\n",
       "    </tr>\n",
       "    <tr>\n",
       "      <th>1</th>\n",
       "      <td>not spam</td>\n",
       "      <td>Ok lar... Joking wif u oni...</td>\n",
       "      <td>29</td>\n",
       "      <td>Ok lar Joking wif u oni</td>\n",
       "    </tr>\n",
       "    <tr>\n",
       "      <th>2</th>\n",
       "      <td>spam</td>\n",
       "      <td>Free entry in 2 a wkly comp to win FA Cup fina...</td>\n",
       "      <td>155</td>\n",
       "      <td>Free entry 2 wkly comp win FA Cup final tkts 2...</td>\n",
       "    </tr>\n",
       "    <tr>\n",
       "      <th>3</th>\n",
       "      <td>not spam</td>\n",
       "      <td>U dun say so early hor... U c already then say...</td>\n",
       "      <td>49</td>\n",
       "      <td>U dun say early hor U c already say</td>\n",
       "    </tr>\n",
       "    <tr>\n",
       "      <th>4</th>\n",
       "      <td>not spam</td>\n",
       "      <td>Nah I don't think he goes to usf, he lives aro...</td>\n",
       "      <td>61</td>\n",
       "      <td>Nah dont think goes usf lives around though</td>\n",
       "    </tr>\n",
       "  </tbody>\n",
       "</table>\n",
       "</div>"
      ],
      "text/plain": [
       "      class                                            message  message_len  \\\n",
       "0  not spam  Go until jurong point, crazy.. Available only ...          111   \n",
       "1  not spam                      Ok lar... Joking wif u oni...           29   \n",
       "2      spam  Free entry in 2 a wkly comp to win FA Cup fina...          155   \n",
       "3  not spam  U dun say so early hor... U c already then say...           49   \n",
       "4  not spam  Nah I don't think he goes to usf, he lives aro...           61   \n",
       "\n",
       "                                       message_clean  \n",
       "0  Go jurong point crazy Available bugis n great ...  \n",
       "1                            Ok lar Joking wif u oni  \n",
       "2  Free entry 2 wkly comp win FA Cup final tkts 2...  \n",
       "3                U dun say early hor U c already say  \n",
       "4        Nah dont think goes usf lives around though  "
      ]
     },
     "execution_count": 16,
     "metadata": {},
     "output_type": "execute_result"
    }
   ],
   "source": [
    "sms.head()"
   ]
  },
  {
   "cell_type": "code",
   "execution_count": 17,
   "id": "bb7afe31-d69f-49c7-9374-df73cd7e32c0",
   "metadata": {},
   "outputs": [],
   "source": [
    "not_spam = sms[sms['class'] == 'not spam']['message_clean']\n",
    "spam = sms[sms['class'] == 'spam']['message_clean']"
   ]
  },
  {
   "cell_type": "code",
   "execution_count": 18,
   "id": "71256d84-b762-4e8f-bf44-8ef56906458d",
   "metadata": {},
   "outputs": [
    {
     "data": {
      "text/plain": [
       "'Free entry 2 wkly comp win FA Cup final tkts 21st May 2005 Text FA 87121 receive entry questionstd txt rateTCs apply 08452810075over18s'"
      ]
     },
     "execution_count": 18,
     "metadata": {},
     "output_type": "execute_result"
    }
   ],
   "source": [
    "spam[2]"
   ]
  },
  {
   "cell_type": "code",
   "execution_count": 19,
   "id": "b1748564-831e-4760-9b06-ebb6a40ef500",
   "metadata": {},
   "outputs": [
    {
     "data": {
      "text/plain": [
       "['free',\n",
       " 'entry',\n",
       " '2',\n",
       " 'wkly',\n",
       " 'comp',\n",
       " 'win',\n",
       " 'fa',\n",
       " 'cup',\n",
       " 'final',\n",
       " 'tkts',\n",
       " '21st',\n",
       " 'may',\n",
       " '2005',\n",
       " 'text',\n",
       " 'fa',\n",
       " '87121',\n",
       " 'receive',\n",
       " 'entry',\n",
       " 'questionstd',\n",
       " 'txt',\n",
       " 'ratetcs',\n",
       " 'apply',\n",
       " '08452810075over18s']"
      ]
     },
     "execution_count": 19,
     "metadata": {},
     "output_type": "execute_result"
    }
   ],
   "source": [
    "spam[2].lower().split()"
   ]
  },
  {
   "cell_type": "code",
   "execution_count": 20,
   "id": "4d1644fb-bc76-4918-91ac-c1493164c23f",
   "metadata": {},
   "outputs": [],
   "source": [
    "not_spam_count = not_spam.map(lambda x : [word.lower() for word in x.split()])\n",
    "spam_count = spam.map(lambda x : [word.lower() for word in x.split()])"
   ]
  },
  {
   "cell_type": "code",
   "execution_count": 21,
   "id": "521845e7-ebde-410d-b196-ae78cbba263a",
   "metadata": {},
   "outputs": [
    {
     "data": {
      "text/plain": [
       "2     [free, entry, 2, wkly, comp, win, fa, cup, fin...\n",
       "5     [freemsg, hey, darling, 3, weeks, word, back, ...\n",
       "8     [winner, valued, network, customer, selected, ...\n",
       "9     [mobile, 11, months, u, r, entitled, update, l...\n",
       "11    [six, chances, win, cash, 100, 20000, pounds, ...\n",
       "Name: message_clean, dtype: object"
      ]
     },
     "execution_count": 21,
     "metadata": {},
     "output_type": "execute_result"
    }
   ],
   "source": [
    "spam_count.head()"
   ]
  },
  {
   "cell_type": "markdown",
   "id": "65f023b2-07d6-4791-abc0-1c30d56db5ca",
   "metadata": {},
   "source": [
    "#### การนับคำว่าคำไหนปรากฏมากที่สุดในแต่ละ class"
   ]
  },
  {
   "cell_type": "code",
   "execution_count": 22,
   "id": "17e0bc3c-d3ce-4c92-85a9-560dfb397dcd",
   "metadata": {},
   "outputs": [],
   "source": [
    "count = Counter()\n",
    "for i in not_spam_count:\n",
    "    count.update(i)\n",
    "not_spam_most20 = count.most_common(20)"
   ]
  },
  {
   "cell_type": "code",
   "execution_count": 23,
   "id": "74dac2fa-12d2-4f18-9db9-6db64f8276ab",
   "metadata": {},
   "outputs": [],
   "source": [
    "count = Counter()\n",
    "for i in spam_count:\n",
    "    count.update(i)\n",
    "spam_most20 = count.most_common(20)"
   ]
  },
  {
   "cell_type": "code",
   "execution_count": 24,
   "id": "e439a465-685a-4a93-aa45-f2520bcfdf9b",
   "metadata": {},
   "outputs": [],
   "source": [
    "not_spam_most20 = pd.DataFrame(not_spam_most20 , columns=['text' , 'count'])\n",
    "spam_most20 = pd.DataFrame(spam_most20 , columns=['text' , 'count'])"
   ]
  },
  {
   "cell_type": "code",
   "execution_count": 25,
   "id": "a48a6a5b-f6ff-477f-96df-82124a8ee9ef",
   "metadata": {},
   "outputs": [
    {
     "data": {
      "text/html": [
       "<div>\n",
       "<style scoped>\n",
       "    .dataframe tbody tr th:only-of-type {\n",
       "        vertical-align: middle;\n",
       "    }\n",
       "\n",
       "    .dataframe tbody tr th {\n",
       "        vertical-align: top;\n",
       "    }\n",
       "\n",
       "    .dataframe thead th {\n",
       "        text-align: right;\n",
       "    }\n",
       "</style>\n",
       "<table border=\"1\" class=\"dataframe\">\n",
       "  <thead>\n",
       "    <tr style=\"text-align: right;\">\n",
       "      <th></th>\n",
       "      <th>text</th>\n",
       "      <th>count</th>\n",
       "    </tr>\n",
       "  </thead>\n",
       "  <tbody>\n",
       "    <tr>\n",
       "      <th>0</th>\n",
       "      <td>call</td>\n",
       "      <td>347</td>\n",
       "    </tr>\n",
       "    <tr>\n",
       "      <th>1</th>\n",
       "      <td>free</td>\n",
       "      <td>216</td>\n",
       "    </tr>\n",
       "    <tr>\n",
       "      <th>2</th>\n",
       "      <td>2</td>\n",
       "      <td>173</td>\n",
       "    </tr>\n",
       "    <tr>\n",
       "      <th>3</th>\n",
       "      <td>txt</td>\n",
       "      <td>150</td>\n",
       "    </tr>\n",
       "    <tr>\n",
       "      <th>4</th>\n",
       "      <td>u</td>\n",
       "      <td>147</td>\n",
       "    </tr>\n",
       "    <tr>\n",
       "      <th>5</th>\n",
       "      <td>ur</td>\n",
       "      <td>144</td>\n",
       "    </tr>\n",
       "    <tr>\n",
       "      <th>6</th>\n",
       "      <td>mobile</td>\n",
       "      <td>123</td>\n",
       "    </tr>\n",
       "    <tr>\n",
       "      <th>7</th>\n",
       "      <td>text</td>\n",
       "      <td>120</td>\n",
       "    </tr>\n",
       "    <tr>\n",
       "      <th>8</th>\n",
       "      <td>4</td>\n",
       "      <td>119</td>\n",
       "    </tr>\n",
       "    <tr>\n",
       "      <th>9</th>\n",
       "      <td>claim</td>\n",
       "      <td>113</td>\n",
       "    </tr>\n",
       "  </tbody>\n",
       "</table>\n",
       "</div>"
      ],
      "text/plain": [
       "     text  count\n",
       "0    call    347\n",
       "1    free    216\n",
       "2       2    173\n",
       "3     txt    150\n",
       "4       u    147\n",
       "5      ur    144\n",
       "6  mobile    123\n",
       "7    text    120\n",
       "8       4    119\n",
       "9   claim    113"
      ]
     },
     "execution_count": 25,
     "metadata": {},
     "output_type": "execute_result"
    }
   ],
   "source": [
    "spam_most20.nlargest(10 , 'count')"
   ]
  },
  {
   "cell_type": "markdown",
   "id": "3568f08f-d68c-4a5c-82cf-ef7789df941b",
   "metadata": {},
   "source": [
    "#### 20 อันดับ คำที่ปรากฏมากที่สุดของข้อความที่ไม่เป็น spam"
   ]
  },
  {
   "cell_type": "code",
   "execution_count": 26,
   "id": "76aed550-9c01-4ad5-b33a-71242d8a459a",
   "metadata": {},
   "outputs": [
    {
     "data": {
      "image/png": "[encoded data removed]",
      "text/plain": [
       "<Figure size 720x360 with 1 Axes>"
      ]
     },
     "metadata": {},
     "output_type": "display_data"
    }
   ],
   "source": [
    "plt.figure(figsize=(10,5))\n",
    "sns.barplot(data=not_spam_most20 , y='text' , x='count' , palette='magma')\n",
    "plt.title('not spam')\n",
    "plt.tight_layout()"
   ]
  },
  {
   "cell_type": "markdown",
   "id": "7eb89616-e6da-4824-822c-1349f9fcb035",
   "metadata": {},
   "source": [
    "#### 20 อันดับคำที่ปรากฏมากที่สุดของข้อความที่เป็น spam"
   ]
  },
  {
   "cell_type": "code",
   "execution_count": 27,
   "id": "5facb8a0-96cc-4061-95da-04183147d7e7",
   "metadata": {},
   "outputs": [
    {
     "data": {
      "image/png": "[encoded data removed]",
      "text/plain": [
       "<Figure size 720x360 with 1 Axes>"
      ]
     },
     "metadata": {},
     "output_type": "display_data"
    }
   ],
   "source": [
    "plt.figure(figsize=(10,5))\n",
    "sns.barplot(data=spam_most20 , y='text' , x='count', palette='magma')\n",
    "plt.title('spam')\n",
    "plt.tight_layout()"
   ]
  },
  {
   "cell_type": "markdown",
   "id": "a93776cd-b057-44f2-be93-2396a467c954",
   "metadata": {},
   "source": [
    "## Modeling"
   ]
  },
  {
   "cell_type": "markdown",
   "id": "b1788bf4-40a6-4947-a4a6-f4fbd6c27c1d",
   "metadata": {},
   "source": [
    "#### feature preparation"
   ]
  },
  {
   "cell_type": "code",
   "execution_count": 28,
   "id": "66a663a4-a2ae-46cd-8631-663e43bdded8",
   "metadata": {},
   "outputs": [],
   "source": [
    "features = sms['message_clean']\n",
    "target = sms['class']"
   ]
  },
  {
   "cell_type": "code",
   "execution_count": 29,
   "id": "f7029235-90e7-459b-967e-e47537def6b8",
   "metadata": {},
   "outputs": [
    {
     "data": {
      "text/plain": [
       "0    Go jurong point crazy Available bugis n great ...\n",
       "1                              Ok lar Joking wif u oni\n",
       "2    Free entry 2 wkly comp win FA Cup final tkts 2...\n",
       "3                  U dun say early hor U c already say\n",
       "4          Nah dont think goes usf lives around though\n",
       "Name: message_clean, dtype: object"
      ]
     },
     "execution_count": 29,
     "metadata": {},
     "output_type": "execute_result"
    }
   ],
   "source": [
    "features.head()"
   ]
  },
  {
   "cell_type": "code",
   "execution_count": 30,
   "id": "45383369-3aae-4d1d-a936-5d953100ccaa",
   "metadata": {},
   "outputs": [
    {
     "data": {
      "text/plain": [
       "0    not spam\n",
       "1    not spam\n",
       "2        spam\n",
       "3    not spam\n",
       "4    not spam\n",
       "Name: class, dtype: object"
      ]
     },
     "execution_count": 30,
     "metadata": {},
     "output_type": "execute_result"
    }
   ],
   "source": [
    "target.head()"
   ]
  },
  {
   "cell_type": "markdown",
   "id": "6c48e206-7017-4399-bf05-8b572d030ec2",
   "metadata": {},
   "source": [
    "#### Not Spam = 0 , Spam = 1"
   ]
  },
  {
   "cell_type": "code",
   "execution_count": 31,
   "id": "88c2d7af-713d-42fb-b14a-1cdc308fde5a",
   "metadata": {},
   "outputs": [],
   "source": [
    "target = target.map(lambda x : 0 if x == 'not spam' else 1)"
   ]
  },
  {
   "cell_type": "code",
   "execution_count": 32,
   "id": "c89a98a3-3231-43d5-b5c0-c2f65e05d1fe",
   "metadata": {},
   "outputs": [
    {
     "data": {
      "text/plain": [
       "array([0, 0, 1, 0, 0, 1, 0, 0, 1, 1], dtype=int64)"
      ]
     },
     "execution_count": 32,
     "metadata": {},
     "output_type": "execute_result"
    }
   ],
   "source": [
    "target.values[:10]"
   ]
  },
  {
   "cell_type": "markdown",
   "id": "84657360-3f2a-4f52-acda-7ad0a9535d4e",
   "metadata": {},
   "source": [
    "#### แบ่งข้อมูลออกเป็น 3 ชุด ชุดฝึก ชุดตรวจสอบ ชุดทดสอบ"
   ]
  },
  {
   "cell_type": "code",
   "execution_count": 33,
   "id": "0a6e0698-704e-4f1f-af6a-6fba86b99bcd",
   "metadata": {},
   "outputs": [],
   "source": [
    "x_train , x_val , y_train , y_val = train_test_split(features , target , train_size=0.7 , stratify=target , random_state=50)"
   ]
  },
  {
   "cell_type": "code",
   "execution_count": 34,
   "id": "76a31e6e-eab8-4110-b4b2-fe952faa5009",
   "metadata": {},
   "outputs": [],
   "source": [
    "x_val , x_test , y_val , y_test = train_test_split(x_val , y_val , train_size=0.5 , stratify=y_val , random_state=50)"
   ]
  },
  {
   "cell_type": "code",
   "execution_count": 35,
   "id": "bbf1c49f-f1d9-477e-88a3-26f9dd4ae113",
   "metadata": {},
   "outputs": [
    {
     "name": "stdout",
     "output_type": "stream",
     "text": [
      "(3900,)\n"
     ]
    }
   ],
   "source": [
    "print(x_train.shape)"
   ]
  },
  {
   "cell_type": "code",
   "execution_count": 36,
   "id": "2fad709c-e381-4d0f-8886-39b18a176423",
   "metadata": {},
   "outputs": [
    {
     "name": "stdout",
     "output_type": "stream",
     "text": [
      "(836,)\n"
     ]
    }
   ],
   "source": [
    "print(x_val.shape)"
   ]
  },
  {
   "cell_type": "code",
   "execution_count": 37,
   "id": "e0520b7c-0da8-4be8-97be-edeb425aa3d6",
   "metadata": {},
   "outputs": [
    {
     "name": "stdout",
     "output_type": "stream",
     "text": [
      "(836,)\n"
     ]
    }
   ],
   "source": [
    "print(x_test.shape)"
   ]
  },
  {
   "cell_type": "markdown",
   "id": "00454480-8f54-4d79-842d-5eb57a6057f8",
   "metadata": {},
   "source": [
    "#### จำนวน not spam กับ spam ต่างกันเยอะมาก ต้องใช้การ oversampling เข้ามาช่วย"
   ]
  },
  {
   "cell_type": "code",
   "execution_count": 38,
   "id": "16d7e4b9-f45c-4a93-ae08-8238e6309b17",
   "metadata": {},
   "outputs": [
    {
     "data": {
      "image/png": "[encoded data removed]",
      "text/plain": [
       "<Figure size 432x288 with 1 Axes>"
      ]
     },
     "metadata": {},
     "output_type": "display_data"
    }
   ],
   "source": [
    "sns.countplot(y_train);"
   ]
  },
  {
   "cell_type": "markdown",
   "id": "42d3a908-35d0-465a-9663-a172263e643e",
   "metadata": {},
   "source": [
    "#### ใช้ TfidfVectorizer เพื่อนับความถี่ของคำในแต่ละข้อความ"
   ]
  },
  {
   "cell_type": "code",
   "execution_count": 39,
   "id": "714f4f3b-6d5a-4133-a184-38e6fed0a482",
   "metadata": {},
   "outputs": [],
   "source": [
    "tfid = TfidfVectorizer(stop_words='english')"
   ]
  },
  {
   "cell_type": "markdown",
   "id": "439c70d7-46ca-43a4-becc-b3833e359658",
   "metadata": {},
   "source": [
    "#### ใช้ SMOTE เพื่อทำการ oversampling data ให้ class ทั้ง 2 มีค่าเท่ากัน"
   ]
  },
  {
   "cell_type": "code",
   "execution_count": 40,
   "id": "eabe86d3-a89a-415c-a279-9ea895edce0d",
   "metadata": {},
   "outputs": [],
   "source": [
    "smote = SMOTE()"
   ]
  },
  {
   "cell_type": "code",
   "execution_count": 41,
   "id": "e309afcb-b641-4520-9012-4c261b02b3fa",
   "metadata": {},
   "outputs": [],
   "source": [
    "x_train_sample = tfid.fit_transform(x_train)\n",
    "x_test_sample = tfid.transform(x_test)"
   ]
  },
  {
   "cell_type": "code",
   "execution_count": 42,
   "id": "9a2dbcd3-2e5c-4ddc-9ea7-f4cb308a31dd",
   "metadata": {},
   "outputs": [
    {
     "data": {
      "text/plain": [
       "(3900, 7424)"
      ]
     },
     "execution_count": 42,
     "metadata": {},
     "output_type": "execute_result"
    }
   ],
   "source": [
    "x_train_sample.shape"
   ]
  },
  {
   "cell_type": "code",
   "execution_count": 43,
   "id": "eb437ed4-15ad-4f36-867e-27bb0582db56",
   "metadata": {},
   "outputs": [
    {
     "data": {
      "text/plain": [
       "(836, 7424)"
      ]
     },
     "execution_count": 43,
     "metadata": {},
     "output_type": "execute_result"
    }
   ],
   "source": [
    "x_test_sample.shape"
   ]
  },
  {
   "cell_type": "code",
   "execution_count": 44,
   "id": "4b9d9ac9-5d93-4a64-8059-7a7d08a65fae",
   "metadata": {},
   "outputs": [],
   "source": [
    "x_train_sample , y_train_sample = smote.fit_resample(x_train_sample , y_train)"
   ]
  },
  {
   "cell_type": "markdown",
   "id": "3be112d0-190e-4ea0-86c1-73601aed87c3",
   "metadata": {},
   "source": [
    "#### หลังจาก oversampling แล้ว class ทั้ง 2 เท่ากัน"
   ]
  },
  {
   "cell_type": "code",
   "execution_count": 45,
   "id": "b3b4e4cc-e5f8-4384-bcd7-f228aee3b171",
   "metadata": {},
   "outputs": [
    {
     "data": {
      "image/png": "[encoded data removed]",
      "text/plain": [
       "<Figure size 432x288 with 1 Axes>"
      ]
     },
     "metadata": {},
     "output_type": "display_data"
    }
   ],
   "source": [
    "sns.countplot(y_train_sample);"
   ]
  },
  {
   "cell_type": "code",
   "execution_count": 46,
   "id": "51280d43-3e4f-450d-8493-f8f002f599a2",
   "metadata": {},
   "outputs": [],
   "source": [
    "def model_selection(algor):\n",
    "    pipe = Pipeline([\n",
    "    ('vectorizer' , tfid) , \n",
    "    ('oversampling' , smote) , \n",
    "    ('model' , algor)\n",
    "    ])\n",
    "    \n",
    "    pipe.fit(x_train , y_train)\n",
    "    y_pred = pipe.predict(x_val)\n",
    "    cof_mat = confusion_matrix(y_pred , y_val)\n",
    "    sns.heatmap(cof_mat, annot=True , fmt='.0f' , cmap='Oranges' , cbar=False)\n",
    "    plt.title(algor)\n",
    "    plt.xlabel('Prediction')\n",
    "    plt.ylabel('Actuality')\n",
    "    plt.show()\n",
    "    print(classification_report(y_pred , y_val))\n",
    "    print('-'*100)"
   ]
  },
  {
   "cell_type": "code",
   "execution_count": 47,
   "id": "1563a43e-9181-4fc6-8eb9-ab15961e9f47",
   "metadata": {},
   "outputs": [],
   "source": [
    "model_lis = [LogisticRegression() , MultinomialNB() , RandomForestClassifier() , KNeighborsClassifier()]"
   ]
  },
  {
   "cell_type": "markdown",
   "id": "d1216248-44e8-4434-9229-a536474e6008",
   "metadata": {},
   "source": [
    "#### ทำการทดสอบ model เบื้องต้นด้วย algorithm 4 แบบ"
   ]
  },
  {
   "cell_type": "code",
   "execution_count": 48,
   "id": "ad58a691-5a6f-466e-9994-cce69638ae98",
   "metadata": {},
   "outputs": [
    {
     "data": {
      "image/png": "[encoded data removed]",
      "text/plain": [
       "<Figure size 432x288 with 1 Axes>"
      ]
     },
     "metadata": {},
     "output_type": "display_data"
    },
    {
     "name": "stdout",
     "output_type": "stream",
     "text": [
      "              precision    recall  f1-score   support\n",
      "\n",
      "           0       0.99      0.98      0.99       725\n",
      "           1       0.90      0.91      0.91       111\n",
      "\n",
      "    accuracy                           0.97       836\n",
      "   macro avg       0.94      0.95      0.95       836\n",
      "weighted avg       0.97      0.97      0.97       836\n",
      "\n",
      "----------------------------------------------------------------------------------------------------\n"
     ]
    },
    {
     "data": {
      "image/png": "[encoded data removed]",
      "text/plain": [
       "<Figure size 432x288 with 1 Axes>"
      ]
     },
     "metadata": {},
     "output_type": "display_data"
    },
    {
     "name": "stdout",
     "output_type": "stream",
     "text": [
      "              precision    recall  f1-score   support\n",
      "\n",
      "           0       0.96      0.99      0.98       703\n",
      "           1       0.94      0.79      0.86       133\n",
      "\n",
      "    accuracy                           0.96       836\n",
      "   macro avg       0.95      0.89      0.92       836\n",
      "weighted avg       0.96      0.96      0.96       836\n",
      "\n",
      "----------------------------------------------------------------------------------------------------\n"
     ]
    },
    {
     "data": {
      "image/png": "[encoded data removed]",
      "text/plain": [
       "<Figure size 432x288 with 1 Axes>"
      ]
     },
     "metadata": {},
     "output_type": "display_data"
    },
    {
     "name": "stdout",
     "output_type": "stream",
     "text": [
      "              precision    recall  f1-score   support\n",
      "\n",
      "           0       1.00      0.98      0.99       740\n",
      "           1       0.85      0.99      0.91        96\n",
      "\n",
      "    accuracy                           0.98       836\n",
      "   macro avg       0.92      0.98      0.95       836\n",
      "weighted avg       0.98      0.98      0.98       836\n",
      "\n",
      "----------------------------------------------------------------------------------------------------\n"
     ]
    },
    {
     "data": {
      "image/png": "[encoded data removed]",
      "text/plain": [
       "<Figure size 432x288 with 1 Axes>"
      ]
     },
     "metadata": {},
     "output_type": "display_data"
    },
    {
     "name": "stdout",
     "output_type": "stream",
     "text": [
      "              precision    recall  f1-score   support\n",
      "\n",
      "           0       1.00      0.95      0.97       763\n",
      "           1       0.64      0.99      0.78        73\n",
      "\n",
      "    accuracy                           0.95       836\n",
      "   macro avg       0.82      0.97      0.88       836\n",
      "weighted avg       0.97      0.95      0.96       836\n",
      "\n",
      "----------------------------------------------------------------------------------------------------\n"
     ]
    }
   ],
   "source": [
    "for model in model_lis :\n",
    "    model_selection(model)"
   ]
  },
  {
   "cell_type": "markdown",
   "id": "59b6f774-ee06-48ca-a8fc-5da5b6d9d63d",
   "metadata": {},
   "source": [
    "#### จากการทดสอบเบื้องต้น Logistic Regression ให้ผลลัพธ์ดีที่สุด"
   ]
  },
  {
   "cell_type": "markdown",
   "id": "81a16b61-be88-447c-802f-3b169694ce11",
   "metadata": {},
   "source": [
    "### Logistic Regression"
   ]
  },
  {
   "cell_type": "code",
   "execution_count": 49,
   "id": "f951b023-687d-4793-bbf7-0ed1ccf71084",
   "metadata": {},
   "outputs": [],
   "source": [
    "lr = LogisticRegression(n_jobs=-1 , max_iter=1000)"
   ]
  },
  {
   "cell_type": "markdown",
   "id": "b1a73927-8a1e-44bc-885b-289801538707",
   "metadata": {},
   "source": [
    "#### นำ TfidfVectorizer , oversampling , model เข้าไปใน pipeline"
   ]
  },
  {
   "cell_type": "code",
   "execution_count": 50,
   "id": "1b2fde65-d668-4cc4-9900-34e919e8788d",
   "metadata": {},
   "outputs": [],
   "source": [
    "pipe_lr = Pipeline([\n",
    "    ('vectorizer' , tfid) , \n",
    "    ('oversampling' , smote) , \n",
    "    ('model' , lr)\n",
    "])"
   ]
  },
  {
   "cell_type": "markdown",
   "id": "e338f0b0-f63b-4f41-a42f-ea8669bff8f8",
   "metadata": {},
   "source": [
    "#### ใช้ GridSearchCV หา parameter ที่เหมาะสมที่สุด"
   ]
  },
  {
   "cell_type": "code",
   "execution_count": 51,
   "id": "7f143f71-fe4f-471f-8f8e-36aad9f7d936",
   "metadata": {},
   "outputs": [],
   "source": [
    "grid_lr = GridSearchCV(pipe_lr , param_grid=dict(model__penalty = ['l1', 'l2'] , \n",
    "                                                model__C=np.logspace(-4, 4, 10) , \n",
    "                                                ) , cv = 5 , n_jobs=-1 , verbose=3)"
   ]
  },
  {
   "cell_type": "code",
   "execution_count": 52,
   "id": "cc07fbf5-191c-48c4-ab0d-cf402b35e11f",
   "metadata": {},
   "outputs": [
    {
     "name": "stdout",
     "output_type": "stream",
     "text": [
      "Fitting 5 folds for each of 20 candidates, totalling 100 fits\n"
     ]
    },
    {
     "data": {
      "text/plain": [
       "GridSearchCV(cv=5,\n",
       "             estimator=Pipeline(steps=[('vectorizer',\n",
       "                                        TfidfVectorizer(stop_words='english')),\n",
       "                                       ('oversampling', SMOTE()),\n",
       "                                       ('model',\n",
       "                                        LogisticRegression(max_iter=1000,\n",
       "                                                           n_jobs=-1))]),\n",
       "             n_jobs=-1,\n",
       "             param_grid={'model__C': array([1.00000000e-04, 7.74263683e-04, 5.99484250e-03, 4.64158883e-02,\n",
       "       3.59381366e-01, 2.78255940e+00, 2.15443469e+01, 1.66810054e+02,\n",
       "       1.29154967e+03, 1.00000000e+04]),\n",
       "                         'model__penalty': ['l1', 'l2']},\n",
       "             verbose=3)"
      ]
     },
     "execution_count": 52,
     "metadata": {},
     "output_type": "execute_result"
    }
   ],
   "source": [
    "grid_lr.fit(x_train , y_train)"
   ]
  },
  {
   "cell_type": "code",
   "execution_count": 53,
   "id": "9be23e58-8469-4b2d-b78f-111cde920f55",
   "metadata": {},
   "outputs": [
    {
     "name": "stdout",
     "output_type": "stream",
     "text": [
      "{'model__C': 166.81005372000558, 'model__penalty': 'l2'}\n"
     ]
    }
   ],
   "source": [
    "print(grid_lr.best_params_)"
   ]
  },
  {
   "cell_type": "code",
   "execution_count": 54,
   "id": "b1d01191-fe0b-4f5f-8782-b7062a13b7da",
   "metadata": {},
   "outputs": [
    {
     "name": "stdout",
     "output_type": "stream",
     "text": [
      "0.9825641025641026\n"
     ]
    }
   ],
   "source": [
    "print(grid_lr.best_score_)"
   ]
  },
  {
   "cell_type": "code",
   "execution_count": 55,
   "id": "e5d94d85-dc13-4c38-914f-c4679719286f",
   "metadata": {},
   "outputs": [],
   "source": [
    "best_model = grid_lr.best_estimator_"
   ]
  },
  {
   "cell_type": "code",
   "execution_count": 56,
   "id": "e66e3108-6c62-4803-9eaa-4e0ef5ff4a67",
   "metadata": {},
   "outputs": [],
   "source": [
    "predict = best_model.predict(x_test)\n",
    "predict_proba = best_model.predict_proba(x_test)"
   ]
  },
  {
   "cell_type": "markdown",
   "id": "d835718b-593c-4c96-a67d-458accfb9567",
   "metadata": {},
   "source": [
    "## Model Evaluation"
   ]
  },
  {
   "cell_type": "code",
   "execution_count": 57,
   "id": "d1e19f7f-fcb4-47bd-b211-49d93d444b2e",
   "metadata": {},
   "outputs": [
    {
     "name": "stdout",
     "output_type": "stream",
     "text": [
      "              precision    recall  f1-score   support\n",
      "\n",
      "           0       0.98      0.99      0.99       724\n",
      "           1       0.96      0.88      0.92       112\n",
      "\n",
      "    accuracy                           0.98       836\n",
      "   macro avg       0.97      0.93      0.95       836\n",
      "weighted avg       0.98      0.98      0.98       836\n",
      "\n"
     ]
    }
   ],
   "source": [
    "print(classification_report(y_test , predict))"
   ]
  },
  {
   "cell_type": "code",
   "execution_count": 58,
   "id": "3d632491-daa1-4046-ab00-3dc4ba15ec8f",
   "metadata": {},
   "outputs": [
    {
     "data": {
      "image/png": "[encoded data removed]",
      "text/plain": [
       "<Figure size 432x288 with 1 Axes>"
      ]
     },
     "metadata": {},
     "output_type": "display_data"
    }
   ],
   "source": [
    "sns.heatmap(confusion_matrix(y_test , predict), annot=True , fmt='.0f' , cmap='Reds' , cbar=False , center=350)\n",
    "plt.title('Logistic Regression\\nConfusion Matrix')\n",
    "plt.xlabel('Prediction')\n",
    "plt.ylabel('Actuality');"
   ]
  },
  {
   "cell_type": "code",
   "execution_count": 59,
   "id": "9edc3190-1982-4810-8c20-85546d087ad3",
   "metadata": {},
   "outputs": [],
   "source": [
    "tpr , fpr , ths = roc_curve(y_test , predict_proba[:,1])"
   ]
  },
  {
   "cell_type": "code",
   "execution_count": 60,
   "id": "b5311851-13f2-49e3-b706-00d94185d0a0",
   "metadata": {},
   "outputs": [
    {
     "data": {
      "image/png": "[encoded data removed]",
      "text/plain": [
       "<Figure size 432x288 with 1 Axes>"
      ]
     },
     "metadata": {},
     "output_type": "display_data"
    }
   ],
   "source": [
    "plt.plot(tpr , fpr , label=f'AUC={roc_auc_score(y_test , predict_proba[:,1]).round(4)}' , color='Red')\n",
    "plt.plot([0,1] , [0,1] , 'o--' , color='0.5')\n",
    "plt.title('Logistic Regression\\nROC Curve')\n",
    "plt.xlabel('False Positive Rate')\n",
    "plt.ylabel('True Positive Rate')\n",
    "plt.legend();"
   ]
  },
  {
   "cell_type": "code",
   "execution_count": 61,
   "id": "05dc75fb-fc42-4f60-8865-ef31d1145a0f",
   "metadata": {},
   "outputs": [
    {
     "data": {
      "image/png": "[encoded data removed]",
      "text/plain": [
       "<Figure size 432x288 with 1 Axes>"
      ]
     },
     "metadata": {},
     "output_type": "display_data"
    }
   ],
   "source": [
    "plot_precision_recall_curve(best_model , x_test , y_test , name='Logistic Regression')\n",
    "plt.title('Logistic Regression\\nPrecision Recall Curve')\n",
    "plt.xlabel('Recall')\n",
    "plt.ylabel('Precision');"
   ]
  },
  {
   "cell_type": "code",
   "execution_count": 62,
   "id": "de4ac207-b48e-436f-a9cd-4954e693b767",
   "metadata": {},
   "outputs": [
    {
     "data": {
      "text/plain": [
       "(6754, 7424)"
      ]
     },
     "execution_count": 62,
     "metadata": {},
     "output_type": "execute_result"
    }
   ],
   "source": [
    "x_train_sample.shape"
   ]
  },
  {
   "cell_type": "markdown",
   "id": "f6065a16-6d1c-4d6d-a4d1-481fe884918c",
   "metadata": {},
   "source": [
    "#### จากข้อมูลชุดฝึก พบว่ามี feature 7424 ซึ่งเยอะมาก ลองทำการจำนวน feature ลงเหลือ 50"
   ]
  },
  {
   "cell_type": "code",
   "execution_count": 63,
   "id": "d479bfa2-0ad2-4d53-9a57-67086217e7da",
   "metadata": {},
   "outputs": [],
   "source": [
    "pipe_decom = Pipeline([\n",
    "    ('vectorizer' , tfid) , \n",
    "    ('oversampling' , smote) ,\n",
    "    ('decompos' , TruncatedSVD(n_components=50)),\n",
    "    ('model' , lr)\n",
    "])"
   ]
  },
  {
   "cell_type": "code",
   "execution_count": 65,
   "id": "b8dd0c68-4a29-45f6-982f-ab54673a0312",
   "metadata": {},
   "outputs": [
    {
     "data": {
      "text/plain": [
       "Pipeline(steps=[('vectorizer', TfidfVectorizer(stop_words='english')),\n",
       "                ('oversampling', SMOTE()),\n",
       "                ('decompos', TruncatedSVD(n_components=50)),\n",
       "                ('model', LogisticRegression(max_iter=1000, n_jobs=-1))])"
      ]
     },
     "execution_count": 65,
     "metadata": {},
     "output_type": "execute_result"
    }
   ],
   "source": [
    "pipe_decom.fit(x_train , y_train)"
   ]
  },
  {
   "cell_type": "code",
   "execution_count": 66,
   "id": "bd904235-7b99-4d9c-b53b-27c5e79d2a08",
   "metadata": {},
   "outputs": [],
   "source": [
    "decom_pred = pipe_decom.predict(x_test)\n",
    "decom_pred_proba = pipe_decom.predict_proba(x_test)"
   ]
  },
  {
   "cell_type": "code",
   "execution_count": 67,
   "id": "365ca150-068d-43f4-b152-b349c16e74e6",
   "metadata": {},
   "outputs": [
    {
     "data": {
      "image/png": "[encoded data removed]",
      "text/plain": [
       "<Figure size 432x288 with 1 Axes>"
      ]
     },
     "metadata": {},
     "output_type": "display_data"
    }
   ],
   "source": [
    "sns.heatmap(confusion_matrix(decom_pred , y_test), annot=True , fmt='.0f' , cmap='Greens' , cbar=False , center=350)\n",
    "plt.title('Logistic Regression Confusion Matrix\\nWith Decomposition n_components=50')\n",
    "plt.xlabel('Prediction')\n",
    "plt.ylabel('Actuality');"
   ]
  },
  {
   "cell_type": "code",
   "execution_count": 68,
   "id": "854771f3-e2b4-4e38-8b7f-91cd38ab9196",
   "metadata": {},
   "outputs": [
    {
     "name": "stdout",
     "output_type": "stream",
     "text": [
      "              precision    recall  f1-score   support\n",
      "\n",
      "           0       0.97      0.97      0.97       720\n",
      "           1       0.83      0.80      0.82       116\n",
      "\n",
      "    accuracy                           0.95       836\n",
      "   macro avg       0.90      0.89      0.89       836\n",
      "weighted avg       0.95      0.95      0.95       836\n",
      "\n"
     ]
    }
   ],
   "source": [
    "print(classification_report(decom_pred , y_test))"
   ]
  },
  {
   "cell_type": "markdown",
   "id": "56aff3ad-c14c-4529-87f9-19e68d4c9804",
   "metadata": {},
   "source": [
    "#### การลดมิติข้อมูลจาก 7424 features เหลือ 50 features พบว่าความแม่นยำลดลงเล็กน้อย \n",
    "#### แต่เราสามารถลด features ลงไป 148 เท่า !!!"
   ]
  },
  {
   "cell_type": "code",
   "execution_count": null,
   "id": "8978233d-3792-4a9d-9d8d-58a5858cab38",
   "metadata": {},
   "outputs": [],
   "source": []
  }
 ],
 "metadata": {
  "kernelspec": {
   "display_name": "Python 3",
   "language": "python",
   "name": "python3"
  },
  "language_info": {
   "codemirror_mode": {
    "name": "ipython",
    "version": 3
   },
   "file_extension": ".py",
   "mimetype": "text/x-python",
   "name": "python",
   "nbconvert_exporter": "python",
   "pygments_lexer": "ipython3",
   "version": "3.9.1"
  }
 },
 "nbformat": 4,
 "nbformat_minor": 5
}
